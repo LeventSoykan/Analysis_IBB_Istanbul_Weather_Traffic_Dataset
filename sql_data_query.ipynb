{
 "cells": [
  {
   "cell_type": "code",
   "execution_count": 9,
   "id": "ac015a8a",
   "metadata": {},
   "outputs": [],
   "source": [
    "import requests\n",
    "import pandas as pd\n",
    "import json"
   ]
  },
  {
   "cell_type": "code",
   "execution_count": 100,
   "id": "2696c3ba",
   "metadata": {},
   "outputs": [],
   "source": [
    "sql_query = f'SELECT \"OBSERVATORY_NAME\", AVG(CAST(\"AVERAGE_HUMIDITY\" AS numeric)) AS AVERAGE_HUMIDITY FROM \"{table}\" GROUP BY \"OBSERVATORY_NAME\"'"
   ]
  },
  {
   "cell_type": "code",
   "execution_count": 101,
   "id": "c7e86e60",
   "metadata": {},
   "outputs": [],
   "source": [
    "def run_sql(sql_query, table):\n",
    "    source = requests.get(f'https://data.ibb.gov.tr/api/3/action/datastore_search_sql?sql={sql_query}')\n",
    "    return pd.DataFrame(json.loads(source.text)['result']['records'])"
   ]
  },
  {
   "cell_type": "code",
   "execution_count": 102,
   "id": "4de78217",
   "metadata": {},
   "outputs": [
    {
     "data": {
      "text/html": [
       "<div>\n",
       "<style scoped>\n",
       "    .dataframe tbody tr th:only-of-type {\n",
       "        vertical-align: middle;\n",
       "    }\n",
       "\n",
       "    .dataframe tbody tr th {\n",
       "        vertical-align: top;\n",
       "    }\n",
       "\n",
       "    .dataframe thead th {\n",
       "        text-align: right;\n",
       "    }\n",
       "</style>\n",
       "<table border=\"1\" class=\"dataframe\">\n",
       "  <thead>\n",
       "    <tr style=\"text-align: right;\">\n",
       "      <th></th>\n",
       "      <th>OBSERVATORY_NAME</th>\n",
       "      <th>average_humidity</th>\n",
       "    </tr>\n",
       "  </thead>\n",
       "  <tbody>\n",
       "    <tr>\n",
       "      <th>0</th>\n",
       "      <td>USKUDAR_MGM</td>\n",
       "      <td>58.7418314447592068</td>\n",
       "    </tr>\n",
       "    <tr>\n",
       "      <th>1</th>\n",
       "      <td>HACIOSMAN_SARIYER</td>\n",
       "      <td>85.6568283557951482</td>\n",
       "    </tr>\n",
       "    <tr>\n",
       "      <th>2</th>\n",
       "      <td>UMRANIYE</td>\n",
       "      <td>98.9065192972972973</td>\n",
       "    </tr>\n",
       "    <tr>\n",
       "      <th>3</th>\n",
       "      <td>SAMANDIRA</td>\n",
       "      <td>79.1235643201133144</td>\n",
       "    </tr>\n",
       "    <tr>\n",
       "      <th>4</th>\n",
       "      <td>CAMLICA_TUNEL_K</td>\n",
       "      <td>81.0827643918918919</td>\n",
       "    </tr>\n",
       "    <tr>\n",
       "      <th>...</th>\n",
       "      <td>...</td>\n",
       "      <td>...</td>\n",
       "    </tr>\n",
       "    <tr>\n",
       "      <th>71</th>\n",
       "      <td>UMRANIYE_MGM</td>\n",
       "      <td>79.6602489093484419</td>\n",
       "    </tr>\n",
       "    <tr>\n",
       "      <th>72</th>\n",
       "      <td>HALIC</td>\n",
       "      <td>73.3140450490883590</td>\n",
       "    </tr>\n",
       "    <tr>\n",
       "      <th>73</th>\n",
       "      <td>SILIVRI_ORMAN_SAHASI</td>\n",
       "      <td>82.6890168882602546</td>\n",
       "    </tr>\n",
       "    <tr>\n",
       "      <th>74</th>\n",
       "      <td>SILE_2</td>\n",
       "      <td>74.5322740876944837</td>\n",
       "    </tr>\n",
       "    <tr>\n",
       "      <th>75</th>\n",
       "      <td>BEYKOZ_ANADOLU_FENERI</td>\n",
       "      <td>81.4103931029411765</td>\n",
       "    </tr>\n",
       "  </tbody>\n",
       "</table>\n",
       "<p>76 rows × 2 columns</p>\n",
       "</div>"
      ],
      "text/plain": [
       "         OBSERVATORY_NAME     average_humidity\n",
       "0             USKUDAR_MGM  58.7418314447592068\n",
       "1       HACIOSMAN_SARIYER  85.6568283557951482\n",
       "2                UMRANIYE  98.9065192972972973\n",
       "3               SAMANDIRA  79.1235643201133144\n",
       "4         CAMLICA_TUNEL_K  81.0827643918918919\n",
       "..                    ...                  ...\n",
       "71           UMRANIYE_MGM  79.6602489093484419\n",
       "72                  HALIC  73.3140450490883590\n",
       "73   SILIVRI_ORMAN_SAHASI  82.6890168882602546\n",
       "74                 SILE_2  74.5322740876944837\n",
       "75  BEYKOZ_ANADOLU_FENERI  81.4103931029411765\n",
       "\n",
       "[76 rows x 2 columns]"
      ]
     },
     "execution_count": 102,
     "metadata": {},
     "output_type": "execute_result"
    }
   ],
   "source": [
    "run_sql(sql_query, \"8ca0081a-333c-4e86-8ea2-ab8741bbfc95\")"
   ]
  },
  {
   "cell_type": "code",
   "execution_count": 95,
   "id": "d3f7c10c",
   "metadata": {},
   "outputs": [],
   "source": [
    "table = \"8ca0081a-333c-4e86-8ea2-ab8741bbfc95\"\n",
    "sql_query = f'SELECT \"OBSERVATORY_NAME\", AVG(CAST(\"AVERAGE_HUMIDITY\" AS numeric)) AS AVERAGE_HUMIDITY FROM \"{table}\" GROUP BY \"OBSERVATORY_NAME\"'\n",
    "url = f'https://data.ibb.gov.tr/api/3/action/datastore_search_sql?sql={sql_query}'  \n",
    "source = requests.get(url)"
   ]
  },
  {
   "cell_type": "code",
   "execution_count": 96,
   "id": "c0cbb552",
   "metadata": {},
   "outputs": [
    {
     "data": {
      "text/plain": [
       "'{\"help\": \"https://data.ibb.gov.tr/api/3/action/help_show?name=datastore_search_sql\", \"success\": true, \"result\": {\"records\": [{\"OBSERVATORY_NAME\": \"USKUDAR_MGM\", \"average_humidity\": \"58.7418314447592068\"}, {\"OBSERVATORY_NAME\": \"HACIOSMAN_SARIYER\", \"average_humidity\": \"85.6568283557951482\"}, {\"OBSERVATORY_NAME\": \"UMRANIYE\", \"average_humidity\": \"98.9065192972972973\"}, {\"OBSERVATORY_NAME\": \"SAMANDIRA\", \"average_humidity\": \"79.1235643201133144\"}, {\"OBSERVATORY_NAME\": \"CAMLICA_TUNEL_K\", \"average_humidity\": \"81.0827643918918919\"}, {\"OBSERVATORY_NAME\": \"ISTOC_MAHMUTBEY\", \"average_humidity\": \"84.1070794126738794\"}, {\"OBSERVATORY_NAME\": \"BEYKOZ_MGM\", \"average_humidity\": \"83.2055792644978784\"}, {\"OBSERVATORY_NAME\": \"B_CEKMECE_SVIRAJLARI\", \"average_humidity\": \"97.2809232558139535\"}, {\"OBSERVATORY_NAME\": \"KARTAL\", \"average_humidity\": \"76.1277713031161473\"}, {\"OBSERVATORY_NAME\": \"SANCAKTEPE_MGM\", \"average_humidity\": \"87.5260192128279883\"}, {\"OBSERVATORY_NAME\": \"ZEKERIYAKOY\", \"average_humidity\": \"81.8291482162162162\"}, {\"OBSERVATORY_NAME\": \"DURUSU\", \"average_humidity\": \"81.4265076971608833\"}, {\"OBSERVATORY_NAME\": \"PASAKOY\", \"average_humidity\": \"81.4651353648648649\"}, {\"OBSERVATORY_NAME\": \"AHL_BAKIRKOY\", \"average_humidity\": \"75.4835469376693767\"}, {\"OBSERVATORY_NAME\": \"ESENLER\", \"average_humidity\": \"83.3246473615160350\"}, {\"OBSERVATORY_NAME\": \"KADIKOY_GOZTEPE_MGM\", \"average_humidity\": \"69.4798901128668172\"}, {\"OBSERVATORY_NAME\": \"CAMLICA_TUNEL_G\", \"average_humidity\": \"82.4912096486486486\"}, {\"OBSERVATORY_NAME\": \"MASLAK_ITU\", \"average_humidity\": \"77.7575949255751015\"}, {\"OBSERVATORY_NAME\": \"BUYUKADA\", \"average_humidity\": \"81.8853093108108108\"}, {\"OBSERVATORY_NAME\": \"PENDIK\", \"average_humidity\": \"69.9925286332882273\"}, {\"OBSERVATORY_NAME\": \"TERKOS\", \"average_humidity\": \"92.8687520297699594\"}, {\"OBSERVATORY_NAME\": \"SARIYER_ITU_MASLAK\", \"average_humidity\": \"76.7306468130311615\"}, {\"OBSERVATORY_NAME\": \"BASAKSEHIR\", \"average_humidity\": \"82.0702188075880759\"}, {\"OBSERVATORY_NAME\": \"ODAYERI\", \"average_humidity\": \"81.3295079864864865\"}, {\"OBSERVATORY_NAME\": \"SISL_MGM\", \"average_humidity\": \"81.6275614447592068\"}, {\"OBSERVATORY_NAME\": \"RIVA_TUNEL_K\", \"average_humidity\": \"80.7226423648648649\"}, {\"OBSERVATORY_NAME\": \"KAMILOBA\", \"average_humidity\": \"48.8607219891745602\"}, {\"OBSERVATORY_NAME\": \"YSS_KOPRUSU\", \"average_humidity\": \"72.7592441621621622\"}, {\"OBSERVATORY_NAME\": \"CAVUSBASI\", \"average_humidity\": \"84.8077528048780488\"}, {\"OBSERVATORY_NAME\": \"G_O_PASA\", \"average_humidity\": \"99.9994740387722132\"}, {\"OBSERVATORY_NAME\": \"CEKMEKOY_OMERLI_MGM\", \"average_humidity\": \"70.9377529137199434\"}, {\"OBSERVATORY_NAME\": \"CIFTALAN\", \"average_humidity\": \"78.6083341216216216\"}, {\"OBSERVATORY_NAME\": \"BAHCESEHIR_I_KULE\", \"average_humidity\": \"81.9332643681318681\"}, {\"OBSERVATORY_NAME\": \"TERKOS_BARAJI\", \"average_humidity\": \"78.9546562093352192\"}, {\"OBSERVATORY_NAME\": \"EMINONU\", \"average_humidity\": \"68.8513334824902724\"}, {\"OBSERVATORY_NAME\": \"SILE\", \"average_humidity\": \"85.0385431571815718\"}, {\"OBSERVATORY_NAME\": \"GUNGOREN_DAVUTPASA_MARMARA\", \"average_humidity\": \"76.3201487931034483\"}, {\"OBSERVATORY_NAME\": \"SARIYER\", \"average_humidity\": \"82.8925486118980170\"}, {\"OBSERVATORY_NAME\": \"BEYLKDUZU_MGM\", \"average_humidity\": \"82.8436182102272727\"}, {\"OBSERVATORY_NAME\": \"ARNAVUTKOY_MGM\", \"average_humidity\": \"81.3274638330975955\"}, {\"OBSERVATORY_NAME\": \"SARIYER_YSS_KOPRU_MGM\", \"average_humidity\": \"83.3120593917963225\"}, {\"OBSERVATORY_NAME\": \"ARNAVUTKOY\", \"average_humidity\": \"82.4868119398907104\"}, {\"OBSERVATORY_NAME\": \"SILE_DARLIK\", \"average_humidity\": \"83.8400511598302687\"}, {\"OBSERVATORY_NAME\": \"OLIMPIYAT\", \"average_humidity\": \"90.9225944925575101\"}, {\"OBSERVATORY_NAME\": \"SUREYYAPASA\", \"average_humidity\": \"71.9673066351351351\"}, {\"OBSERVATORY_NAME\": \"PENDIK_OMERL_BARAJI\", \"average_humidity\": \"85.2158075247524752\"}, {\"OBSERVATORY_NAME\": \"EYUP_MGM\", \"average_humidity\": \"85.5724277652050919\"}, {\"OBSERVATORY_NAME\": \"GOZTEPE\", \"average_humidity\": \"74.4870343484419263\"}, {\"OBSERVATORY_NAME\": \"BEYLIKDUZU_H_DERE\", \"average_humidity\": \"72.8218372153635117\"}, {\"OBSERVATORY_NAME\": \"RIVA_TUNEL_G\", \"average_humidity\": \"82.5129850810810811\"}, {\"OBSERVATORY_NAME\": \"CANTA\", \"average_humidity\": \"99.2404388059701493\"}, {\"OBSERVATORY_NAME\": \"FLORYA\", \"average_humidity\": \"77.2873720202020202\"}, {\"OBSERVATORY_NAME\": \"SILE_ISAKOY\", \"average_humidity\": \"85.4830898441926346\"}, {\"OBSERVATORY_NAME\": \"BAYRAMOGLU_TUZLA\", \"average_humidity\": \"76.1120923333333333\"}, {\"OBSERVATORY_NAME\": \"KILYOS\", \"average_humidity\": \"72.9860703682719547\"}, {\"OBSERVATORY_NAME\": \"SABIHAGOKCEN\", \"average_humidity\": \"81.6835328108108108\"}, {\"OBSERVATORY_NAME\": \"BEYKOZ\", \"average_humidity\": \"84.6554266078697422\"}, {\"OBSERVATORY_NAME\": \"CATALCA\", \"average_humidity\": \"75.7763306506364922\"}, {\"OBSERVATORY_NAME\": \"SILIVRI_MGM\", \"average_humidity\": \"86.6765333286118980\"}, {\"OBSERVATORY_NAME\": \"HADIMKOY\", \"average_humidity\": \"83.9354439295392954\"}, {\"OBSERVATORY_NAME\": \"SELIMPASA_KAVAKLI\", \"average_humidity\": \"85.5082749105914718\"}, {\"OBSERVATORY_NAME\": \"SUBASI\", \"average_humidity\": \"79.5467528513513514\"}, {\"OBSERVATORY_NAME\": \"TUZLA_MGM\", \"average_humidity\": \"81.6512196605374823\"}, {\"OBSERVATORY_NAME\": \"KARTAL_U_MUMCU\", \"average_humidity\": \"86.4107112313937754\"}, {\"OBSERVATORY_NAME\": \"BESIKTAS_YILDIZ\", \"average_humidity\": \"77.5338913802816901\"}, {\"OBSERVATORY_NAME\": \"CATALCA_MGM\", \"average_humidity\": \"70.9680254687500000\"}, {\"OBSERVATORY_NAME\": \"KARTAL_AYDOS_DAGI\", \"average_humidity\": \"77.6135225035360679\"}, {\"OBSERVATORY_NAME\": \"ATASEHIR\", \"average_humidity\": \"86.7613635723951286\"}, {\"OBSERVATORY_NAME\": \"CAMLICA_LIBADIYE\", \"average_humidity\": \"92.5908413378378378\"}, {\"OBSERVATORY_NAME\": \"BUYUKCEKMECE_MGM\", \"average_humidity\": \"85.4555038896746818\"}, {\"OBSERVATORY_NAME\": \"AKOM\", \"average_humidity\": \"77.3565176693766938\"}, {\"OBSERVATORY_NAME\": \"UMRANIYE_MGM\", \"average_humidity\": \"79.6602489093484419\"}, {\"OBSERVATORY_NAME\": \"HALIC\", \"average_humidity\": \"73.3140450490883590\"}, {\"OBSERVATORY_NAME\": \"SILIVRI_ORMAN_SAHASI\", \"average_humidity\": \"82.6890168882602546\"}, {\"OBSERVATORY_NAME\": \"SILE_2\", \"average_humidity\": \"74.5322740876944837\"}, {\"OBSERVATORY_NAME\": \"BEYKOZ_ANADOLU_FENERI\", \"average_humidity\": \"81.4103931029411765\"}], \"fields\": [{\"type\": \"text\", \"id\": \"OBSERVATORY_NAME\"}, {\"type\": \"numeric\", \"id\": \"average_humidity\"}], \"sql\": \"SELECT \\\\\"OBSERVATORY_NAME\\\\\", AVG(CAST(\\\\\"AVERAGE_HUMIDITY\\\\\" AS numeric)) AS AVERAGE_HUMIDITY FROM \\\\\"8ca0081a-333c-4e86-8ea2-ab8741bbfc95\\\\\" GROUP BY \\\\\"OBSERVATORY_NAME\\\\\"\"}}'"
      ]
     },
     "execution_count": 96,
     "metadata": {},
     "output_type": "execute_result"
    }
   ],
   "source": [
    "source.text"
   ]
  },
  {
   "cell_type": "code",
   "execution_count": 97,
   "id": "7665b8fb",
   "metadata": {},
   "outputs": [
    {
     "data": {
      "text/html": [
       "<div>\n",
       "<style scoped>\n",
       "    .dataframe tbody tr th:only-of-type {\n",
       "        vertical-align: middle;\n",
       "    }\n",
       "\n",
       "    .dataframe tbody tr th {\n",
       "        vertical-align: top;\n",
       "    }\n",
       "\n",
       "    .dataframe thead th {\n",
       "        text-align: right;\n",
       "    }\n",
       "</style>\n",
       "<table border=\"1\" class=\"dataframe\">\n",
       "  <thead>\n",
       "    <tr style=\"text-align: right;\">\n",
       "      <th></th>\n",
       "      <th>type</th>\n",
       "      <th>id</th>\n",
       "    </tr>\n",
       "  </thead>\n",
       "  <tbody>\n",
       "    <tr>\n",
       "      <th>0</th>\n",
       "      <td>text</td>\n",
       "      <td>OBSERVATORY_NAME</td>\n",
       "    </tr>\n",
       "    <tr>\n",
       "      <th>1</th>\n",
       "      <td>numeric</td>\n",
       "      <td>average_humidity</td>\n",
       "    </tr>\n",
       "  </tbody>\n",
       "</table>\n",
       "</div>"
      ],
      "text/plain": [
       "      type                id\n",
       "0     text  OBSERVATORY_NAME\n",
       "1  numeric  average_humidity"
      ]
     },
     "execution_count": 97,
     "metadata": {},
     "output_type": "execute_result"
    }
   ],
   "source": [
    "pd.DataFrame(json.loads(source.text)['result']['fields'])"
   ]
  },
  {
   "cell_type": "code",
   "execution_count": 98,
   "id": "42a8ad12",
   "metadata": {},
   "outputs": [
    {
     "data": {
      "text/html": [
       "<div>\n",
       "<style scoped>\n",
       "    .dataframe tbody tr th:only-of-type {\n",
       "        vertical-align: middle;\n",
       "    }\n",
       "\n",
       "    .dataframe tbody tr th {\n",
       "        vertical-align: top;\n",
       "    }\n",
       "\n",
       "    .dataframe thead th {\n",
       "        text-align: right;\n",
       "    }\n",
       "</style>\n",
       "<table border=\"1\" class=\"dataframe\">\n",
       "  <thead>\n",
       "    <tr style=\"text-align: right;\">\n",
       "      <th></th>\n",
       "      <th>OBSERVATORY_NAME</th>\n",
       "      <th>average_humidity</th>\n",
       "    </tr>\n",
       "  </thead>\n",
       "  <tbody>\n",
       "    <tr>\n",
       "      <th>0</th>\n",
       "      <td>USKUDAR_MGM</td>\n",
       "      <td>58.7418314447592068</td>\n",
       "    </tr>\n",
       "    <tr>\n",
       "      <th>1</th>\n",
       "      <td>HACIOSMAN_SARIYER</td>\n",
       "      <td>85.6568283557951482</td>\n",
       "    </tr>\n",
       "    <tr>\n",
       "      <th>2</th>\n",
       "      <td>UMRANIYE</td>\n",
       "      <td>98.9065192972972973</td>\n",
       "    </tr>\n",
       "    <tr>\n",
       "      <th>3</th>\n",
       "      <td>SAMANDIRA</td>\n",
       "      <td>79.1235643201133144</td>\n",
       "    </tr>\n",
       "    <tr>\n",
       "      <th>4</th>\n",
       "      <td>CAMLICA_TUNEL_K</td>\n",
       "      <td>81.0827643918918919</td>\n",
       "    </tr>\n",
       "    <tr>\n",
       "      <th>...</th>\n",
       "      <td>...</td>\n",
       "      <td>...</td>\n",
       "    </tr>\n",
       "    <tr>\n",
       "      <th>71</th>\n",
       "      <td>UMRANIYE_MGM</td>\n",
       "      <td>79.6602489093484419</td>\n",
       "    </tr>\n",
       "    <tr>\n",
       "      <th>72</th>\n",
       "      <td>HALIC</td>\n",
       "      <td>73.3140450490883590</td>\n",
       "    </tr>\n",
       "    <tr>\n",
       "      <th>73</th>\n",
       "      <td>SILIVRI_ORMAN_SAHASI</td>\n",
       "      <td>82.6890168882602546</td>\n",
       "    </tr>\n",
       "    <tr>\n",
       "      <th>74</th>\n",
       "      <td>SILE_2</td>\n",
       "      <td>74.5322740876944837</td>\n",
       "    </tr>\n",
       "    <tr>\n",
       "      <th>75</th>\n",
       "      <td>BEYKOZ_ANADOLU_FENERI</td>\n",
       "      <td>81.4103931029411765</td>\n",
       "    </tr>\n",
       "  </tbody>\n",
       "</table>\n",
       "<p>76 rows × 2 columns</p>\n",
       "</div>"
      ],
      "text/plain": [
       "         OBSERVATORY_NAME     average_humidity\n",
       "0             USKUDAR_MGM  58.7418314447592068\n",
       "1       HACIOSMAN_SARIYER  85.6568283557951482\n",
       "2                UMRANIYE  98.9065192972972973\n",
       "3               SAMANDIRA  79.1235643201133144\n",
       "4         CAMLICA_TUNEL_K  81.0827643918918919\n",
       "..                    ...                  ...\n",
       "71           UMRANIYE_MGM  79.6602489093484419\n",
       "72                  HALIC  73.3140450490883590\n",
       "73   SILIVRI_ORMAN_SAHASI  82.6890168882602546\n",
       "74                 SILE_2  74.5322740876944837\n",
       "75  BEYKOZ_ANADOLU_FENERI  81.4103931029411765\n",
       "\n",
       "[76 rows x 2 columns]"
      ]
     },
     "execution_count": 98,
     "metadata": {},
     "output_type": "execute_result"
    }
   ],
   "source": [
    "pd.DataFrame(json.loads(source.text)['result']['records'])"
   ]
  },
  {
   "cell_type": "code",
   "execution_count": null,
   "id": "253227c9",
   "metadata": {},
   "outputs": [],
   "source": []
  }
 ],
 "metadata": {
  "kernelspec": {
   "display_name": "Python 3 (ipykernel)",
   "language": "python",
   "name": "python3"
  },
  "language_info": {
   "codemirror_mode": {
    "name": "ipython",
    "version": 3
   },
   "file_extension": ".py",
   "mimetype": "text/x-python",
   "name": "python",
   "nbconvert_exporter": "python",
   "pygments_lexer": "ipython3",
   "version": "3.9.2"
  }
 },
 "nbformat": 4,
 "nbformat_minor": 5
}
