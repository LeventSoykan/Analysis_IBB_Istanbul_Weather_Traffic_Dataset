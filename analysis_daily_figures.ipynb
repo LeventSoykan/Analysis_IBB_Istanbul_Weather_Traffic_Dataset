{
 "cells": [
  {
   "cell_type": "code",
   "execution_count": 1,
   "metadata": {},
   "outputs": [],
   "source": [
    "import pandas as pd\n",
    "import numpy as np"
   ]
  },
  {
   "cell_type": "code",
   "execution_count": 3,
   "metadata": {},
   "outputs": [],
   "source": [
    "weather = pd.read_csv('weather_daily_agg.csv')\n",
    "traffic = pd.read_csv('traffic_daily_agg.csv')"
   ]
  },
  {
   "cell_type": "code",
   "execution_count": 4,
   "metadata": {},
   "outputs": [
    {
     "name": "stdout",
     "output_type": "stream",
     "text": [
      "<class 'pandas.core.frame.DataFrame'>\n",
      "RangeIndex: 420 entries, 0 to 419\n",
      "Data columns (total 22 columns):\n",
      " #   Column                    Non-Null Count  Dtype  \n",
      "---  ------                    --------------  -----  \n",
      " 0   AVERAGE_FELT_TEMPERATURE  420 non-null    object \n",
      " 1   AVERAGE_ROAD_TEMPERATURE  420 non-null    object \n",
      " 2   MINIMUM_FELT_TEMPERATURE  420 non-null    object \n",
      " 3   DATE                      418 non-null    object \n",
      " 4   MINIMUM_PRECIPITATION     418 non-null    float64\n",
      " 5   MAXIMUM_HUMIDITY          418 non-null    float64\n",
      " 6   MAXIMUM_FELT_TEMPERATURE  418 non-null    float64\n",
      " 7   MAXIMUM_PRECIPITATION     418 non-null    float64\n",
      " 8   MAXIMUM_TEMPERATURE       418 non-null    float64\n",
      " 9   AVERAGE_HUMIDITY          418 non-null    float64\n",
      " 10  AVERAGE_WIND              418 non-null    float64\n",
      " 11  AVERAGE_DIRECTIONOFWIND   418 non-null    float64\n",
      " 12  MINIMUM_TEMPERATURE       418 non-null    float64\n",
      " 13  AVERAGE_TEMPERATURE       418 non-null    float64\n",
      " 14  MAXIMUM_ROAD_TEMPERATURE  418 non-null    float64\n",
      " 15  MINIMUM_HUMIDITY          418 non-null    float64\n",
      " 16  MINIMUM_DIRECTIONOFWIND   418 non-null    float64\n",
      " 17  MINIMUM_WIND              418 non-null    float64\n",
      " 18  MAXIMUM_DIRECTIONOFWIND   418 non-null    float64\n",
      " 19  MINIMUM_ROAD_TEMPERATURE  418 non-null    float64\n",
      " 20  MAXIMUM_WIND              418 non-null    float64\n",
      " 21  AVERAGE_PRECIPITATION     418 non-null    float64\n",
      "dtypes: float64(18), object(4)\n",
      "memory usage: 72.3+ KB\n"
     ]
    }
   ],
   "source": [
    "weather.info()"
   ]
  },
  {
   "cell_type": "code",
   "execution_count": 7,
   "metadata": {},
   "outputs": [
    {
     "data": {
      "text/html": [
       "<div>\n",
       "<style scoped>\n",
       "    .dataframe tbody tr th:only-of-type {\n",
       "        vertical-align: middle;\n",
       "    }\n",
       "\n",
       "    .dataframe tbody tr th {\n",
       "        vertical-align: top;\n",
       "    }\n",
       "\n",
       "    .dataframe thead th {\n",
       "        text-align: right;\n",
       "    }\n",
       "</style>\n",
       "<table border=\"1\" class=\"dataframe\">\n",
       "  <thead>\n",
       "    <tr style=\"text-align: right;\">\n",
       "      <th></th>\n",
       "      <th>AVERAGE_FELT_TEMPERATURE</th>\n",
       "      <th>AVERAGE_ROAD_TEMPERATURE</th>\n",
       "      <th>MINIMUM_FELT_TEMPERATURE</th>\n",
       "      <th>DATE</th>\n",
       "      <th>MINIMUM_PRECIPITATION</th>\n",
       "      <th>MAXIMUM_HUMIDITY</th>\n",
       "      <th>MAXIMUM_FELT_TEMPERATURE</th>\n",
       "      <th>MAXIMUM_PRECIPITATION</th>\n",
       "      <th>MAXIMUM_TEMPERATURE</th>\n",
       "      <th>AVERAGE_HUMIDITY</th>\n",
       "      <th>...</th>\n",
       "      <th>MINIMUM_TEMPERATURE</th>\n",
       "      <th>AVERAGE_TEMPERATURE</th>\n",
       "      <th>MAXIMUM_ROAD_TEMPERATURE</th>\n",
       "      <th>MINIMUM_HUMIDITY</th>\n",
       "      <th>MINIMUM_DIRECTIONOFWIND</th>\n",
       "      <th>MINIMUM_WIND</th>\n",
       "      <th>MAXIMUM_DIRECTIONOFWIND</th>\n",
       "      <th>MINIMUM_ROAD_TEMPERATURE</th>\n",
       "      <th>MAXIMUM_WIND</th>\n",
       "      <th>AVERAGE_PRECIPITATION</th>\n",
       "    </tr>\n",
       "  </thead>\n",
       "  <tbody>\n",
       "    <tr>\n",
       "      <th>343</th>\n",
       "      <td>https://data.ibb.gov.tr/api/3/action/help_show...</td>\n",
       "      <td>False</td>\n",
       "      <td>Internal Server Error</td>\n",
       "      <td>NaN</td>\n",
       "      <td>NaN</td>\n",
       "      <td>NaN</td>\n",
       "      <td>NaN</td>\n",
       "      <td>NaN</td>\n",
       "      <td>NaN</td>\n",
       "      <td>NaN</td>\n",
       "      <td>...</td>\n",
       "      <td>NaN</td>\n",
       "      <td>NaN</td>\n",
       "      <td>NaN</td>\n",
       "      <td>NaN</td>\n",
       "      <td>NaN</td>\n",
       "      <td>NaN</td>\n",
       "      <td>NaN</td>\n",
       "      <td>NaN</td>\n",
       "      <td>NaN</td>\n",
       "      <td>NaN</td>\n",
       "    </tr>\n",
       "    <tr>\n",
       "      <th>344</th>\n",
       "      <td>https://data.ibb.gov.tr/api/3/action/help_show...</td>\n",
       "      <td>False</td>\n",
       "      <td>Internal Server Error</td>\n",
       "      <td>NaN</td>\n",
       "      <td>NaN</td>\n",
       "      <td>NaN</td>\n",
       "      <td>NaN</td>\n",
       "      <td>NaN</td>\n",
       "      <td>NaN</td>\n",
       "      <td>NaN</td>\n",
       "      <td>...</td>\n",
       "      <td>NaN</td>\n",
       "      <td>NaN</td>\n",
       "      <td>NaN</td>\n",
       "      <td>NaN</td>\n",
       "      <td>NaN</td>\n",
       "      <td>NaN</td>\n",
       "      <td>NaN</td>\n",
       "      <td>NaN</td>\n",
       "      <td>NaN</td>\n",
       "      <td>NaN</td>\n",
       "    </tr>\n",
       "  </tbody>\n",
       "</table>\n",
       "<p>2 rows × 22 columns</p>\n",
       "</div>"
      ],
      "text/plain": [
       "                              AVERAGE_FELT_TEMPERATURE  \\\n",
       "343  https://data.ibb.gov.tr/api/3/action/help_show...   \n",
       "344  https://data.ibb.gov.tr/api/3/action/help_show...   \n",
       "\n",
       "    AVERAGE_ROAD_TEMPERATURE MINIMUM_FELT_TEMPERATURE DATE  \\\n",
       "343                    False    Internal Server Error  NaN   \n",
       "344                    False    Internal Server Error  NaN   \n",
       "\n",
       "     MINIMUM_PRECIPITATION  MAXIMUM_HUMIDITY  MAXIMUM_FELT_TEMPERATURE  \\\n",
       "343                    NaN               NaN                       NaN   \n",
       "344                    NaN               NaN                       NaN   \n",
       "\n",
       "     MAXIMUM_PRECIPITATION  MAXIMUM_TEMPERATURE  AVERAGE_HUMIDITY  ...  \\\n",
       "343                    NaN                  NaN               NaN  ...   \n",
       "344                    NaN                  NaN               NaN  ...   \n",
       "\n",
       "     MINIMUM_TEMPERATURE  AVERAGE_TEMPERATURE  MAXIMUM_ROAD_TEMPERATURE  \\\n",
       "343                  NaN                  NaN                       NaN   \n",
       "344                  NaN                  NaN                       NaN   \n",
       "\n",
       "     MINIMUM_HUMIDITY  MINIMUM_DIRECTIONOFWIND  MINIMUM_WIND  \\\n",
       "343               NaN                      NaN           NaN   \n",
       "344               NaN                      NaN           NaN   \n",
       "\n",
       "     MAXIMUM_DIRECTIONOFWIND  MINIMUM_ROAD_TEMPERATURE  MAXIMUM_WIND  \\\n",
       "343                      NaN                       NaN           NaN   \n",
       "344                      NaN                       NaN           NaN   \n",
       "\n",
       "     AVERAGE_PRECIPITATION  \n",
       "343                    NaN  \n",
       "344                    NaN  \n",
       "\n",
       "[2 rows x 22 columns]"
      ]
     },
     "execution_count": 7,
     "metadata": {},
     "output_type": "execute_result"
    }
   ],
   "source": [
    "weather[weather['MAXIMUM_HUMIDITY'].isna()]"
   ]
  },
  {
   "cell_type": "code",
   "execution_count": 17,
   "metadata": {},
   "outputs": [
    {
     "data": {
      "text/plain": [
       "<PeriodArray>\n",
       "['2020-01', '2020-02', '2020-03', '2020-04', '2020-05', '2020-06', '2020-07',\n",
       " '2020-08', '2020-09', '2020-10', '2020-11', '2020-12',     'NaT', '2021-02',\n",
       " '2021-03', '2021-04']\n",
       "Length: 16, dtype: period[M]"
      ]
     },
     "execution_count": 17,
     "metadata": {},
     "output_type": "execute_result"
    }
   ],
   "source": [
    "pd.to_datetime(weather['DATE']).dt.to_period('M').unique()"
   ]
  },
  {
   "cell_type": "code",
   "execution_count": 18,
   "metadata": {},
   "outputs": [
    {
     "data": {
      "text/plain": [
       "<PeriodArray>\n",
       "['2020-01', '2020-02', '2020-03', '2020-04', '2020-05', '2020-06', '2020-07',\n",
       " '2020-08', '2020-09', '2020-10', '2020-11', '2020-12', '2021-01', '2021-02',\n",
       " '2021-03', '2021-04', '2021-05']\n",
       "Length: 17, dtype: period[M]"
      ]
     },
     "execution_count": 18,
     "metadata": {},
     "output_type": "execute_result"
    }
   ],
   "source": [
    "pd.to_datetime(traffic['DATE']).dt.to_period('M').unique()"
   ]
  },
  {
   "cell_type": "code",
   "execution_count": null,
   "metadata": {},
   "outputs": [],
   "source": []
  },
  {
   "cell_type": "code",
   "execution_count": 19,
   "metadata": {},
   "outputs": [],
   "source": [
    "import requests\n",
    "import pandas as pd\n",
    "import json\n",
    "from data_scrape import get_table_names, run_sql"
   ]
  },
  {
   "cell_type": "code",
   "execution_count": 24,
   "metadata": {},
   "outputs": [],
   "source": [
    "def weather_agg(table_id):\n",
    "    columns = run_sql('SELECT * FROM \"TABLE_PLACEHOLDER\" LIMIT 10', table_id, True)['id'].tolist()\n",
    "    col_numeric = ''\n",
    "    daily_avgs = ''\n",
    "    not_99 = ''\n",
    "    for col in columns[5:]:\n",
    "        col_numeric+= f'\"{col}\"::numeric(5,2),'\n",
    "        daily_avgs+= f'{col[:3].replace(\"E\",\"G\")}(\"{col}\")::numeric(5,2) AS \"{col}\",'\n",
    "        not_99 += f'\"{col}\"::numeric(5,2) != -99 AND '\n",
    "    col_numeric = col_numeric[:-1]     \n",
    "    daily_avgs = daily_avgs[:-1]\n",
    "    not_99 = not_99[:-5]\n",
    "    \n",
    "    sql_query = f'''\n",
    "    WITH temp_table AS (\n",
    "    SELECT DATE_TRUNC('day', \"DATE_TIME\"::date)::date AS \"DATE\", {col_numeric}\n",
    "    FROM \"TABLE_PLACEHOLDER\" \n",
    "    WHERE {not_99}\n",
    "    )\n",
    "\n",
    "    SELECT \"DATE\", {daily_avgs}\n",
    "    FROM temp_table\n",
    "    GROUP BY \"DATE\"\n",
    "    ORDER BY \"DATE\"\n",
    "    '''\n",
    "    return pd.DataFrame(run_sql(sql_query, table_id))"
   ]
  },
  {
   "cell_type": "code",
   "execution_count": 32,
   "metadata": {},
   "outputs": [],
   "source": [
    "df = weather_agg('8ca0081a-333c-4e86-8ea2-ab8741bbfc95')"
   ]
  },
  {
   "cell_type": "code",
   "execution_count": 33,
   "metadata": {},
   "outputs": [
    {
     "data": {
      "text/html": [
       "<div>\n",
       "<style scoped>\n",
       "    .dataframe tbody tr th:only-of-type {\n",
       "        vertical-align: middle;\n",
       "    }\n",
       "\n",
       "    .dataframe tbody tr th {\n",
       "        vertical-align: top;\n",
       "    }\n",
       "\n",
       "    .dataframe thead th {\n",
       "        text-align: right;\n",
       "    }\n",
       "</style>\n",
       "<table border=\"1\" class=\"dataframe\">\n",
       "  <thead>\n",
       "    <tr style=\"text-align: right;\">\n",
       "      <th></th>\n",
       "      <th>help</th>\n",
       "      <th>success</th>\n",
       "      <th>error</th>\n",
       "    </tr>\n",
       "  </thead>\n",
       "  <tbody>\n",
       "    <tr>\n",
       "      <th>__type</th>\n",
       "      <td>https://data.ibb.gov.tr/api/3/action/help_show...</td>\n",
       "      <td>False</td>\n",
       "      <td>Internal Server Error</td>\n",
       "    </tr>\n",
       "    <tr>\n",
       "      <th>message</th>\n",
       "      <td>https://data.ibb.gov.tr/api/3/action/help_show...</td>\n",
       "      <td>False</td>\n",
       "      <td>Internal Server Error</td>\n",
       "    </tr>\n",
       "  </tbody>\n",
       "</table>\n",
       "</div>"
      ],
      "text/plain": [
       "                                                      help  success  \\\n",
       "__type   https://data.ibb.gov.tr/api/3/action/help_show...    False   \n",
       "message  https://data.ibb.gov.tr/api/3/action/help_show...    False   \n",
       "\n",
       "                         error  \n",
       "__type   Internal Server Error  \n",
       "message  Internal Server Error  "
      ]
     },
     "execution_count": 33,
     "metadata": {},
     "output_type": "execute_result"
    }
   ],
   "source": [
    "df"
   ]
  },
  {
   "cell_type": "code",
   "execution_count": 40,
   "metadata": {},
   "outputs": [],
   "source": [
    "columns = run_sql('SELECT * FROM \"TABLE_PLACEHOLDER\" LIMIT 10', \"c2b69b97-e078-4b08-92ec-a4649cc54bd9\", True)['id'].tolist()\n",
    "col_numeric = ''\n",
    "daily_avgs = ''\n",
    "not_99 = ''\n",
    "for col in columns[5:]:\n",
    "    col_numeric+= f'\"{col}\"::numeric(5,2),'\n",
    "    daily_avgs+= f'{col[:3].replace(\"E\",\"G\")}(\"{col}\")::numeric(5,2) AS \"{col}\",'\n",
    "    not_99 += f'\"{col}\"::numeric(5,2) != -99 AND '\n",
    "col_numeric = col_numeric[:-1]     \n",
    "daily_avgs = daily_avgs[:-1]\n",
    "not_99 = not_99[:-5]\n",
    "\n",
    "sql_query = f'''\n",
    "WITH temp_table AS (\n",
    "SELECT DATE_TRUNC('day', \"DATE_TIME\"::date)::date AS \"DATE\", {col_numeric}\n",
    "FROM \"TABLE_PLACEHOLDER\" \n",
    "WHERE {not_99}\n",
    ")\n",
    "\n",
    "SELECT \"DATE\", {daily_avgs}\n",
    "FROM temp_table\n",
    "GROUP BY \"DATE\"\n",
    "ORDER BY \"DATE\"\n",
    "'''\n"
   ]
  },
  {
   "cell_type": "code",
   "execution_count": 41,
   "metadata": {},
   "outputs": [
    {
     "data": {
      "text/plain": [
       "['_id',\n",
       " '_full_text',\n",
       " 'DATE_TIME',\n",
       " 'OBSERVATORY_NAME',\n",
       " 'SENSOR_TYPE',\n",
       " 'MINIMUM_TEMPERATURE',\n",
       " 'MAXIMUM_TEMPERATURE',\n",
       " 'AVERAGE_TEMPERATURE',\n",
       " 'MINIMUM_HUMIDITY',\n",
       " 'MAXIMUM_HUMIDITY',\n",
       " 'AVERAGE_HUMIDITY',\n",
       " 'MINIMUM_WIND',\n",
       " 'MAXIMUM_WIND',\n",
       " 'AVERAGE_WIND',\n",
       " 'MINIMUM_DIRECTIONOFWIND',\n",
       " 'MAXIMUM_DIRECTIONOFWIND',\n",
       " 'AVERAGE_DIRECTIONOFWIND',\n",
       " 'MINIMUM_PRECIPITATION',\n",
       " 'MAXIMUM_PRECIPITATION',\n",
       " 'AVERAGE_PRECIPITATION',\n",
       " 'MINIMUM_ROAD_TEMPERATURE',\n",
       " 'MAXIMUM_ROAD_TEMPERATURE',\n",
       " 'AVERAGE_ROAD_TEMPERATURE',\n",
       " 'MINIMUM_FELT_TEMPERATURE',\n",
       " 'MAXIMUM_FELT_TEMPERATURE',\n",
       " 'AVERAGE_FELT_TEMPERATURE']"
      ]
     },
     "execution_count": 41,
     "metadata": {},
     "output_type": "execute_result"
    }
   ],
   "source": [
    "columns"
   ]
  },
  {
   "cell_type": "code",
   "execution_count": 64,
   "metadata": {},
   "outputs": [
    {
     "data": {
      "text/html": [
       "<div>\n",
       "<style scoped>\n",
       "    .dataframe tbody tr th:only-of-type {\n",
       "        vertical-align: middle;\n",
       "    }\n",
       "\n",
       "    .dataframe tbody tr th {\n",
       "        vertical-align: top;\n",
       "    }\n",
       "\n",
       "    .dataframe thead th {\n",
       "        text-align: right;\n",
       "    }\n",
       "</style>\n",
       "<table border=\"1\" class=\"dataframe\">\n",
       "  <thead>\n",
       "    <tr style=\"text-align: right;\">\n",
       "      <th></th>\n",
       "      <th>MINIMUM_TEMPERATURE</th>\n",
       "    </tr>\n",
       "  </thead>\n",
       "  <tbody>\n",
       "    <tr>\n",
       "      <th>0</th>\n",
       "      <td>-6.3</td>\n",
       "    </tr>\n",
       "    <tr>\n",
       "      <th>1</th>\n",
       "      <td>4.131</td>\n",
       "    </tr>\n",
       "    <tr>\n",
       "      <th>2</th>\n",
       "      <td>10.27</td>\n",
       "    </tr>\n",
       "    <tr>\n",
       "      <th>3</th>\n",
       "      <td>8.5</td>\n",
       "    </tr>\n",
       "    <tr>\n",
       "      <th>4</th>\n",
       "      <td>10.41</td>\n",
       "    </tr>\n",
       "    <tr>\n",
       "      <th>...</th>\n",
       "      <td>...</td>\n",
       "    </tr>\n",
       "    <tr>\n",
       "      <th>41873</th>\n",
       "      <td>10.18</td>\n",
       "    </tr>\n",
       "    <tr>\n",
       "      <th>41874</th>\n",
       "      <td>2.378</td>\n",
       "    </tr>\n",
       "    <tr>\n",
       "      <th>41875</th>\n",
       "      <td>12.65</td>\n",
       "    </tr>\n",
       "    <tr>\n",
       "      <th>41876</th>\n",
       "      <td>7.989</td>\n",
       "    </tr>\n",
       "    <tr>\n",
       "      <th>41877</th>\n",
       "      <td>-4.538</td>\n",
       "    </tr>\n",
       "  </tbody>\n",
       "</table>\n",
       "<p>41878 rows × 1 columns</p>\n",
       "</div>"
      ],
      "text/plain": [
       "      MINIMUM_TEMPERATURE\n",
       "0                    -6.3\n",
       "1                   4.131\n",
       "2                   10.27\n",
       "3                     8.5\n",
       "4                   10.41\n",
       "...                   ...\n",
       "41873               10.18\n",
       "41874               2.378\n",
       "41875               12.65\n",
       "41876               7.989\n",
       "41877              -4.538\n",
       "\n",
       "[41878 rows x 1 columns]"
      ]
     },
     "execution_count": 64,
     "metadata": {},
     "output_type": "execute_result"
    }
   ],
   "source": [
    "sql_query = f'''\n",
    "SELECT \"MINIMUM_TEMPERATURE\"\n",
    "FROM \"TABLE_PLACEHOLDER\"\n",
    "'''\n",
    "run_sql(sql_query, \"c2b69b97-e078-4b08-92ec-a4649cc54bd9\")"
   ]
  },
  {
   "cell_type": "code",
   "execution_count": 63,
   "metadata": {},
   "outputs": [
    {
     "data": {
      "text/plain": [
       "'{\"help\": \"https://data.ibb.gov.tr/api/3/action/help_show?name=datastore_search_sql\", \"success\": false, \"error\": {\"message\": \"Internal Server Error\", \"__type\": \"Internal Server Error\"}}'"
      ]
     },
     "execution_count": 63,
     "metadata": {},
     "output_type": "execute_result"
    }
   ],
   "source": [
    "sql_query = sql_query.replace('TABLE_PLACEHOLDER',\"c2b69b97-e078-4b08-92ec-a4649cc54bd9\")\n",
    "source = requests.get(f'https://data.ibb.gov.tr/api/3/action/datastore_search_sql?sql={sql_query}')\n",
    "source.text"
   ]
  },
  {
   "cell_type": "code",
   "execution_count": null,
   "metadata": {},
   "outputs": [],
   "source": []
  }
 ],
 "metadata": {
  "kernelspec": {
   "display_name": "Python 3",
   "language": "python",
   "name": "python3"
  },
  "language_info": {
   "codemirror_mode": {
    "name": "ipython",
    "version": 3
   },
   "file_extension": ".py",
   "mimetype": "text/x-python",
   "name": "python",
   "nbconvert_exporter": "python",
   "pygments_lexer": "ipython3",
   "version": "3.8.2"
  }
 },
 "nbformat": 4,
 "nbformat_minor": 4
}
