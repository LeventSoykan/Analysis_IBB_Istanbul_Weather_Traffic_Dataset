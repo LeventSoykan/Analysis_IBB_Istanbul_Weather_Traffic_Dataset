{
 "cells": [
  {
   "cell_type": "markdown",
   "metadata": {},
   "source": [
    "# FORECASTING FOR TIME SERIES\n",
    "* Load the data and get avg_number_of_vehicles\n",
    "* Explore the time series and check stationarity\n",
    "* Train test split\n",
    "* Apply seasonal arima to get forecasted traffic data\n",
    "* Plot the forecast with confidence intervals\n",
    "* Calculate metrics for forecasted and actual values"
   ]
  },
  {
   "cell_type": "code",
   "execution_count": 2,
   "metadata": {},
   "outputs": [],
   "source": [
    "#Import necessary modules\n",
    "import pandas as pd\n",
    "import numpy as np\n",
    "import matplotlib.pyplot as plt\n",
    "import seaborn as sns"
   ]
  },
  {
   "cell_type": "code",
   "execution_count": 3,
   "metadata": {},
   "outputs": [],
   "source": [
    "df = pd.read_csv('final_data.csv', parse_dates=['date'])"
   ]
  },
  {
   "cell_type": "code",
   "execution_count": 4,
   "metadata": {},
   "outputs": [
    {
     "name": "stdout",
     "output_type": "stream",
     "text": [
      "<class 'pandas.core.frame.DataFrame'>\n",
      "RangeIndex: 10323 entries, 0 to 10322\n",
      "Data columns (total 28 columns):\n",
      " #   Column                    Non-Null Count  Dtype         \n",
      "---  ------                    --------------  -----         \n",
      " 0   max_number_of_vehicles    10323 non-null  int64         \n",
      " 1   minimum_speed             10323 non-null  int64         \n",
      " 2   min_number_of_vehicles    10323 non-null  int64         \n",
      " 3   average_speed             10323 non-null  float64       \n",
      " 4   avg_number_of_vehicles    10323 non-null  float64       \n",
      " 5   maximum_speed             10323 non-null  int64         \n",
      " 6   date                      10323 non-null  datetime64[ns]\n",
      " 7   average_felt_temperature  10323 non-null  float64       \n",
      " 8   average_road_temperature  10323 non-null  float64       \n",
      " 9   minimum_felt_temperature  10323 non-null  float64       \n",
      " 10  minimum_precipitation     10323 non-null  float64       \n",
      " 11  maximum_humidity          10323 non-null  float64       \n",
      " 12  maximum_felt_temperature  10323 non-null  float64       \n",
      " 13  maximum_precipitation     10323 non-null  float64       \n",
      " 14  maximum_temperature       10323 non-null  float64       \n",
      " 15  average_humidity          10323 non-null  float64       \n",
      " 16  average_wind              10323 non-null  float64       \n",
      " 17  average_directionofwind   10323 non-null  float64       \n",
      " 18  minimum_temperature       10323 non-null  float64       \n",
      " 19  average_temperature       10323 non-null  float64       \n",
      " 20  maximum_road_temperature  10323 non-null  float64       \n",
      " 21  minimum_humidity          10323 non-null  float64       \n",
      " 22  minimum_directionofwind   10323 non-null  float64       \n",
      " 23  minimum_wind              10323 non-null  float64       \n",
      " 24  maximum_directionofwind   10323 non-null  float64       \n",
      " 25  minimum_road_temperature  10323 non-null  float64       \n",
      " 26  maximum_wind              10323 non-null  float64       \n",
      " 27  average_precipitation     10323 non-null  float64       \n",
      "dtypes: datetime64[ns](1), float64(23), int64(4)\n",
      "memory usage: 2.2 MB\n"
     ]
    }
   ],
   "source": [
    "df.info()"
   ]
  },
  {
   "cell_type": "code",
   "execution_count": 5,
   "metadata": {},
   "outputs": [
    {
     "data": {
      "text/html": [
       "<div>\n",
       "<style scoped>\n",
       "    .dataframe tbody tr th:only-of-type {\n",
       "        vertical-align: middle;\n",
       "    }\n",
       "\n",
       "    .dataframe tbody tr th {\n",
       "        vertical-align: top;\n",
       "    }\n",
       "\n",
       "    .dataframe thead th {\n",
       "        text-align: right;\n",
       "    }\n",
       "</style>\n",
       "<table border=\"1\" class=\"dataframe\">\n",
       "  <thead>\n",
       "    <tr style=\"text-align: right;\">\n",
       "      <th></th>\n",
       "      <th>max_number_of_vehicles</th>\n",
       "      <th>minimum_speed</th>\n",
       "      <th>min_number_of_vehicles</th>\n",
       "      <th>average_speed</th>\n",
       "      <th>avg_number_of_vehicles</th>\n",
       "      <th>maximum_speed</th>\n",
       "      <th>date</th>\n",
       "      <th>average_felt_temperature</th>\n",
       "      <th>average_road_temperature</th>\n",
       "      <th>minimum_felt_temperature</th>\n",
       "      <th>...</th>\n",
       "      <th>minimum_temperature</th>\n",
       "      <th>average_temperature</th>\n",
       "      <th>maximum_road_temperature</th>\n",
       "      <th>minimum_humidity</th>\n",
       "      <th>minimum_directionofwind</th>\n",
       "      <th>minimum_wind</th>\n",
       "      <th>maximum_directionofwind</th>\n",
       "      <th>minimum_road_temperature</th>\n",
       "      <th>maximum_wind</th>\n",
       "      <th>average_precipitation</th>\n",
       "    </tr>\n",
       "  </thead>\n",
       "  <tbody>\n",
       "    <tr>\n",
       "      <th>0</th>\n",
       "      <td>298</td>\n",
       "      <td>6</td>\n",
       "      <td>11</td>\n",
       "      <td>56.59</td>\n",
       "      <td>58.72</td>\n",
       "      <td>193</td>\n",
       "      <td>2020-01-01 00:00:00</td>\n",
       "      <td>4.00</td>\n",
       "      <td>3.79</td>\n",
       "      <td>-4.22</td>\n",
       "      <td>...</td>\n",
       "      <td>-0.55</td>\n",
       "      <td>4.40</td>\n",
       "      <td>8.0</td>\n",
       "      <td>59.52</td>\n",
       "      <td>0.0</td>\n",
       "      <td>0.0</td>\n",
       "      <td>355.0</td>\n",
       "      <td>-13.2</td>\n",
       "      <td>6.41</td>\n",
       "      <td>1.18</td>\n",
       "    </tr>\n",
       "    <tr>\n",
       "      <th>1</th>\n",
       "      <td>272</td>\n",
       "      <td>6</td>\n",
       "      <td>11</td>\n",
       "      <td>57.41</td>\n",
       "      <td>53.68</td>\n",
       "      <td>188</td>\n",
       "      <td>2020-01-01 01:00:00</td>\n",
       "      <td>3.95</td>\n",
       "      <td>3.34</td>\n",
       "      <td>-3.75</td>\n",
       "      <td>...</td>\n",
       "      <td>-0.41</td>\n",
       "      <td>4.36</td>\n",
       "      <td>7.4</td>\n",
       "      <td>57.21</td>\n",
       "      <td>1.0</td>\n",
       "      <td>0.0</td>\n",
       "      <td>354.0</td>\n",
       "      <td>-37.1</td>\n",
       "      <td>6.00</td>\n",
       "      <td>0.23</td>\n",
       "    </tr>\n",
       "    <tr>\n",
       "      <th>2</th>\n",
       "      <td>223</td>\n",
       "      <td>3</td>\n",
       "      <td>11</td>\n",
       "      <td>59.70</td>\n",
       "      <td>44.72</td>\n",
       "      <td>197</td>\n",
       "      <td>2020-01-01 02:00:00</td>\n",
       "      <td>4.11</td>\n",
       "      <td>4.08</td>\n",
       "      <td>-1.24</td>\n",
       "      <td>...</td>\n",
       "      <td>1.15</td>\n",
       "      <td>4.38</td>\n",
       "      <td>7.2</td>\n",
       "      <td>52.10</td>\n",
       "      <td>0.0</td>\n",
       "      <td>0.0</td>\n",
       "      <td>355.0</td>\n",
       "      <td>1.8</td>\n",
       "      <td>5.39</td>\n",
       "      <td>0.93</td>\n",
       "    </tr>\n",
       "    <tr>\n",
       "      <th>3</th>\n",
       "      <td>166</td>\n",
       "      <td>6</td>\n",
       "      <td>11</td>\n",
       "      <td>61.05</td>\n",
       "      <td>37.51</td>\n",
       "      <td>191</td>\n",
       "      <td>2020-01-01 03:00:00</td>\n",
       "      <td>4.26</td>\n",
       "      <td>4.23</td>\n",
       "      <td>0.39</td>\n",
       "      <td>...</td>\n",
       "      <td>2.12</td>\n",
       "      <td>4.36</td>\n",
       "      <td>6.6</td>\n",
       "      <td>54.88</td>\n",
       "      <td>0.0</td>\n",
       "      <td>0.0</td>\n",
       "      <td>355.0</td>\n",
       "      <td>2.7</td>\n",
       "      <td>5.01</td>\n",
       "      <td>0.62</td>\n",
       "    </tr>\n",
       "    <tr>\n",
       "      <th>4</th>\n",
       "      <td>113</td>\n",
       "      <td>6</td>\n",
       "      <td>11</td>\n",
       "      <td>62.44</td>\n",
       "      <td>32.87</td>\n",
       "      <td>207</td>\n",
       "      <td>2020-01-01 04:00:00</td>\n",
       "      <td>4.92</td>\n",
       "      <td>4.56</td>\n",
       "      <td>0.58</td>\n",
       "      <td>...</td>\n",
       "      <td>2.34</td>\n",
       "      <td>4.65</td>\n",
       "      <td>6.7</td>\n",
       "      <td>56.46</td>\n",
       "      <td>0.0</td>\n",
       "      <td>0.0</td>\n",
       "      <td>355.0</td>\n",
       "      <td>2.9</td>\n",
       "      <td>3.97</td>\n",
       "      <td>0.02</td>\n",
       "    </tr>\n",
       "  </tbody>\n",
       "</table>\n",
       "<p>5 rows × 28 columns</p>\n",
       "</div>"
      ],
      "text/plain": [
       "   max_number_of_vehicles  minimum_speed  min_number_of_vehicles  \\\n",
       "0                     298              6                      11   \n",
       "1                     272              6                      11   \n",
       "2                     223              3                      11   \n",
       "3                     166              6                      11   \n",
       "4                     113              6                      11   \n",
       "\n",
       "   average_speed  avg_number_of_vehicles  maximum_speed                date  \\\n",
       "0          56.59                   58.72            193 2020-01-01 00:00:00   \n",
       "1          57.41                   53.68            188 2020-01-01 01:00:00   \n",
       "2          59.70                   44.72            197 2020-01-01 02:00:00   \n",
       "3          61.05                   37.51            191 2020-01-01 03:00:00   \n",
       "4          62.44                   32.87            207 2020-01-01 04:00:00   \n",
       "\n",
       "   average_felt_temperature  average_road_temperature  \\\n",
       "0                      4.00                      3.79   \n",
       "1                      3.95                      3.34   \n",
       "2                      4.11                      4.08   \n",
       "3                      4.26                      4.23   \n",
       "4                      4.92                      4.56   \n",
       "\n",
       "   minimum_felt_temperature  ...  minimum_temperature  average_temperature  \\\n",
       "0                     -4.22  ...                -0.55                 4.40   \n",
       "1                     -3.75  ...                -0.41                 4.36   \n",
       "2                     -1.24  ...                 1.15                 4.38   \n",
       "3                      0.39  ...                 2.12                 4.36   \n",
       "4                      0.58  ...                 2.34                 4.65   \n",
       "\n",
       "   maximum_road_temperature  minimum_humidity  minimum_directionofwind  \\\n",
       "0                       8.0             59.52                      0.0   \n",
       "1                       7.4             57.21                      1.0   \n",
       "2                       7.2             52.10                      0.0   \n",
       "3                       6.6             54.88                      0.0   \n",
       "4                       6.7             56.46                      0.0   \n",
       "\n",
       "   minimum_wind  maximum_directionofwind  minimum_road_temperature  \\\n",
       "0           0.0                    355.0                     -13.2   \n",
       "1           0.0                    354.0                     -37.1   \n",
       "2           0.0                    355.0                       1.8   \n",
       "3           0.0                    355.0                       2.7   \n",
       "4           0.0                    355.0                       2.9   \n",
       "\n",
       "   maximum_wind  average_precipitation  \n",
       "0          6.41                   1.18  \n",
       "1          6.00                   0.23  \n",
       "2          5.39                   0.93  \n",
       "3          5.01                   0.62  \n",
       "4          3.97                   0.02  \n",
       "\n",
       "[5 rows x 28 columns]"
      ]
     },
     "execution_count": 5,
     "metadata": {},
     "output_type": "execute_result"
    }
   ],
   "source": [
    "df.head()"
   ]
  },
  {
   "cell_type": "markdown",
   "metadata": {},
   "source": [
    "# ARIMA MODEL FOR AVG TEMPERATURE\n",
    "\n",
    "* p --> Order of AR (autoregressive term) -number of lags to be used as predictors for regression\n",
    "* q --> Order of MA (moving average term) \n",
    "* d --> Order of Differencing (to make the series stationary)"
   ]
  },
  {
   "cell_type": "markdown",
   "metadata": {},
   "source": [
    "## Extract num_vehicles data and resample it daily"
   ]
  },
  {
   "cell_type": "code",
   "execution_count": 6,
   "metadata": {},
   "outputs": [],
   "source": [
    "veh = df[['date', 'avg_number_of_vehicles']]\n",
    "veh = veh.set_index('date')['2021-01-01':'2021-04-28']"
   ]
  },
  {
   "cell_type": "code",
   "execution_count": 7,
   "metadata": {},
   "outputs": [],
   "source": [
    "veh = veh.resample(rule='D',).mean().dropna()"
   ]
  },
  {
   "cell_type": "markdown",
   "metadata": {},
   "source": [
    "## Find and update missing date values"
   ]
  },
  {
   "cell_type": "code",
   "execution_count": 8,
   "metadata": {},
   "outputs": [
    {
     "data": {
      "text/plain": [
       "array(['2021-02-22T00:00:00.000000000', '2021-02-23T00:00:00.000000000',\n",
       "       '2021-02-24T00:00:00.000000000', '2021-02-25T00:00:00.000000000',\n",
       "       '2021-02-26T00:00:00.000000000', '2021-02-27T00:00:00.000000000',\n",
       "       '2021-02-28T00:00:00.000000000', '2021-03-01T00:00:00.000000000',\n",
       "       '2021-03-02T00:00:00.000000000', '2021-03-03T00:00:00.000000000',\n",
       "       '2021-03-04T00:00:00.000000000', '2021-03-06T00:00:00.000000000'],\n",
       "      dtype='datetime64[ns]')"
      ]
     },
     "execution_count": 8,
     "metadata": {},
     "output_type": "execute_result"
    }
   ],
   "source": [
    "full_range = set(pd.date_range('2021-01-01', '2021-04-28', freq='D'))\n",
    "veh_dates = set(veh.index.tolist())\n",
    "missing_days = full_range.difference(veh_dates)\n",
    "missing_days = pd.Series(list(missing_days)).sort_values().reset_index(drop=True)\n",
    "missing_days.values"
   ]
  },
  {
   "cell_type": "code",
   "execution_count": 9,
   "metadata": {},
   "outputs": [],
   "source": [
    "veh=veh.interpolate()"
   ]
  },
  {
   "cell_type": "code",
   "execution_count": 10,
   "metadata": {},
   "outputs": [
    {
     "data": {
      "text/plain": [
       "<AxesSubplot:xlabel='date'>"
      ]
     },
     "execution_count": 10,
     "metadata": {},
     "output_type": "execute_result"
    },
    {
     "data": {
      "image/png": "[encoded data removed]",
      "text/plain": [
       "<Figure size 432x288 with 1 Axes>"
      ]
     },
     "metadata": {
      "needs_background": "light"
     },
     "output_type": "display_data"
    }
   ],
   "source": [
    "veh.plot()"
   ]
  },
  {
   "cell_type": "markdown",
   "metadata": {},
   "source": [
    "## Train - Test Split"
   ]
  },
  {
   "cell_type": "code",
   "execution_count": 11,
   "metadata": {},
   "outputs": [
    {
     "data": {
      "text/plain": [
       "avg_number_of_vehicles    90.53125\n",
       "Name: 2021-04-07 00:00:00, dtype: float64"
      ]
     },
     "execution_count": 11,
     "metadata": {},
     "output_type": "execute_result"
    }
   ],
   "source": [
    "veh.iloc[int(len(veh)*0.80)]"
   ]
  },
  {
   "cell_type": "code",
   "execution_count": 12,
   "metadata": {},
   "outputs": [],
   "source": [
    "X = veh.loc['2021-01-01':'2021-04-07']\n",
    "y = veh.loc['2021-04-07':]"
   ]
  },
  {
   "cell_type": "code",
   "execution_count": 13,
   "metadata": {},
   "outputs": [
    {
     "data": {
      "image/png": "[encoded data removed]",
      "text/plain": [
       "<Figure size 432x288 with 1 Axes>"
      ]
     },
     "metadata": {
      "needs_background": "light"
     },
     "output_type": "display_data"
    }
   ],
   "source": [
    "ax = X.plot(c='b')\n",
    "y.plot(c='r', ax=ax)\n",
    "plt.title\n",
    "plt.show()"
   ]
  },
  {
   "cell_type": "markdown",
   "metadata": {},
   "source": [
    "## Check if Time Series is stationary"
   ]
  },
  {
   "cell_type": "code",
   "execution_count": 14,
   "metadata": {},
   "outputs": [],
   "source": [
    "#Test if stationary (Dicky Fuller test) - h0: Time series data is not stationary\n",
    "from statsmodels.tsa.stattools import adfuller\n",
    "def is_stationary(ts):\n",
    "    results = adfuller(ts)\n",
    "    print(f\"Test Statistic: {results[0]}\\nP-Value: {results[1]}\\nCritical Test stats for intervals: {results[4]}\\n\")\n",
    "    if results[1]<0.05:\n",
    "        print('Time series data is stationary'),\n",
    "    else:\n",
    "        print('Time series data is not stationary')"
   ]
  },
  {
   "cell_type": "code",
   "execution_count": 15,
   "metadata": {},
   "outputs": [
    {
     "name": "stdout",
     "output_type": "stream",
     "text": [
      "Test Statistic: -3.051344956304205\n",
      "P-Value: 0.030369755154754676\n",
      "Critical Test stats for intervals: {'1%': -3.517113604831504, '5%': -2.8993754262546574, '10%': -2.5869547797501644}\n",
      "\n",
      "Time series data is stationary\n"
     ]
    }
   ],
   "source": [
    "is_stationary(X)"
   ]
  },
  {
   "cell_type": "markdown",
   "metadata": {},
   "source": [
    "* No differencing required"
   ]
  },
  {
   "cell_type": "markdown",
   "metadata": {},
   "source": [
    "# Seasonal differencing"
   ]
  },
  {
   "cell_type": "code",
   "execution_count": 44,
   "metadata": {},
   "outputs": [
    {
     "name": "stdout",
     "output_type": "stream",
     "text": [
      "Test Statistic: -4.69172517146048\n",
      "P-Value: 8.721695907072678e-05\n",
      "Critical Test stats for intervals: {'1%': -3.526004646825607, '5%': -2.9032002348069774, '10%': -2.5889948363419957}\n",
      "\n",
      "Time series data is stationary\n"
     ]
    }
   ],
   "source": [
    "is_stationary(X.diff(7).dropna())"
   ]
  },
  {
   "cell_type": "markdown",
   "metadata": {},
   "source": [
    "* Seasonality is weekly\n",
    "* No seasonal differencing required for 7 days (weekly seasonality)"
   ]
  },
  {
   "cell_type": "code",
   "execution_count": 45,
   "metadata": {},
   "outputs": [
    {
     "data": {
      "text/plain": [
       "0"
      ]
     },
     "execution_count": 45,
     "metadata": {},
     "output_type": "execute_result"
    }
   ],
   "source": [
    "from pmdarima.arima.utils import ndiffs\n",
    "ndiffs(X, test='adf')"
   ]
  },
  {
   "cell_type": "markdown",
   "metadata": {},
   "source": [
    "## Plot ACF and PACF"
   ]
  },
  {
   "cell_type": "code",
   "execution_count": 47,
   "metadata": {},
   "outputs": [
    {
     "name": "stderr",
     "output_type": "stream",
     "text": [
      "C:\\Users\\TCLSOYKAN\\AppData\\Roaming\\Python\\Python39\\site-packages\\statsmodels\\graphics\\tsaplots.py:348: FutureWarning: The default method 'yw' can produce PACF values outside of the [-1,1] interval. After 0.13, the default will change tounadjusted Yule-Walker ('ywm'). You can use this method now by setting method='ywm'.\n",
      "  warnings.warn(\n"
     ]
    },
    {
     "data": {
      "image/png": "[encoded data removed]",
      "text/plain": [
       "<Figure size 432x288 with 1 Axes>"
      ]
     },
     "metadata": {
      "needs_background": "light"
     },
     "output_type": "display_data"
    }
   ],
   "source": [
    "from statsmodels.graphics.tsaplots import plot_acf, plot_pacf\n",
    "plot_pacf(X.diff(7).dropna(), lags=30);"
   ]
  },
  {
   "cell_type": "code",
   "execution_count": 50,
   "metadata": {},
   "outputs": [
    {
     "data": {
      "text/plain": [
       "(0.9999999999999999, 0.17387110194814964, 0.002924056156647107)"
      ]
     },
     "execution_count": 50,
     "metadata": {},
     "output_type": "execute_result"
    }
   ],
   "source": [
    "ser = X.diff(7).dropna().iloc[:,0]\n",
    "ar0 = ser.corr(ser)\n",
    "ar1 = ser.corr(ser.shift().dropna())\n",
    "ar2 = ser.corr(ser.shift().shift().dropna())\n",
    "ar0, ar1, ar2"
   ]
  },
  {
   "cell_type": "code",
   "execution_count": 51,
   "metadata": {},
   "outputs": [
    {
     "data": {
      "image/png": "[encoded data removed]",
      "text/plain": [
       "<Figure size 432x288 with 1 Axes>"
      ]
     },
     "metadata": {
      "needs_background": "light"
     },
     "output_type": "display_data"
    }
   ],
   "source": [
    "plot_acf(ser.reset_index(drop=True), lags=50);"
   ]
  },
  {
   "cell_type": "markdown",
   "metadata": {},
   "source": [
    "* Autoregression term(p): 0\n",
    "* Moving Average term(q): 0\n",
    "- **SEASONAL**\n",
    "* Autoregression term(p): 1\n",
    "* Moving Average term(q): 1"
   ]
  },
  {
   "cell_type": "markdown",
   "metadata": {},
   "source": [
    "## Run ARIMA Model"
   ]
  },
  {
   "cell_type": "code",
   "execution_count": 32,
   "metadata": {},
   "outputs": [],
   "source": [
    "from statsmodels.tsa.arima.model import ARIMA\n",
    "from statsmodels.tsa.statespace.sarimax import SARIMAX"
   ]
  },
  {
   "cell_type": "code",
   "execution_count": 52,
   "metadata": {},
   "outputs": [
    {
     "name": "stdout",
     "output_type": "stream",
     "text": [
      "                                 SARIMAX Results                                  \n",
      "==================================================================================\n",
      "Dep. Variable:     avg_number_of_vehicles   No. Observations:                   85\n",
      "Model:                SARIMAX(0, 1, 0, 7)   Log Likelihood                -308.793\n",
      "Date:                    Thu, 21 Apr 2022   AIC                            619.587\n",
      "Time:                            22:10:03   BIC                            621.944\n",
      "Sample:                                 0   HQIC                           620.530\n",
      "                                     - 85                                         \n",
      "Covariance Type:                      opg                                         \n",
      "==============================================================================\n",
      "                 coef    std err          z      P>|z|      [0.025      0.975]\n",
      "------------------------------------------------------------------------------\n",
      "sigma2       160.7597     11.202     14.351      0.000     138.804     182.715\n",
      "===================================================================================\n",
      "Ljung-Box (L1) (Q):                   1.72   Jarque-Bera (JB):               257.15\n",
      "Prob(Q):                              0.19   Prob(JB):                         0.00\n",
      "Heteroskedasticity (H):               0.12   Skew:                             1.78\n",
      "Prob(H) (two-sided):                  0.00   Kurtosis:                        11.15\n",
      "===================================================================================\n",
      "\n",
      "Warnings:\n",
      "[1] Covariance matrix calculated using the outer product of gradients (complex-step).\n"
     ]
    },
    {
     "name": "stderr",
     "output_type": "stream",
     "text": [
      "C:\\Users\\TCLSOYKAN\\AppData\\Roaming\\Python\\Python39\\site-packages\\statsmodels\\tsa\\base\\tsa_model.py:593: ValueWarning: A date index has been provided, but it has no associated frequency information and so will be ignored when e.g. forecasting.\n",
      "  warnings.warn('A date index has been provided, but it has no'\n",
      "C:\\Users\\TCLSOYKAN\\AppData\\Roaming\\Python\\Python39\\site-packages\\statsmodels\\tsa\\base\\tsa_model.py:593: ValueWarning: A date index has been provided, but it has no associated frequency information and so will be ignored when e.g. forecasting.\n",
      "  warnings.warn('A date index has been provided, but it has no'\n"
     ]
    }
   ],
   "source": [
    "model = SARIMAX(X, order=(0,0,0), seasonal_order=(0,1,0,7))\n",
    "model = model.fit()\n",
    "print(model.summary())"
   ]
  },
  {
   "cell_type": "code",
   "execution_count": 53,
   "metadata": {},
   "outputs": [
    {
     "name": "stderr",
     "output_type": "stream",
     "text": [
      "C:\\Users\\TCLSOYKAN\\AppData\\Roaming\\Python\\Python39\\site-packages\\statsmodels\\tsa\\base\\tsa_model.py:390: ValueWarning: No supported index is available. Prediction results will be given with an integer index beginning at `start`.\n",
      "  warnings.warn('No supported index is available.'\n"
     ]
    }
   ],
   "source": [
    "forecast = model.get_forecast(len(y))\n",
    "fc = forecast.predicted_mean\n",
    "fc.index = y.index\n",
    "conf = forecast.conf_int(alpha=0.05)"
   ]
  },
  {
   "cell_type": "code",
   "execution_count": 54,
   "metadata": {},
   "outputs": [
    {
     "data": {
      "image/png": "[encoded data removed]",
      "text/plain": [
       "<Figure size 432x288 with 1 Axes>"
      ]
     },
     "metadata": {
      "needs_background": "light"
     },
     "output_type": "display_data"
    }
   ],
   "source": [
    "ax = X.plot(c='b')\n",
    "y.plot(c='y', ax=ax)\n",
    "fc.plot(c='r', ax=ax)\n",
    "plt.fill_between(y.index, conf.iloc[:,0], conf.iloc[:,1], \n",
    "                 color='k', alpha=.15)\n",
    "plt.legend(labels=['train_data', 'actual', 'forecast', 'conf_interval'])\n",
    "plt.title('Forecast vs Actuals')\n",
    "plt.show()"
   ]
  },
  {
   "cell_type": "code",
   "execution_count": 55,
   "metadata": {},
   "outputs": [
    {
     "data": {
      "text/html": [
       "<div>\n",
       "<style scoped>\n",
       "    .dataframe tbody tr th:only-of-type {\n",
       "        vertical-align: middle;\n",
       "    }\n",
       "\n",
       "    .dataframe tbody tr th {\n",
       "        vertical-align: top;\n",
       "    }\n",
       "\n",
       "    .dataframe thead th {\n",
       "        text-align: right;\n",
       "    }\n",
       "</style>\n",
       "<table border=\"1\" class=\"dataframe\">\n",
       "  <thead>\n",
       "    <tr style=\"text-align: right;\">\n",
       "      <th></th>\n",
       "      <th>forecast</th>\n",
       "      <th>actual</th>\n",
       "    </tr>\n",
       "    <tr>\n",
       "      <th>date</th>\n",
       "      <th></th>\n",
       "      <th></th>\n",
       "    </tr>\n",
       "  </thead>\n",
       "  <tbody>\n",
       "    <tr>\n",
       "      <th>2021-04-07</th>\n",
       "      <td>91.446957</td>\n",
       "      <td>90.531250</td>\n",
       "    </tr>\n",
       "    <tr>\n",
       "      <th>2021-04-08</th>\n",
       "      <td>95.811250</td>\n",
       "      <td>85.313333</td>\n",
       "    </tr>\n",
       "    <tr>\n",
       "      <th>2021-04-09</th>\n",
       "      <td>75.540417</td>\n",
       "      <td>86.078750</td>\n",
       "    </tr>\n",
       "    <tr>\n",
       "      <th>2021-04-10</th>\n",
       "      <td>48.528261</td>\n",
       "      <td>73.465652</td>\n",
       "    </tr>\n",
       "    <tr>\n",
       "      <th>2021-04-11</th>\n",
       "      <td>91.948333</td>\n",
       "      <td>50.516667</td>\n",
       "    </tr>\n",
       "    <tr>\n",
       "      <th>2021-04-12</th>\n",
       "      <td>94.555833</td>\n",
       "      <td>86.546667</td>\n",
       "    </tr>\n",
       "    <tr>\n",
       "      <th>2021-04-13</th>\n",
       "      <td>90.531250</td>\n",
       "      <td>95.772083</td>\n",
       "    </tr>\n",
       "    <tr>\n",
       "      <th>2021-04-14</th>\n",
       "      <td>91.446957</td>\n",
       "      <td>91.758333</td>\n",
       "    </tr>\n",
       "    <tr>\n",
       "      <th>2021-04-15</th>\n",
       "      <td>95.811250</td>\n",
       "      <td>46.184000</td>\n",
       "    </tr>\n",
       "    <tr>\n",
       "      <th>2021-04-16</th>\n",
       "      <td>75.540417</td>\n",
       "      <td>107.142000</td>\n",
       "    </tr>\n",
       "    <tr>\n",
       "      <th>2021-04-17</th>\n",
       "      <td>48.528261</td>\n",
       "      <td>63.895000</td>\n",
       "    </tr>\n",
       "    <tr>\n",
       "      <th>2021-04-18</th>\n",
       "      <td>91.948333</td>\n",
       "      <td>45.239167</td>\n",
       "    </tr>\n",
       "    <tr>\n",
       "      <th>2021-04-19</th>\n",
       "      <td>94.555833</td>\n",
       "      <td>96.300000</td>\n",
       "    </tr>\n",
       "    <tr>\n",
       "      <th>2021-04-20</th>\n",
       "      <td>90.531250</td>\n",
       "      <td>78.500000</td>\n",
       "    </tr>\n",
       "    <tr>\n",
       "      <th>2021-04-21</th>\n",
       "      <td>91.446957</td>\n",
       "      <td>110.580000</td>\n",
       "    </tr>\n",
       "    <tr>\n",
       "      <th>2021-04-22</th>\n",
       "      <td>95.811250</td>\n",
       "      <td>91.990417</td>\n",
       "    </tr>\n",
       "    <tr>\n",
       "      <th>2021-04-23</th>\n",
       "      <td>75.540417</td>\n",
       "      <td>80.794375</td>\n",
       "    </tr>\n",
       "    <tr>\n",
       "      <th>2021-04-24</th>\n",
       "      <td>48.528261</td>\n",
       "      <td>68.164583</td>\n",
       "    </tr>\n",
       "    <tr>\n",
       "      <th>2021-04-25</th>\n",
       "      <td>91.948333</td>\n",
       "      <td>45.016250</td>\n",
       "    </tr>\n",
       "    <tr>\n",
       "      <th>2021-04-26</th>\n",
       "      <td>94.555833</td>\n",
       "      <td>91.155833</td>\n",
       "    </tr>\n",
       "    <tr>\n",
       "      <th>2021-04-27</th>\n",
       "      <td>90.531250</td>\n",
       "      <td>92.519167</td>\n",
       "    </tr>\n",
       "    <tr>\n",
       "      <th>2021-04-28</th>\n",
       "      <td>91.446957</td>\n",
       "      <td>87.088889</td>\n",
       "    </tr>\n",
       "  </tbody>\n",
       "</table>\n",
       "</div>"
      ],
      "text/plain": [
       "             forecast      actual\n",
       "date                             \n",
       "2021-04-07  91.446957   90.531250\n",
       "2021-04-08  95.811250   85.313333\n",
       "2021-04-09  75.540417   86.078750\n",
       "2021-04-10  48.528261   73.465652\n",
       "2021-04-11  91.948333   50.516667\n",
       "2021-04-12  94.555833   86.546667\n",
       "2021-04-13  90.531250   95.772083\n",
       "2021-04-14  91.446957   91.758333\n",
       "2021-04-15  95.811250   46.184000\n",
       "2021-04-16  75.540417  107.142000\n",
       "2021-04-17  48.528261   63.895000\n",
       "2021-04-18  91.948333   45.239167\n",
       "2021-04-19  94.555833   96.300000\n",
       "2021-04-20  90.531250   78.500000\n",
       "2021-04-21  91.446957  110.580000\n",
       "2021-04-22  95.811250   91.990417\n",
       "2021-04-23  75.540417   80.794375\n",
       "2021-04-24  48.528261   68.164583\n",
       "2021-04-25  91.948333   45.016250\n",
       "2021-04-26  94.555833   91.155833\n",
       "2021-04-27  90.531250   92.519167\n",
       "2021-04-28  91.446957   87.088889"
      ]
     },
     "execution_count": 55,
     "metadata": {},
     "output_type": "execute_result"
    }
   ],
   "source": [
    "pd.DataFrame({'forecast':fc.values, 'actual':y.iloc[:,0]})"
   ]
  },
  {
   "cell_type": "markdown",
   "metadata": {},
   "source": [
    "## DECOMPOSITION"
   ]
  },
  {
   "cell_type": "code",
   "execution_count": 56,
   "metadata": {},
   "outputs": [],
   "source": [
    "from statsmodels.tsa.seasonal import seasonal_decompose"
   ]
  },
  {
   "cell_type": "code",
   "execution_count": 57,
   "metadata": {
    "scrolled": true
   },
   "outputs": [],
   "source": [
    "results = seasonal_decompose(X,period=30)"
   ]
  },
  {
   "cell_type": "code",
   "execution_count": 58,
   "metadata": {
    "scrolled": true
   },
   "outputs": [
    {
     "data": {
      "text/plain": [
       "<Figure size 500x500 with 0 Axes>"
      ]
     },
     "metadata": {},
     "output_type": "display_data"
    },
    {
     "data": {
      "image/png": "[encoded data removed]",
      "text/plain": [
       "<Figure size 432x288 with 4 Axes>"
      ]
     },
     "metadata": {
      "needs_background": "light"
     },
     "output_type": "display_data"
    }
   ],
   "source": [
    "plt.figure(figsize=(100,100), dpi=5)\n",
    "results.plot();"
   ]
  },
  {
   "cell_type": "code",
   "execution_count": 59,
   "metadata": {},
   "outputs": [
    {
     "data": {
      "text/plain": [
       "array([[ 90.53125   ],\n",
       "       [ 85.31333333],\n",
       "       [ 86.07875   ],\n",
       "       [ 73.46565217],\n",
       "       [ 50.51666667],\n",
       "       [ 86.54666667],\n",
       "       [ 95.77208333],\n",
       "       [ 91.75833333],\n",
       "       [ 46.184     ],\n",
       "       [107.142     ],\n",
       "       [ 63.895     ],\n",
       "       [ 45.23916667],\n",
       "       [ 96.3       ],\n",
       "       [ 78.5       ],\n",
       "       [110.58      ],\n",
       "       [ 91.99041667],\n",
       "       [ 80.794375  ],\n",
       "       [ 68.16458333],\n",
       "       [ 45.01625   ],\n",
       "       [ 91.15583333],\n",
       "       [ 92.51916667],\n",
       "       [ 87.08888889]])"
      ]
     },
     "execution_count": 59,
     "metadata": {},
     "output_type": "execute_result"
    }
   ],
   "source": [
    "y.values"
   ]
  },
  {
   "cell_type": "markdown",
   "metadata": {},
   "source": [
    "https://app.datacamp.com/learn/courses/time-series-analysis-in-python"
   ]
  },
  {
   "cell_type": "code",
   "execution_count": 60,
   "metadata": {},
   "outputs": [
    {
     "name": "stderr",
     "output_type": "stream",
     "text": [
      "C:\\Users\\TCLSOY~1\\AppData\\Local\\Temp/ipykernel_20668/937722734.py:9: FutureWarning: Support for multi-dimensional indexing (e.g. `obj[:, None]`) is deprecated and will be removed in a future version.  Convert to a numpy array before indexing instead.\n",
      "  mins = np.amin(np.hstack([forecast[:,None],\n",
      "C:\\Users\\TCLSOY~1\\AppData\\Local\\Temp/ipykernel_20668/937722734.py:11: FutureWarning: Support for multi-dimensional indexing (e.g. `obj[:, None]`) is deprecated and will be removed in a future version.  Convert to a numpy array before indexing instead.\n",
      "  maxs = np.amax(np.hstack([forecast[:,None],\n"
     ]
    },
    {
     "data": {
      "text/plain": [
       "{'mape': 0.2772169368004324,\n",
       " 'me': 4.180974665129555,\n",
       " 'mae': 16.52203510649977,\n",
       " 'mpe': 0.1298388458277401,\n",
       " 'rmse': 23.071483942210907,\n",
       " 'acf1': -0.34221801009313885,\n",
       " 'corr': 0.14395742499437392,\n",
       " 'minmax': 0.1849459685959971}"
      ]
     },
     "execution_count": 60,
     "metadata": {},
     "output_type": "execute_result"
    }
   ],
   "source": [
    "from statsmodels.tsa.stattools import acf\n",
    "def forecast_accuracy(forecast, actual):\n",
    "    mape = np.mean(np.abs(forecast - actual)/np.abs(actual))  # MAPE\n",
    "    me = np.mean(forecast - actual)             # ME\n",
    "    mae = np.mean(np.abs(forecast - actual))    # MAE\n",
    "    mpe = np.mean((forecast - actual)/actual)   # MPE\n",
    "    rmse = np.mean((forecast - actual)**2)**.5  # RMSE\n",
    "    corr = np.corrcoef(forecast, actual)[0,1]   # corr\n",
    "    mins = np.amin(np.hstack([forecast[:,None], \n",
    "                              actual[:,None]]), axis=1)\n",
    "    maxs = np.amax(np.hstack([forecast[:,None], \n",
    "                              actual[:,None]]), axis=1)\n",
    "    minmax = 1 - np.mean(mins/maxs)             # minmax\n",
    "    acf1 = acf(forecast-actual)[1]                  # ACF1\n",
    "    return({'mape':mape, 'me':me, 'mae': mae, \n",
    "            'mpe': mpe, 'rmse':rmse, 'acf1':acf1, \n",
    "            'corr':corr, 'minmax':minmax})\n",
    "\n",
    "forecast_accuracy(fc, y.iloc[:,0].values)"
   ]
  },
  {
   "cell_type": "markdown",
   "metadata": {},
   "source": [
    "### Auto Selection of ARIMA components "
   ]
  },
  {
   "cell_type": "code",
   "execution_count": 61,
   "metadata": {},
   "outputs": [],
   "source": [
    "import pmdarima as pm"
   ]
  },
  {
   "cell_type": "code",
   "execution_count": 233,
   "metadata": {},
   "outputs": [
    {
     "name": "stdout",
     "output_type": "stream",
     "text": [
      "Performing stepwise search to minimize aic\n",
      " ARIMA(0,0,0)(0,1,0)[7] intercept   : AIC=621.215, Time=0.01 sec\n",
      " ARIMA(1,0,0)(1,1,0)[7] intercept   : AIC=618.856, Time=0.07 sec\n",
      " ARIMA(0,0,1)(0,1,1)[7] intercept   : AIC=618.170, Time=0.07 sec\n",
      " ARIMA(0,0,0)(0,1,0)[7]             : AIC=619.587, Time=0.01 sec\n",
      " ARIMA(0,0,1)(0,1,0)[7] intercept   : AIC=620.839, Time=0.03 sec\n",
      " ARIMA(0,0,1)(1,1,1)[7] intercept   : AIC=620.114, Time=0.09 sec\n",
      " ARIMA(0,0,1)(0,1,2)[7] intercept   : AIC=620.089, Time=0.21 sec\n",
      " ARIMA(0,0,1)(1,1,0)[7] intercept   : AIC=618.418, Time=0.07 sec\n",
      " ARIMA(0,0,1)(1,1,2)[7] intercept   : AIC=621.852, Time=0.51 sec\n",
      " ARIMA(0,0,0)(0,1,1)[7] intercept   : AIC=619.696, Time=0.05 sec\n",
      " ARIMA(1,0,1)(0,1,1)[7] intercept   : AIC=620.076, Time=0.11 sec\n",
      " ARIMA(0,0,2)(0,1,1)[7] intercept   : AIC=620.061, Time=0.12 sec\n",
      " ARIMA(1,0,0)(0,1,1)[7] intercept   : AIC=618.679, Time=0.08 sec\n",
      " ARIMA(1,0,2)(0,1,1)[7] intercept   : AIC=inf, Time=0.41 sec\n",
      " ARIMA(0,0,1)(0,1,1)[7]             : AIC=616.605, Time=0.04 sec\n",
      " ARIMA(0,0,1)(0,1,0)[7]             : AIC=619.199, Time=0.01 sec\n",
      " ARIMA(0,0,1)(1,1,1)[7]             : AIC=618.538, Time=0.06 sec\n",
      " ARIMA(0,0,1)(0,1,2)[7]             : AIC=618.507, Time=0.10 sec\n",
      " ARIMA(0,0,1)(1,1,0)[7]             : AIC=616.818, Time=0.03 sec\n",
      " ARIMA(0,0,1)(1,1,2)[7]             : AIC=620.207, Time=0.30 sec\n",
      " ARIMA(0,0,0)(0,1,1)[7]             : AIC=618.142, Time=0.03 sec\n",
      " ARIMA(1,0,1)(0,1,1)[7]             : AIC=618.515, Time=0.08 sec\n",
      " ARIMA(0,0,2)(0,1,1)[7]             : AIC=618.501, Time=0.06 sec\n",
      " ARIMA(1,0,0)(0,1,1)[7]             : AIC=617.112, Time=0.04 sec\n",
      " ARIMA(1,0,2)(0,1,1)[7]             : AIC=618.037, Time=0.18 sec\n",
      "\n",
      "Best model:  ARIMA(0,0,1)(0,1,1)[7]          \n",
      "Total fit time: 2.810 seconds\n",
      "                                     SARIMAX Results                                     \n",
      "=========================================================================================\n",
      "Dep. Variable:                                 y   No. Observations:                   85\n",
      "Model:             SARIMAX(0, 0, 1)x(0, 1, 1, 7)   Log Likelihood                -305.303\n",
      "Date:                           Wed, 20 Apr 2022   AIC                            616.605\n",
      "Time:                                   21:52:49   BIC                            623.676\n",
      "Sample:                                        0   HQIC                           619.436\n",
      "                                            - 85                                         \n",
      "Covariance Type:                             opg                                         \n",
      "==============================================================================\n",
      "                 coef    std err          z      P>|z|      [0.025      0.975]\n",
      "------------------------------------------------------------------------------\n",
      "ma.L1          0.2654      0.086      3.085      0.002       0.097       0.434\n",
      "ma.S.L7       -0.2820      0.127     -2.215      0.027      -0.532      -0.033\n",
      "sigma2       145.7705     12.712     11.468      0.000     120.856     170.685\n",
      "===================================================================================\n",
      "Ljung-Box (L1) (Q):                   0.35   Jarque-Bera (JB):               230.39\n",
      "Prob(Q):                              0.55   Prob(JB):                         0.00\n",
      "Heteroskedasticity (H):               0.27   Skew:                             1.31\n",
      "Prob(H) (two-sided):                  0.00   Kurtosis:                        11.00\n",
      "===================================================================================\n",
      "\n",
      "Warnings:\n",
      "[1] Covariance matrix calculated using the outer product of gradients (complex-step).\n"
     ]
    }
   ],
   "source": [
    "automodel = pm.auto_arima(X, start_p=0, start_q=0,\n",
    "                      test='adf',       # use adftest to find optimal 'd'\n",
    "                      max_p=3, max_q=3, # maximum p and q\n",
    "                      m=7,              # frequency of series\n",
    "                      d=0,           # let model determine 'd'\n",
    "                      seasonal=True,   \n",
    "                      start_P=0,  start_Q=0,\n",
    "                      max_P=3, max_Q=3,\n",
    "                      D=1, \n",
    "                      trace=True,\n",
    "                      error_action='ignore',  \n",
    "                      suppress_warnings=True, \n",
    "                      stepwise=True)\n",
    "print(automodel.summary())"
   ]
  },
  {
   "cell_type": "code",
   "execution_count": null,
   "metadata": {},
   "outputs": [],
   "source": []
  }
 ],
 "metadata": {
  "kernelspec": {
   "display_name": "Python 3 (ipykernel)",
   "language": "python",
   "name": "python3"
  },
  "language_info": {
   "codemirror_mode": {
    "name": "ipython",
    "version": 3
   },
   "file_extension": ".py",
   "mimetype": "text/x-python",
   "name": "python",
   "nbconvert_exporter": "python",
   "pygments_lexer": "ipython3",
   "version": "3.9.2"
  }
 },
 "nbformat": 4,
 "nbformat_minor": 4
}
