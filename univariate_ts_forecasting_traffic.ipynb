{
 "cells": [
  {
   "cell_type": "markdown",
   "metadata": {},
   "source": [
    "# FORECASTING FOR TIME SERIES\n",
    "* Load the data and get avg_number_of_vehicles\n",
    "* Explore the time series and check stationarity\n",
    "* Train test split\n",
    "* Apply seasonal arima to get forecasted traffic data\n",
    "* Plot the forecast with confidence intervals\n",
    "* Calculate metrics for forecasted and actual values"
   ]
  },
  {
   "cell_type": "code",
   "execution_count": 1,
   "metadata": {},
   "outputs": [],
   "source": [
    "#Import necessary modules\n",
    "import pandas as pd\n",
    "import numpy as np\n",
    "import matplotlib.pyplot as plt\n",
    "import seaborn as sns"
   ]
  },
  {
   "cell_type": "code",
   "execution_count": 6,
   "metadata": {},
   "outputs": [],
   "source": [
    "df = pd.read_csv('final_data.csv')"
   ]
  },
  {
   "cell_type": "code",
   "execution_count": 8,
   "metadata": {},
   "outputs": [
    {
     "name": "stdout",
     "output_type": "stream",
     "text": [
      "<class 'pandas.core.frame.DataFrame'>\n",
      "RangeIndex: 10323 entries, 0 to 10322\n",
      "Data columns (total 28 columns):\n",
      " #   Column                    Non-Null Count  Dtype  \n",
      "---  ------                    --------------  -----  \n",
      " 0   max_number_of_vehicles    10323 non-null  int64  \n",
      " 1   minimum_speed             10323 non-null  int64  \n",
      " 2   min_number_of_vehicles    10323 non-null  int64  \n",
      " 3   average_speed             10323 non-null  float64\n",
      " 4   avg_number_of_vehicles    10323 non-null  float64\n",
      " 5   maximum_speed             10323 non-null  int64  \n",
      " 6   date                      10323 non-null  object \n",
      " 7   average_felt_temperature  10323 non-null  float64\n",
      " 8   average_road_temperature  10323 non-null  float64\n",
      " 9   minimum_felt_temperature  10323 non-null  float64\n",
      " 10  minimum_precipitation     10323 non-null  float64\n",
      " 11  maximum_humidity          10323 non-null  float64\n",
      " 12  maximum_felt_temperature  10323 non-null  float64\n",
      " 13  maximum_precipitation     10323 non-null  float64\n",
      " 14  maximum_temperature       10323 non-null  float64\n",
      " 15  average_humidity          10323 non-null  float64\n",
      " 16  average_wind              10323 non-null  float64\n",
      " 17  average_directionofwind   10323 non-null  float64\n",
      " 18  minimum_temperature       10323 non-null  float64\n",
      " 19  average_temperature       10323 non-null  float64\n",
      " 20  maximum_road_temperature  10323 non-null  float64\n",
      " 21  minimum_humidity          10323 non-null  float64\n",
      " 22  minimum_directionofwind   10323 non-null  float64\n",
      " 23  minimum_wind              10323 non-null  float64\n",
      " 24  maximum_directionofwind   10323 non-null  float64\n",
      " 25  minimum_road_temperature  10323 non-null  float64\n",
      " 26  maximum_wind              10323 non-null  float64\n",
      " 27  average_precipitation     10323 non-null  float64\n",
      "dtypes: float64(23), int64(4), object(1)\n",
      "memory usage: 2.2+ MB\n"
     ]
    }
   ],
   "source": [
    "df.info()"
   ]
  },
  {
   "cell_type": "code",
   "execution_count": 9,
   "metadata": {},
   "outputs": [
    {
     "data": {
      "text/html": [
       "<div>\n",
       "<style scoped>\n",
       "    .dataframe tbody tr th:only-of-type {\n",
       "        vertical-align: middle;\n",
       "    }\n",
       "\n",
       "    .dataframe tbody tr th {\n",
       "        vertical-align: top;\n",
       "    }\n",
       "\n",
       "    .dataframe thead th {\n",
       "        text-align: right;\n",
       "    }\n",
       "</style>\n",
       "<table border=\"1\" class=\"dataframe\">\n",
       "  <thead>\n",
       "    <tr style=\"text-align: right;\">\n",
       "      <th></th>\n",
       "      <th>max_number_of_vehicles</th>\n",
       "      <th>minimum_speed</th>\n",
       "      <th>min_number_of_vehicles</th>\n",
       "      <th>average_speed</th>\n",
       "      <th>avg_number_of_vehicles</th>\n",
       "      <th>maximum_speed</th>\n",
       "      <th>date</th>\n",
       "      <th>average_felt_temperature</th>\n",
       "      <th>average_road_temperature</th>\n",
       "      <th>minimum_felt_temperature</th>\n",
       "      <th>...</th>\n",
       "      <th>minimum_temperature</th>\n",
       "      <th>average_temperature</th>\n",
       "      <th>maximum_road_temperature</th>\n",
       "      <th>minimum_humidity</th>\n",
       "      <th>minimum_directionofwind</th>\n",
       "      <th>minimum_wind</th>\n",
       "      <th>maximum_directionofwind</th>\n",
       "      <th>minimum_road_temperature</th>\n",
       "      <th>maximum_wind</th>\n",
       "      <th>average_precipitation</th>\n",
       "    </tr>\n",
       "  </thead>\n",
       "  <tbody>\n",
       "    <tr>\n",
       "      <th>0</th>\n",
       "      <td>298</td>\n",
       "      <td>6</td>\n",
       "      <td>11</td>\n",
       "      <td>56.59</td>\n",
       "      <td>58.72</td>\n",
       "      <td>193</td>\n",
       "      <td>2020-01-01 00:00:00</td>\n",
       "      <td>4.00</td>\n",
       "      <td>3.79</td>\n",
       "      <td>-4.22</td>\n",
       "      <td>...</td>\n",
       "      <td>-0.55</td>\n",
       "      <td>4.40</td>\n",
       "      <td>8.0</td>\n",
       "      <td>59.52</td>\n",
       "      <td>0.0</td>\n",
       "      <td>0.0</td>\n",
       "      <td>355.0</td>\n",
       "      <td>-13.2</td>\n",
       "      <td>6.41</td>\n",
       "      <td>1.18</td>\n",
       "    </tr>\n",
       "    <tr>\n",
       "      <th>1</th>\n",
       "      <td>272</td>\n",
       "      <td>6</td>\n",
       "      <td>11</td>\n",
       "      <td>57.41</td>\n",
       "      <td>53.68</td>\n",
       "      <td>188</td>\n",
       "      <td>2020-01-01 01:00:00</td>\n",
       "      <td>3.95</td>\n",
       "      <td>3.34</td>\n",
       "      <td>-3.75</td>\n",
       "      <td>...</td>\n",
       "      <td>-0.41</td>\n",
       "      <td>4.36</td>\n",
       "      <td>7.4</td>\n",
       "      <td>57.21</td>\n",
       "      <td>1.0</td>\n",
       "      <td>0.0</td>\n",
       "      <td>354.0</td>\n",
       "      <td>-37.1</td>\n",
       "      <td>6.00</td>\n",
       "      <td>0.23</td>\n",
       "    </tr>\n",
       "    <tr>\n",
       "      <th>2</th>\n",
       "      <td>223</td>\n",
       "      <td>3</td>\n",
       "      <td>11</td>\n",
       "      <td>59.70</td>\n",
       "      <td>44.72</td>\n",
       "      <td>197</td>\n",
       "      <td>2020-01-01 02:00:00</td>\n",
       "      <td>4.11</td>\n",
       "      <td>4.08</td>\n",
       "      <td>-1.24</td>\n",
       "      <td>...</td>\n",
       "      <td>1.15</td>\n",
       "      <td>4.38</td>\n",
       "      <td>7.2</td>\n",
       "      <td>52.10</td>\n",
       "      <td>0.0</td>\n",
       "      <td>0.0</td>\n",
       "      <td>355.0</td>\n",
       "      <td>1.8</td>\n",
       "      <td>5.39</td>\n",
       "      <td>0.93</td>\n",
       "    </tr>\n",
       "    <tr>\n",
       "      <th>3</th>\n",
       "      <td>166</td>\n",
       "      <td>6</td>\n",
       "      <td>11</td>\n",
       "      <td>61.05</td>\n",
       "      <td>37.51</td>\n",
       "      <td>191</td>\n",
       "      <td>2020-01-01 03:00:00</td>\n",
       "      <td>4.26</td>\n",
       "      <td>4.23</td>\n",
       "      <td>0.39</td>\n",
       "      <td>...</td>\n",
       "      <td>2.12</td>\n",
       "      <td>4.36</td>\n",
       "      <td>6.6</td>\n",
       "      <td>54.88</td>\n",
       "      <td>0.0</td>\n",
       "      <td>0.0</td>\n",
       "      <td>355.0</td>\n",
       "      <td>2.7</td>\n",
       "      <td>5.01</td>\n",
       "      <td>0.62</td>\n",
       "    </tr>\n",
       "    <tr>\n",
       "      <th>4</th>\n",
       "      <td>113</td>\n",
       "      <td>6</td>\n",
       "      <td>11</td>\n",
       "      <td>62.44</td>\n",
       "      <td>32.87</td>\n",
       "      <td>207</td>\n",
       "      <td>2020-01-01 04:00:00</td>\n",
       "      <td>4.92</td>\n",
       "      <td>4.56</td>\n",
       "      <td>0.58</td>\n",
       "      <td>...</td>\n",
       "      <td>2.34</td>\n",
       "      <td>4.65</td>\n",
       "      <td>6.7</td>\n",
       "      <td>56.46</td>\n",
       "      <td>0.0</td>\n",
       "      <td>0.0</td>\n",
       "      <td>355.0</td>\n",
       "      <td>2.9</td>\n",
       "      <td>3.97</td>\n",
       "      <td>0.02</td>\n",
       "    </tr>\n",
       "  </tbody>\n",
       "</table>\n",
       "<p>5 rows × 28 columns</p>\n",
       "</div>"
      ],
      "text/plain": [
       "   max_number_of_vehicles  minimum_speed  min_number_of_vehicles  \\\n",
       "0                     298              6                      11   \n",
       "1                     272              6                      11   \n",
       "2                     223              3                      11   \n",
       "3                     166              6                      11   \n",
       "4                     113              6                      11   \n",
       "\n",
       "   average_speed  avg_number_of_vehicles  maximum_speed                 date  \\\n",
       "0          56.59                   58.72            193  2020-01-01 00:00:00   \n",
       "1          57.41                   53.68            188  2020-01-01 01:00:00   \n",
       "2          59.70                   44.72            197  2020-01-01 02:00:00   \n",
       "3          61.05                   37.51            191  2020-01-01 03:00:00   \n",
       "4          62.44                   32.87            207  2020-01-01 04:00:00   \n",
       "\n",
       "   average_felt_temperature  average_road_temperature  \\\n",
       "0                      4.00                      3.79   \n",
       "1                      3.95                      3.34   \n",
       "2                      4.11                      4.08   \n",
       "3                      4.26                      4.23   \n",
       "4                      4.92                      4.56   \n",
       "\n",
       "   minimum_felt_temperature  ...  minimum_temperature  average_temperature  \\\n",
       "0                     -4.22  ...                -0.55                 4.40   \n",
       "1                     -3.75  ...                -0.41                 4.36   \n",
       "2                     -1.24  ...                 1.15                 4.38   \n",
       "3                      0.39  ...                 2.12                 4.36   \n",
       "4                      0.58  ...                 2.34                 4.65   \n",
       "\n",
       "   maximum_road_temperature  minimum_humidity  minimum_directionofwind  \\\n",
       "0                       8.0             59.52                      0.0   \n",
       "1                       7.4             57.21                      1.0   \n",
       "2                       7.2             52.10                      0.0   \n",
       "3                       6.6             54.88                      0.0   \n",
       "4                       6.7             56.46                      0.0   \n",
       "\n",
       "   minimum_wind  maximum_directionofwind  minimum_road_temperature  \\\n",
       "0           0.0                    355.0                     -13.2   \n",
       "1           0.0                    354.0                     -37.1   \n",
       "2           0.0                    355.0                       1.8   \n",
       "3           0.0                    355.0                       2.7   \n",
       "4           0.0                    355.0                       2.9   \n",
       "\n",
       "   maximum_wind  average_precipitation  \n",
       "0          6.41                   1.18  \n",
       "1          6.00                   0.23  \n",
       "2          5.39                   0.93  \n",
       "3          5.01                   0.62  \n",
       "4          3.97                   0.02  \n",
       "\n",
       "[5 rows x 28 columns]"
      ]
     },
     "execution_count": 9,
     "metadata": {},
     "output_type": "execute_result"
    }
   ],
   "source": [
    "df.head()"
   ]
  },
  {
   "cell_type": "markdown",
   "metadata": {},
   "source": [
    "# ARIMA MODEL FOR AVG TEMPERATURE\n",
    "\n",
    "* https://www.machinelearningplus.com/time-series/arima-model-time-series-forecasting-python/\n",
    "* p --> Order of AR (autoregressive term) -number of lags to be used as predictors for regression\n",
    "* q --> Order of MA (moving average term) \n",
    "* d --> Order of Differencing (to make the series stationary)"
   ]
  },
  {
   "cell_type": "code",
   "execution_count": 43,
   "metadata": {},
   "outputs": [
    {
     "name": "stderr",
     "output_type": "stream",
     "text": [
      "C:\\Users\\TCLSOY~1\\AppData\\Local\\Temp/ipykernel_2204/1995845488.py:2: SettingWithCopyWarning: \n",
      "A value is trying to be set on a copy of a slice from a DataFrame.\n",
      "Try using .loc[row_indexer,col_indexer] = value instead\n",
      "\n",
      "See the caveats in the documentation: https://pandas.pydata.org/pandas-docs/stable/user_guide/indexing.html#returning-a-view-versus-a-copy\n",
      "  veh['date'] = pd.to_datetime(veh['date'])\n"
     ]
    }
   ],
   "source": [
    "veh = df[['date', 'avg_number_of_vehicles']]\n",
    "veh['date'] = pd.to_datetime(veh['date'])"
   ]
  },
  {
   "cell_type": "code",
   "execution_count": 44,
   "metadata": {},
   "outputs": [
    {
     "data": {
      "text/html": [
       "<div>\n",
       "<style scoped>\n",
       "    .dataframe tbody tr th:only-of-type {\n",
       "        vertical-align: middle;\n",
       "    }\n",
       "\n",
       "    .dataframe tbody tr th {\n",
       "        vertical-align: top;\n",
       "    }\n",
       "\n",
       "    .dataframe thead th {\n",
       "        text-align: right;\n",
       "    }\n",
       "</style>\n",
       "<table border=\"1\" class=\"dataframe\">\n",
       "  <thead>\n",
       "    <tr style=\"text-align: right;\">\n",
       "      <th></th>\n",
       "      <th>avg_number_of_vehicles</th>\n",
       "    </tr>\n",
       "    <tr>\n",
       "      <th>date</th>\n",
       "      <th></th>\n",
       "    </tr>\n",
       "  </thead>\n",
       "  <tbody>\n",
       "    <tr>\n",
       "      <th>2020-01-01</th>\n",
       "      <td>64.340000</td>\n",
       "    </tr>\n",
       "    <tr>\n",
       "      <th>2020-01-02</th>\n",
       "      <td>101.829583</td>\n",
       "    </tr>\n",
       "    <tr>\n",
       "      <th>2020-01-03</th>\n",
       "      <td>98.977083</td>\n",
       "    </tr>\n",
       "    <tr>\n",
       "      <th>2020-01-04</th>\n",
       "      <td>91.401667</td>\n",
       "    </tr>\n",
       "    <tr>\n",
       "      <th>2020-01-05</th>\n",
       "      <td>66.213750</td>\n",
       "    </tr>\n",
       "    <tr>\n",
       "      <th>...</th>\n",
       "      <td>...</td>\n",
       "    </tr>\n",
       "    <tr>\n",
       "      <th>2021-04-24</th>\n",
       "      <td>68.164583</td>\n",
       "    </tr>\n",
       "    <tr>\n",
       "      <th>2021-04-25</th>\n",
       "      <td>45.016250</td>\n",
       "    </tr>\n",
       "    <tr>\n",
       "      <th>2021-04-26</th>\n",
       "      <td>91.155833</td>\n",
       "    </tr>\n",
       "    <tr>\n",
       "      <th>2021-04-27</th>\n",
       "      <td>92.519167</td>\n",
       "    </tr>\n",
       "    <tr>\n",
       "      <th>2021-04-28</th>\n",
       "      <td>87.088889</td>\n",
       "    </tr>\n",
       "  </tbody>\n",
       "</table>\n",
       "<p>484 rows × 1 columns</p>\n",
       "</div>"
      ],
      "text/plain": [
       "            avg_number_of_vehicles\n",
       "date                              \n",
       "2020-01-01               64.340000\n",
       "2020-01-02              101.829583\n",
       "2020-01-03               98.977083\n",
       "2020-01-04               91.401667\n",
       "2020-01-05               66.213750\n",
       "...                            ...\n",
       "2021-04-24               68.164583\n",
       "2021-04-25               45.016250\n",
       "2021-04-26               91.155833\n",
       "2021-04-27               92.519167\n",
       "2021-04-28               87.088889\n",
       "\n",
       "[484 rows x 1 columns]"
      ]
     },
     "execution_count": 44,
     "metadata": {},
     "output_type": "execute_result"
    }
   ],
   "source": [
    "veh = veh.set_index('date').resample(rule='D').mean()\n",
    "veh"
   ]
  },
  {
   "cell_type": "code",
   "execution_count": 45,
   "metadata": {},
   "outputs": [
    {
     "data": {
      "text/html": [
       "<div>\n",
       "<style scoped>\n",
       "    .dataframe tbody tr th:only-of-type {\n",
       "        vertical-align: middle;\n",
       "    }\n",
       "\n",
       "    .dataframe tbody tr th {\n",
       "        vertical-align: top;\n",
       "    }\n",
       "\n",
       "    .dataframe thead th {\n",
       "        text-align: right;\n",
       "    }\n",
       "</style>\n",
       "<table border=\"1\" class=\"dataframe\">\n",
       "  <thead>\n",
       "    <tr style=\"text-align: right;\">\n",
       "      <th></th>\n",
       "      <th>avg_number_of_vehicles</th>\n",
       "    </tr>\n",
       "    <tr>\n",
       "      <th>date</th>\n",
       "      <th></th>\n",
       "    </tr>\n",
       "  </thead>\n",
       "  <tbody>\n",
       "    <tr>\n",
       "      <th>2021-01-01</th>\n",
       "      <td>39.221250</td>\n",
       "    </tr>\n",
       "    <tr>\n",
       "      <th>2021-01-02</th>\n",
       "      <td>50.531250</td>\n",
       "    </tr>\n",
       "    <tr>\n",
       "      <th>2021-01-03</th>\n",
       "      <td>41.383043</td>\n",
       "    </tr>\n",
       "    <tr>\n",
       "      <th>2021-01-04</th>\n",
       "      <td>86.162083</td>\n",
       "    </tr>\n",
       "    <tr>\n",
       "      <th>2021-01-05</th>\n",
       "      <td>101.431250</td>\n",
       "    </tr>\n",
       "    <tr>\n",
       "      <th>...</th>\n",
       "      <td>...</td>\n",
       "    </tr>\n",
       "    <tr>\n",
       "      <th>2021-04-24</th>\n",
       "      <td>68.164583</td>\n",
       "    </tr>\n",
       "    <tr>\n",
       "      <th>2021-04-25</th>\n",
       "      <td>45.016250</td>\n",
       "    </tr>\n",
       "    <tr>\n",
       "      <th>2021-04-26</th>\n",
       "      <td>91.155833</td>\n",
       "    </tr>\n",
       "    <tr>\n",
       "      <th>2021-04-27</th>\n",
       "      <td>92.519167</td>\n",
       "    </tr>\n",
       "    <tr>\n",
       "      <th>2021-04-28</th>\n",
       "      <td>87.088889</td>\n",
       "    </tr>\n",
       "  </tbody>\n",
       "</table>\n",
       "<p>118 rows × 1 columns</p>\n",
       "</div>"
      ],
      "text/plain": [
       "            avg_number_of_vehicles\n",
       "date                              \n",
       "2021-01-01               39.221250\n",
       "2021-01-02               50.531250\n",
       "2021-01-03               41.383043\n",
       "2021-01-04               86.162083\n",
       "2021-01-05              101.431250\n",
       "...                            ...\n",
       "2021-04-24               68.164583\n",
       "2021-04-25               45.016250\n",
       "2021-04-26               91.155833\n",
       "2021-04-27               92.519167\n",
       "2021-04-28               87.088889\n",
       "\n",
       "[118 rows x 1 columns]"
      ]
     },
     "execution_count": 45,
     "metadata": {},
     "output_type": "execute_result"
    }
   ],
   "source": [
    "veh = veh['2021-01-01':'2021-04-28']\n",
    "veh"
   ]
  },
  {
   "cell_type": "code",
   "execution_count": 46,
   "metadata": {},
   "outputs": [
    {
     "data": {
      "image/png": "[encoded data removed]",
      "text/plain": [
       "<Figure size 432x288 with 1 Axes>"
      ]
     },
     "metadata": {
      "needs_background": "light"
     },
     "output_type": "display_data"
    }
   ],
   "source": [
    "veh.plot();"
   ]
  },
  {
   "cell_type": "code",
   "execution_count": 48,
   "metadata": {},
   "outputs": [
    {
     "data": {
      "text/plain": [
       "{Timestamp('2021-01-01 00:00:00', freq='D'),\n",
       " Timestamp('2021-01-02 00:00:00', freq='D'),\n",
       " Timestamp('2021-01-03 00:00:00', freq='D'),\n",
       " Timestamp('2021-01-04 00:00:00', freq='D'),\n",
       " Timestamp('2021-01-05 00:00:00', freq='D'),\n",
       " Timestamp('2021-01-06 00:00:00', freq='D'),\n",
       " Timestamp('2021-01-07 00:00:00', freq='D'),\n",
       " Timestamp('2021-01-08 00:00:00', freq='D'),\n",
       " Timestamp('2021-01-09 00:00:00', freq='D'),\n",
       " Timestamp('2021-01-10 00:00:00', freq='D'),\n",
       " Timestamp('2021-01-11 00:00:00', freq='D'),\n",
       " Timestamp('2021-01-12 00:00:00', freq='D'),\n",
       " Timestamp('2021-01-13 00:00:00', freq='D'),\n",
       " Timestamp('2021-01-14 00:00:00', freq='D'),\n",
       " Timestamp('2021-01-15 00:00:00', freq='D'),\n",
       " Timestamp('2021-01-16 00:00:00', freq='D'),\n",
       " Timestamp('2021-01-17 00:00:00', freq='D'),\n",
       " Timestamp('2021-01-18 00:00:00', freq='D'),\n",
       " Timestamp('2021-01-19 00:00:00', freq='D'),\n",
       " Timestamp('2021-01-20 00:00:00', freq='D'),\n",
       " Timestamp('2021-01-21 00:00:00', freq='D'),\n",
       " Timestamp('2021-01-22 00:00:00', freq='D'),\n",
       " Timestamp('2021-01-23 00:00:00', freq='D'),\n",
       " Timestamp('2021-01-24 00:00:00', freq='D'),\n",
       " Timestamp('2021-01-25 00:00:00', freq='D'),\n",
       " Timestamp('2021-01-26 00:00:00', freq='D'),\n",
       " Timestamp('2021-01-27 00:00:00', freq='D'),\n",
       " Timestamp('2021-01-28 00:00:00', freq='D'),\n",
       " Timestamp('2021-01-29 00:00:00', freq='D'),\n",
       " Timestamp('2021-01-30 00:00:00', freq='D'),\n",
       " Timestamp('2021-01-31 00:00:00', freq='D'),\n",
       " Timestamp('2021-02-01 00:00:00', freq='D'),\n",
       " Timestamp('2021-02-02 00:00:00', freq='D'),\n",
       " Timestamp('2021-02-03 00:00:00', freq='D'),\n",
       " Timestamp('2021-02-04 00:00:00', freq='D'),\n",
       " Timestamp('2021-02-05 00:00:00', freq='D'),\n",
       " Timestamp('2021-02-06 00:00:00', freq='D'),\n",
       " Timestamp('2021-02-07 00:00:00', freq='D'),\n",
       " Timestamp('2021-02-08 00:00:00', freq='D'),\n",
       " Timestamp('2021-02-09 00:00:00', freq='D'),\n",
       " Timestamp('2021-02-10 00:00:00', freq='D'),\n",
       " Timestamp('2021-02-11 00:00:00', freq='D'),\n",
       " Timestamp('2021-02-12 00:00:00', freq='D'),\n",
       " Timestamp('2021-02-13 00:00:00', freq='D'),\n",
       " Timestamp('2021-02-14 00:00:00', freq='D'),\n",
       " Timestamp('2021-02-15 00:00:00', freq='D'),\n",
       " Timestamp('2021-02-16 00:00:00', freq='D'),\n",
       " Timestamp('2021-02-17 00:00:00', freq='D'),\n",
       " Timestamp('2021-02-18 00:00:00', freq='D'),\n",
       " Timestamp('2021-02-19 00:00:00', freq='D'),\n",
       " Timestamp('2021-02-20 00:00:00', freq='D'),\n",
       " Timestamp('2021-02-21 00:00:00', freq='D'),\n",
       " Timestamp('2021-02-22 00:00:00', freq='D'),\n",
       " Timestamp('2021-02-23 00:00:00', freq='D'),\n",
       " Timestamp('2021-02-24 00:00:00', freq='D'),\n",
       " Timestamp('2021-02-25 00:00:00', freq='D'),\n",
       " Timestamp('2021-02-26 00:00:00', freq='D'),\n",
       " Timestamp('2021-02-27 00:00:00', freq='D'),\n",
       " Timestamp('2021-02-28 00:00:00', freq='D'),\n",
       " Timestamp('2021-03-01 00:00:00', freq='D'),\n",
       " Timestamp('2021-03-02 00:00:00', freq='D'),\n",
       " Timestamp('2021-03-03 00:00:00', freq='D'),\n",
       " Timestamp('2021-03-04 00:00:00', freq='D'),\n",
       " Timestamp('2021-03-05 00:00:00', freq='D'),\n",
       " Timestamp('2021-03-06 00:00:00', freq='D'),\n",
       " Timestamp('2021-03-07 00:00:00', freq='D'),\n",
       " Timestamp('2021-03-08 00:00:00', freq='D'),\n",
       " Timestamp('2021-03-09 00:00:00', freq='D'),\n",
       " Timestamp('2021-03-10 00:00:00', freq='D'),\n",
       " Timestamp('2021-03-11 00:00:00', freq='D'),\n",
       " Timestamp('2021-03-12 00:00:00', freq='D'),\n",
       " Timestamp('2021-03-13 00:00:00', freq='D'),\n",
       " Timestamp('2021-03-14 00:00:00', freq='D'),\n",
       " Timestamp('2021-03-15 00:00:00', freq='D'),\n",
       " Timestamp('2021-03-16 00:00:00', freq='D'),\n",
       " Timestamp('2021-03-17 00:00:00', freq='D'),\n",
       " Timestamp('2021-03-18 00:00:00', freq='D'),\n",
       " Timestamp('2021-03-19 00:00:00', freq='D'),\n",
       " Timestamp('2021-03-20 00:00:00', freq='D'),\n",
       " Timestamp('2021-03-21 00:00:00', freq='D'),\n",
       " Timestamp('2021-03-22 00:00:00', freq='D'),\n",
       " Timestamp('2021-03-23 00:00:00', freq='D'),\n",
       " Timestamp('2021-03-24 00:00:00', freq='D'),\n",
       " Timestamp('2021-03-25 00:00:00', freq='D'),\n",
       " Timestamp('2021-03-26 00:00:00', freq='D'),\n",
       " Timestamp('2021-03-27 00:00:00', freq='D'),\n",
       " Timestamp('2021-03-28 00:00:00', freq='D'),\n",
       " Timestamp('2021-03-29 00:00:00', freq='D'),\n",
       " Timestamp('2021-03-30 00:00:00', freq='D'),\n",
       " Timestamp('2021-03-31 00:00:00', freq='D'),\n",
       " Timestamp('2021-04-01 00:00:00', freq='D'),\n",
       " Timestamp('2021-04-02 00:00:00', freq='D'),\n",
       " Timestamp('2021-04-03 00:00:00', freq='D'),\n",
       " Timestamp('2021-04-04 00:00:00', freq='D'),\n",
       " Timestamp('2021-04-05 00:00:00', freq='D'),\n",
       " Timestamp('2021-04-06 00:00:00', freq='D'),\n",
       " Timestamp('2021-04-07 00:00:00', freq='D'),\n",
       " Timestamp('2021-04-08 00:00:00', freq='D'),\n",
       " Timestamp('2021-04-09 00:00:00', freq='D'),\n",
       " Timestamp('2021-04-10 00:00:00', freq='D'),\n",
       " Timestamp('2021-04-11 00:00:00', freq='D'),\n",
       " Timestamp('2021-04-12 00:00:00', freq='D'),\n",
       " Timestamp('2021-04-13 00:00:00', freq='D'),\n",
       " Timestamp('2021-04-14 00:00:00', freq='D'),\n",
       " Timestamp('2021-04-15 00:00:00', freq='D'),\n",
       " Timestamp('2021-04-16 00:00:00', freq='D'),\n",
       " Timestamp('2021-04-17 00:00:00', freq='D'),\n",
       " Timestamp('2021-04-18 00:00:00', freq='D'),\n",
       " Timestamp('2021-04-19 00:00:00', freq='D'),\n",
       " Timestamp('2021-04-20 00:00:00', freq='D'),\n",
       " Timestamp('2021-04-21 00:00:00', freq='D'),\n",
       " Timestamp('2021-04-22 00:00:00', freq='D'),\n",
       " Timestamp('2021-04-23 00:00:00', freq='D'),\n",
       " Timestamp('2021-04-24 00:00:00', freq='D'),\n",
       " Timestamp('2021-04-25 00:00:00', freq='D'),\n",
       " Timestamp('2021-04-26 00:00:00', freq='D'),\n",
       " Timestamp('2021-04-27 00:00:00', freq='D'),\n",
       " Timestamp('2021-04-28 00:00:00', freq='D')}"
      ]
     },
     "execution_count": 48,
     "metadata": {},
     "output_type": "execute_result"
    }
   ],
   "source": [
    "set(veh.index.tolist())"
   ]
  },
  {
   "cell_type": "code",
   "execution_count": 47,
   "metadata": {},
   "outputs": [
    {
     "name": "stderr",
     "output_type": "stream",
     "text": [
      "C:\\Users\\TCLSOY~1\\AppData\\Local\\Temp/ipykernel_2204/3244118368.py:4: DeprecationWarning: The default dtype for empty Series will be 'object' instead of 'float64' in a future version. Specify a dtype explicitly to silence this warning.\n",
      "  missing_days = pd.Series(list(missing_days)).sort_values().reset_index(drop=True)\n"
     ]
    },
    {
     "data": {
      "text/plain": [
       "array([], dtype=float64)"
      ]
     },
     "execution_count": 47,
     "metadata": {},
     "output_type": "execute_result"
    }
   ],
   "source": [
    "full_range = set(pd.date_range('2021-01-01', '2021-04-28', freq='D'))\n",
    "veh_dates = set(veh.index.tolist())\n",
    "missing_days = full_range.difference(veh_dates)\n",
    "missing_days = pd.Series(list(missing_days)).sort_values().reset_index(drop=True)\n",
    "missing_days.values"
   ]
  },
  {
   "cell_type": "code",
   "execution_count": 38,
   "metadata": {},
   "outputs": [
    {
     "data": {
      "text/plain": [
       "{Timestamp('2020-01-01 00:00:00', freq='D'),\n",
       " Timestamp('2020-01-02 00:00:00', freq='D'),\n",
       " Timestamp('2020-01-03 00:00:00', freq='D'),\n",
       " Timestamp('2020-01-04 00:00:00', freq='D'),\n",
       " Timestamp('2020-01-05 00:00:00', freq='D'),\n",
       " Timestamp('2020-01-06 00:00:00', freq='D'),\n",
       " Timestamp('2020-01-07 00:00:00', freq='D'),\n",
       " Timestamp('2020-01-08 00:00:00', freq='D'),\n",
       " Timestamp('2020-01-09 00:00:00', freq='D'),\n",
       " Timestamp('2020-01-10 00:00:00', freq='D'),\n",
       " Timestamp('2020-01-11 00:00:00', freq='D'),\n",
       " Timestamp('2020-01-12 00:00:00', freq='D'),\n",
       " Timestamp('2020-01-13 00:00:00', freq='D'),\n",
       " Timestamp('2020-01-14 00:00:00', freq='D'),\n",
       " Timestamp('2020-01-15 00:00:00', freq='D'),\n",
       " Timestamp('2020-01-16 00:00:00', freq='D'),\n",
       " Timestamp('2020-01-17 00:00:00', freq='D'),\n",
       " Timestamp('2020-01-18 00:00:00', freq='D'),\n",
       " Timestamp('2020-01-19 00:00:00', freq='D'),\n",
       " Timestamp('2020-01-20 00:00:00', freq='D'),\n",
       " Timestamp('2020-01-21 00:00:00', freq='D'),\n",
       " Timestamp('2020-01-22 00:00:00', freq='D'),\n",
       " Timestamp('2020-01-23 00:00:00', freq='D'),\n",
       " Timestamp('2020-01-24 00:00:00', freq='D'),\n",
       " Timestamp('2020-01-25 00:00:00', freq='D'),\n",
       " Timestamp('2020-01-26 00:00:00', freq='D'),\n",
       " Timestamp('2020-01-27 00:00:00', freq='D'),\n",
       " Timestamp('2020-01-28 00:00:00', freq='D'),\n",
       " Timestamp('2020-01-29 00:00:00', freq='D'),\n",
       " Timestamp('2020-01-30 00:00:00', freq='D'),\n",
       " Timestamp('2020-01-31 00:00:00', freq='D'),\n",
       " Timestamp('2020-02-01 00:00:00', freq='D'),\n",
       " Timestamp('2020-02-02 00:00:00', freq='D'),\n",
       " Timestamp('2020-02-03 00:00:00', freq='D'),\n",
       " Timestamp('2020-02-04 00:00:00', freq='D'),\n",
       " Timestamp('2020-02-05 00:00:00', freq='D'),\n",
       " Timestamp('2020-02-06 00:00:00', freq='D'),\n",
       " Timestamp('2020-02-07 00:00:00', freq='D'),\n",
       " Timestamp('2020-02-08 00:00:00', freq='D'),\n",
       " Timestamp('2020-02-09 00:00:00', freq='D'),\n",
       " Timestamp('2020-02-10 00:00:00', freq='D'),\n",
       " Timestamp('2020-02-11 00:00:00', freq='D'),\n",
       " Timestamp('2020-02-12 00:00:00', freq='D'),\n",
       " Timestamp('2020-02-13 00:00:00', freq='D'),\n",
       " Timestamp('2020-02-14 00:00:00', freq='D'),\n",
       " Timestamp('2020-02-15 00:00:00', freq='D'),\n",
       " Timestamp('2020-02-16 00:00:00', freq='D'),\n",
       " Timestamp('2020-02-17 00:00:00', freq='D'),\n",
       " Timestamp('2020-02-18 00:00:00', freq='D'),\n",
       " Timestamp('2020-02-19 00:00:00', freq='D'),\n",
       " Timestamp('2020-02-20 00:00:00', freq='D'),\n",
       " Timestamp('2020-02-21 00:00:00', freq='D'),\n",
       " Timestamp('2020-02-22 00:00:00', freq='D'),\n",
       " Timestamp('2020-02-23 00:00:00', freq='D'),\n",
       " Timestamp('2020-02-24 00:00:00', freq='D'),\n",
       " Timestamp('2020-02-25 00:00:00', freq='D'),\n",
       " Timestamp('2020-02-26 00:00:00', freq='D'),\n",
       " Timestamp('2020-02-27 00:00:00', freq='D'),\n",
       " Timestamp('2020-02-28 00:00:00', freq='D'),\n",
       " Timestamp('2020-02-29 00:00:00', freq='D'),\n",
       " Timestamp('2020-03-01 00:00:00', freq='D'),\n",
       " Timestamp('2020-03-02 00:00:00', freq='D'),\n",
       " Timestamp('2020-03-03 00:00:00', freq='D'),\n",
       " Timestamp('2020-03-04 00:00:00', freq='D'),\n",
       " Timestamp('2020-03-05 00:00:00', freq='D'),\n",
       " Timestamp('2020-03-06 00:00:00', freq='D'),\n",
       " Timestamp('2020-03-07 00:00:00', freq='D'),\n",
       " Timestamp('2020-03-08 00:00:00', freq='D'),\n",
       " Timestamp('2020-03-09 00:00:00', freq='D'),\n",
       " Timestamp('2020-03-10 00:00:00', freq='D'),\n",
       " Timestamp('2020-03-11 00:00:00', freq='D'),\n",
       " Timestamp('2020-03-12 00:00:00', freq='D'),\n",
       " Timestamp('2020-03-13 00:00:00', freq='D'),\n",
       " Timestamp('2020-03-14 00:00:00', freq='D'),\n",
       " Timestamp('2020-03-15 00:00:00', freq='D'),\n",
       " Timestamp('2020-03-16 00:00:00', freq='D'),\n",
       " Timestamp('2020-03-17 00:00:00', freq='D'),\n",
       " Timestamp('2020-03-18 00:00:00', freq='D'),\n",
       " Timestamp('2020-03-19 00:00:00', freq='D'),\n",
       " Timestamp('2020-03-20 00:00:00', freq='D'),\n",
       " Timestamp('2020-03-21 00:00:00', freq='D'),\n",
       " Timestamp('2020-03-22 00:00:00', freq='D'),\n",
       " Timestamp('2020-03-23 00:00:00', freq='D'),\n",
       " Timestamp('2020-03-24 00:00:00', freq='D'),\n",
       " Timestamp('2020-03-25 00:00:00', freq='D'),\n",
       " Timestamp('2020-03-26 00:00:00', freq='D'),\n",
       " Timestamp('2020-03-27 00:00:00', freq='D'),\n",
       " Timestamp('2020-03-28 00:00:00', freq='D'),\n",
       " Timestamp('2020-03-29 00:00:00', freq='D'),\n",
       " Timestamp('2020-03-30 00:00:00', freq='D'),\n",
       " Timestamp('2020-03-31 00:00:00', freq='D'),\n",
       " Timestamp('2020-04-01 00:00:00', freq='D'),\n",
       " Timestamp('2020-04-02 00:00:00', freq='D'),\n",
       " Timestamp('2020-04-03 00:00:00', freq='D'),\n",
       " Timestamp('2020-04-04 00:00:00', freq='D'),\n",
       " Timestamp('2020-04-05 00:00:00', freq='D'),\n",
       " Timestamp('2020-04-06 00:00:00', freq='D'),\n",
       " Timestamp('2020-04-07 00:00:00', freq='D'),\n",
       " Timestamp('2020-04-08 00:00:00', freq='D'),\n",
       " Timestamp('2020-04-09 00:00:00', freq='D'),\n",
       " Timestamp('2020-04-10 00:00:00', freq='D'),\n",
       " Timestamp('2020-04-11 00:00:00', freq='D'),\n",
       " Timestamp('2020-04-12 00:00:00', freq='D'),\n",
       " Timestamp('2020-04-13 00:00:00', freq='D'),\n",
       " Timestamp('2020-04-14 00:00:00', freq='D'),\n",
       " Timestamp('2020-04-15 00:00:00', freq='D'),\n",
       " Timestamp('2020-04-16 00:00:00', freq='D'),\n",
       " Timestamp('2020-04-17 00:00:00', freq='D'),\n",
       " Timestamp('2020-04-18 00:00:00', freq='D'),\n",
       " Timestamp('2020-04-19 00:00:00', freq='D'),\n",
       " Timestamp('2020-04-20 00:00:00', freq='D'),\n",
       " Timestamp('2020-04-21 00:00:00', freq='D'),\n",
       " Timestamp('2020-04-22 00:00:00', freq='D'),\n",
       " Timestamp('2020-04-23 00:00:00', freq='D'),\n",
       " Timestamp('2020-04-24 00:00:00', freq='D'),\n",
       " Timestamp('2020-04-25 00:00:00', freq='D'),\n",
       " Timestamp('2020-04-26 00:00:00', freq='D'),\n",
       " Timestamp('2020-04-27 00:00:00', freq='D'),\n",
       " Timestamp('2020-04-28 00:00:00', freq='D'),\n",
       " Timestamp('2020-04-29 00:00:00', freq='D'),\n",
       " Timestamp('2020-04-30 00:00:00', freq='D'),\n",
       " Timestamp('2020-05-01 00:00:00', freq='D'),\n",
       " Timestamp('2020-05-02 00:00:00', freq='D'),\n",
       " Timestamp('2020-05-03 00:00:00', freq='D'),\n",
       " Timestamp('2020-05-04 00:00:00', freq='D'),\n",
       " Timestamp('2020-05-05 00:00:00', freq='D'),\n",
       " Timestamp('2020-05-06 00:00:00', freq='D'),\n",
       " Timestamp('2020-05-07 00:00:00', freq='D'),\n",
       " Timestamp('2020-05-08 00:00:00', freq='D'),\n",
       " Timestamp('2020-05-09 00:00:00', freq='D'),\n",
       " Timestamp('2020-05-10 00:00:00', freq='D'),\n",
       " Timestamp('2020-05-11 00:00:00', freq='D'),\n",
       " Timestamp('2020-05-12 00:00:00', freq='D'),\n",
       " Timestamp('2020-05-13 00:00:00', freq='D'),\n",
       " Timestamp('2020-05-14 00:00:00', freq='D'),\n",
       " Timestamp('2020-05-15 00:00:00', freq='D'),\n",
       " Timestamp('2020-05-16 00:00:00', freq='D'),\n",
       " Timestamp('2020-05-17 00:00:00', freq='D'),\n",
       " Timestamp('2020-05-18 00:00:00', freq='D'),\n",
       " Timestamp('2020-05-19 00:00:00', freq='D'),\n",
       " Timestamp('2020-05-20 00:00:00', freq='D'),\n",
       " Timestamp('2020-05-21 00:00:00', freq='D'),\n",
       " Timestamp('2020-05-22 00:00:00', freq='D'),\n",
       " Timestamp('2020-05-23 00:00:00', freq='D'),\n",
       " Timestamp('2020-05-24 00:00:00', freq='D'),\n",
       " Timestamp('2020-05-25 00:00:00', freq='D'),\n",
       " Timestamp('2020-05-26 00:00:00', freq='D'),\n",
       " Timestamp('2020-05-27 00:00:00', freq='D'),\n",
       " Timestamp('2020-05-28 00:00:00', freq='D'),\n",
       " Timestamp('2020-05-29 00:00:00', freq='D'),\n",
       " Timestamp('2020-05-30 00:00:00', freq='D'),\n",
       " Timestamp('2020-05-31 00:00:00', freq='D'),\n",
       " Timestamp('2020-06-01 00:00:00', freq='D'),\n",
       " Timestamp('2020-06-02 00:00:00', freq='D'),\n",
       " Timestamp('2020-06-03 00:00:00', freq='D'),\n",
       " Timestamp('2020-06-04 00:00:00', freq='D'),\n",
       " Timestamp('2020-06-05 00:00:00', freq='D'),\n",
       " Timestamp('2020-06-06 00:00:00', freq='D'),\n",
       " Timestamp('2020-06-07 00:00:00', freq='D'),\n",
       " Timestamp('2020-06-08 00:00:00', freq='D'),\n",
       " Timestamp('2020-06-09 00:00:00', freq='D'),\n",
       " Timestamp('2020-06-10 00:00:00', freq='D'),\n",
       " Timestamp('2020-06-11 00:00:00', freq='D'),\n",
       " Timestamp('2020-06-12 00:00:00', freq='D'),\n",
       " Timestamp('2020-06-13 00:00:00', freq='D'),\n",
       " Timestamp('2020-06-14 00:00:00', freq='D'),\n",
       " Timestamp('2020-06-15 00:00:00', freq='D'),\n",
       " Timestamp('2020-06-16 00:00:00', freq='D'),\n",
       " Timestamp('2020-06-17 00:00:00', freq='D'),\n",
       " Timestamp('2020-06-18 00:00:00', freq='D'),\n",
       " Timestamp('2020-06-19 00:00:00', freq='D'),\n",
       " Timestamp('2020-06-20 00:00:00', freq='D'),\n",
       " Timestamp('2020-06-21 00:00:00', freq='D'),\n",
       " Timestamp('2020-06-22 00:00:00', freq='D'),\n",
       " Timestamp('2020-06-23 00:00:00', freq='D'),\n",
       " Timestamp('2020-06-24 00:00:00', freq='D'),\n",
       " Timestamp('2020-06-25 00:00:00', freq='D'),\n",
       " Timestamp('2020-06-26 00:00:00', freq='D'),\n",
       " Timestamp('2020-06-27 00:00:00', freq='D'),\n",
       " Timestamp('2020-06-28 00:00:00', freq='D'),\n",
       " Timestamp('2020-06-29 00:00:00', freq='D'),\n",
       " Timestamp('2020-06-30 00:00:00', freq='D'),\n",
       " Timestamp('2020-07-01 00:00:00', freq='D'),\n",
       " Timestamp('2020-07-02 00:00:00', freq='D'),\n",
       " Timestamp('2020-07-03 00:00:00', freq='D'),\n",
       " Timestamp('2020-07-04 00:00:00', freq='D'),\n",
       " Timestamp('2020-07-05 00:00:00', freq='D'),\n",
       " Timestamp('2020-07-06 00:00:00', freq='D'),\n",
       " Timestamp('2020-07-07 00:00:00', freq='D'),\n",
       " Timestamp('2020-07-08 00:00:00', freq='D'),\n",
       " Timestamp('2020-07-09 00:00:00', freq='D'),\n",
       " Timestamp('2020-07-10 00:00:00', freq='D'),\n",
       " Timestamp('2020-07-11 00:00:00', freq='D'),\n",
       " Timestamp('2020-07-12 00:00:00', freq='D'),\n",
       " Timestamp('2020-07-13 00:00:00', freq='D'),\n",
       " Timestamp('2020-07-14 00:00:00', freq='D'),\n",
       " Timestamp('2020-07-15 00:00:00', freq='D'),\n",
       " Timestamp('2020-07-16 00:00:00', freq='D'),\n",
       " Timestamp('2020-07-17 00:00:00', freq='D'),\n",
       " Timestamp('2020-07-18 00:00:00', freq='D'),\n",
       " Timestamp('2020-07-19 00:00:00', freq='D'),\n",
       " Timestamp('2020-07-20 00:00:00', freq='D'),\n",
       " Timestamp('2020-07-21 00:00:00', freq='D'),\n",
       " Timestamp('2020-07-22 00:00:00', freq='D'),\n",
       " Timestamp('2020-07-23 00:00:00', freq='D'),\n",
       " Timestamp('2020-07-24 00:00:00', freq='D'),\n",
       " Timestamp('2020-07-25 00:00:00', freq='D'),\n",
       " Timestamp('2020-07-26 00:00:00', freq='D'),\n",
       " Timestamp('2020-07-27 00:00:00', freq='D'),\n",
       " Timestamp('2020-07-28 00:00:00', freq='D'),\n",
       " Timestamp('2020-07-29 00:00:00', freq='D'),\n",
       " Timestamp('2020-07-30 00:00:00', freq='D'),\n",
       " Timestamp('2020-07-31 00:00:00', freq='D'),\n",
       " Timestamp('2020-08-01 00:00:00', freq='D'),\n",
       " Timestamp('2020-08-02 00:00:00', freq='D'),\n",
       " Timestamp('2020-08-03 00:00:00', freq='D'),\n",
       " Timestamp('2020-08-04 00:00:00', freq='D'),\n",
       " Timestamp('2020-08-05 00:00:00', freq='D'),\n",
       " Timestamp('2020-08-06 00:00:00', freq='D'),\n",
       " Timestamp('2020-08-07 00:00:00', freq='D'),\n",
       " Timestamp('2020-08-08 00:00:00', freq='D'),\n",
       " Timestamp('2020-08-09 00:00:00', freq='D'),\n",
       " Timestamp('2020-08-10 00:00:00', freq='D'),\n",
       " Timestamp('2020-08-11 00:00:00', freq='D'),\n",
       " Timestamp('2020-08-12 00:00:00', freq='D'),\n",
       " Timestamp('2020-08-13 00:00:00', freq='D'),\n",
       " Timestamp('2020-08-14 00:00:00', freq='D'),\n",
       " Timestamp('2020-08-15 00:00:00', freq='D'),\n",
       " Timestamp('2020-08-16 00:00:00', freq='D'),\n",
       " Timestamp('2020-08-17 00:00:00', freq='D'),\n",
       " Timestamp('2020-08-18 00:00:00', freq='D'),\n",
       " Timestamp('2020-08-19 00:00:00', freq='D'),\n",
       " Timestamp('2020-08-20 00:00:00', freq='D'),\n",
       " Timestamp('2020-08-21 00:00:00', freq='D'),\n",
       " Timestamp('2020-08-22 00:00:00', freq='D'),\n",
       " Timestamp('2020-08-23 00:00:00', freq='D'),\n",
       " Timestamp('2020-08-24 00:00:00', freq='D'),\n",
       " Timestamp('2020-08-25 00:00:00', freq='D'),\n",
       " Timestamp('2020-08-26 00:00:00', freq='D'),\n",
       " Timestamp('2020-08-27 00:00:00', freq='D'),\n",
       " Timestamp('2020-08-28 00:00:00', freq='D'),\n",
       " Timestamp('2020-08-29 00:00:00', freq='D'),\n",
       " Timestamp('2020-08-30 00:00:00', freq='D'),\n",
       " Timestamp('2020-08-31 00:00:00', freq='D'),\n",
       " Timestamp('2020-09-01 00:00:00', freq='D'),\n",
       " Timestamp('2020-09-02 00:00:00', freq='D'),\n",
       " Timestamp('2020-09-03 00:00:00', freq='D'),\n",
       " Timestamp('2020-09-04 00:00:00', freq='D'),\n",
       " Timestamp('2020-09-05 00:00:00', freq='D'),\n",
       " Timestamp('2020-09-06 00:00:00', freq='D'),\n",
       " Timestamp('2020-09-07 00:00:00', freq='D'),\n",
       " Timestamp('2020-09-08 00:00:00', freq='D'),\n",
       " Timestamp('2020-09-09 00:00:00', freq='D'),\n",
       " Timestamp('2020-09-10 00:00:00', freq='D'),\n",
       " Timestamp('2020-09-11 00:00:00', freq='D'),\n",
       " Timestamp('2020-09-12 00:00:00', freq='D'),\n",
       " Timestamp('2020-09-13 00:00:00', freq='D'),\n",
       " Timestamp('2020-09-14 00:00:00', freq='D'),\n",
       " Timestamp('2020-09-15 00:00:00', freq='D'),\n",
       " Timestamp('2020-09-16 00:00:00', freq='D'),\n",
       " Timestamp('2020-09-17 00:00:00', freq='D'),\n",
       " Timestamp('2020-09-18 00:00:00', freq='D'),\n",
       " Timestamp('2020-09-19 00:00:00', freq='D'),\n",
       " Timestamp('2020-09-20 00:00:00', freq='D'),\n",
       " Timestamp('2020-09-21 00:00:00', freq='D'),\n",
       " Timestamp('2020-09-22 00:00:00', freq='D'),\n",
       " Timestamp('2020-09-23 00:00:00', freq='D'),\n",
       " Timestamp('2020-09-24 00:00:00', freq='D'),\n",
       " Timestamp('2020-09-25 00:00:00', freq='D'),\n",
       " Timestamp('2020-09-26 00:00:00', freq='D'),\n",
       " Timestamp('2020-09-27 00:00:00', freq='D'),\n",
       " Timestamp('2020-09-28 00:00:00', freq='D'),\n",
       " Timestamp('2020-09-29 00:00:00', freq='D'),\n",
       " Timestamp('2020-09-30 00:00:00', freq='D'),\n",
       " Timestamp('2020-10-01 00:00:00', freq='D'),\n",
       " Timestamp('2020-10-02 00:00:00', freq='D'),\n",
       " Timestamp('2020-10-03 00:00:00', freq='D'),\n",
       " Timestamp('2020-10-04 00:00:00', freq='D'),\n",
       " Timestamp('2020-10-05 00:00:00', freq='D'),\n",
       " Timestamp('2020-10-06 00:00:00', freq='D'),\n",
       " Timestamp('2020-10-07 00:00:00', freq='D'),\n",
       " Timestamp('2020-10-08 00:00:00', freq='D'),\n",
       " Timestamp('2020-10-09 00:00:00', freq='D'),\n",
       " Timestamp('2020-10-10 00:00:00', freq='D'),\n",
       " Timestamp('2020-10-11 00:00:00', freq='D'),\n",
       " Timestamp('2020-10-12 00:00:00', freq='D'),\n",
       " Timestamp('2020-10-13 00:00:00', freq='D'),\n",
       " Timestamp('2020-10-14 00:00:00', freq='D'),\n",
       " Timestamp('2020-10-15 00:00:00', freq='D'),\n",
       " Timestamp('2020-10-16 00:00:00', freq='D'),\n",
       " Timestamp('2020-10-17 00:00:00', freq='D'),\n",
       " Timestamp('2020-10-18 00:00:00', freq='D'),\n",
       " Timestamp('2020-10-19 00:00:00', freq='D'),\n",
       " Timestamp('2020-10-20 00:00:00', freq='D'),\n",
       " Timestamp('2020-10-21 00:00:00', freq='D'),\n",
       " Timestamp('2020-10-22 00:00:00', freq='D'),\n",
       " Timestamp('2020-10-23 00:00:00', freq='D'),\n",
       " Timestamp('2020-10-24 00:00:00', freq='D'),\n",
       " Timestamp('2020-10-25 00:00:00', freq='D'),\n",
       " Timestamp('2020-10-26 00:00:00', freq='D'),\n",
       " Timestamp('2020-10-27 00:00:00', freq='D'),\n",
       " Timestamp('2020-10-28 00:00:00', freq='D'),\n",
       " Timestamp('2020-10-29 00:00:00', freq='D'),\n",
       " Timestamp('2020-10-30 00:00:00', freq='D'),\n",
       " Timestamp('2020-10-31 00:00:00', freq='D'),\n",
       " Timestamp('2020-11-01 00:00:00', freq='D'),\n",
       " Timestamp('2020-11-02 00:00:00', freq='D'),\n",
       " Timestamp('2020-11-03 00:00:00', freq='D'),\n",
       " Timestamp('2020-11-04 00:00:00', freq='D'),\n",
       " Timestamp('2020-11-05 00:00:00', freq='D'),\n",
       " Timestamp('2020-11-06 00:00:00', freq='D'),\n",
       " Timestamp('2020-11-07 00:00:00', freq='D'),\n",
       " Timestamp('2020-11-08 00:00:00', freq='D'),\n",
       " Timestamp('2020-11-09 00:00:00', freq='D'),\n",
       " Timestamp('2020-11-10 00:00:00', freq='D'),\n",
       " Timestamp('2020-11-11 00:00:00', freq='D'),\n",
       " Timestamp('2020-11-12 00:00:00', freq='D'),\n",
       " Timestamp('2020-11-13 00:00:00', freq='D'),\n",
       " Timestamp('2020-11-14 00:00:00', freq='D'),\n",
       " Timestamp('2020-11-15 00:00:00', freq='D'),\n",
       " Timestamp('2020-11-16 00:00:00', freq='D'),\n",
       " Timestamp('2020-11-17 00:00:00', freq='D'),\n",
       " Timestamp('2020-11-18 00:00:00', freq='D'),\n",
       " Timestamp('2020-11-19 00:00:00', freq='D'),\n",
       " Timestamp('2020-11-20 00:00:00', freq='D'),\n",
       " Timestamp('2020-11-21 00:00:00', freq='D'),\n",
       " Timestamp('2020-11-22 00:00:00', freq='D'),\n",
       " Timestamp('2020-11-23 00:00:00', freq='D'),\n",
       " Timestamp('2020-11-24 00:00:00', freq='D'),\n",
       " Timestamp('2020-11-25 00:00:00', freq='D'),\n",
       " Timestamp('2020-11-26 00:00:00', freq='D'),\n",
       " Timestamp('2020-11-27 00:00:00', freq='D'),\n",
       " Timestamp('2020-11-28 00:00:00', freq='D'),\n",
       " Timestamp('2020-11-29 00:00:00', freq='D'),\n",
       " Timestamp('2020-11-30 00:00:00', freq='D'),\n",
       " Timestamp('2020-12-01 00:00:00', freq='D'),\n",
       " Timestamp('2020-12-02 00:00:00', freq='D'),\n",
       " Timestamp('2020-12-03 00:00:00', freq='D'),\n",
       " Timestamp('2020-12-04 00:00:00', freq='D'),\n",
       " Timestamp('2020-12-05 00:00:00', freq='D'),\n",
       " Timestamp('2020-12-06 00:00:00', freq='D'),\n",
       " Timestamp('2020-12-07 00:00:00', freq='D'),\n",
       " Timestamp('2020-12-08 00:00:00', freq='D'),\n",
       " Timestamp('2020-12-09 00:00:00', freq='D'),\n",
       " Timestamp('2020-12-10 00:00:00', freq='D'),\n",
       " Timestamp('2020-12-11 00:00:00', freq='D'),\n",
       " Timestamp('2020-12-12 00:00:00', freq='D'),\n",
       " Timestamp('2020-12-13 00:00:00', freq='D'),\n",
       " Timestamp('2020-12-14 00:00:00', freq='D'),\n",
       " Timestamp('2020-12-15 00:00:00', freq='D'),\n",
       " Timestamp('2020-12-16 00:00:00', freq='D'),\n",
       " Timestamp('2020-12-17 00:00:00', freq='D'),\n",
       " Timestamp('2020-12-18 00:00:00', freq='D'),\n",
       " Timestamp('2020-12-19 00:00:00', freq='D'),\n",
       " Timestamp('2020-12-20 00:00:00', freq='D'),\n",
       " Timestamp('2020-12-21 00:00:00', freq='D'),\n",
       " Timestamp('2020-12-22 00:00:00', freq='D'),\n",
       " Timestamp('2020-12-23 00:00:00', freq='D'),\n",
       " Timestamp('2020-12-24 00:00:00', freq='D'),\n",
       " Timestamp('2020-12-25 00:00:00', freq='D'),\n",
       " Timestamp('2020-12-26 00:00:00', freq='D'),\n",
       " Timestamp('2020-12-27 00:00:00', freq='D'),\n",
       " Timestamp('2020-12-28 00:00:00', freq='D'),\n",
       " Timestamp('2020-12-29 00:00:00', freq='D'),\n",
       " Timestamp('2020-12-30 00:00:00', freq='D'),\n",
       " Timestamp('2020-12-31 00:00:00', freq='D'),\n",
       " Timestamp('2021-01-01 00:00:00', freq='D'),\n",
       " Timestamp('2021-01-02 00:00:00', freq='D'),\n",
       " Timestamp('2021-01-03 00:00:00', freq='D'),\n",
       " Timestamp('2021-01-04 00:00:00', freq='D'),\n",
       " Timestamp('2021-01-05 00:00:00', freq='D'),\n",
       " Timestamp('2021-01-06 00:00:00', freq='D'),\n",
       " Timestamp('2021-01-07 00:00:00', freq='D'),\n",
       " Timestamp('2021-01-08 00:00:00', freq='D'),\n",
       " Timestamp('2021-01-09 00:00:00', freq='D'),\n",
       " Timestamp('2021-01-10 00:00:00', freq='D'),\n",
       " Timestamp('2021-01-11 00:00:00', freq='D'),\n",
       " Timestamp('2021-01-12 00:00:00', freq='D'),\n",
       " Timestamp('2021-01-13 00:00:00', freq='D'),\n",
       " Timestamp('2021-01-14 00:00:00', freq='D'),\n",
       " Timestamp('2021-01-15 00:00:00', freq='D'),\n",
       " Timestamp('2021-01-16 00:00:00', freq='D'),\n",
       " Timestamp('2021-01-17 00:00:00', freq='D'),\n",
       " Timestamp('2021-01-18 00:00:00', freq='D'),\n",
       " Timestamp('2021-01-19 00:00:00', freq='D'),\n",
       " Timestamp('2021-01-20 00:00:00', freq='D'),\n",
       " Timestamp('2021-01-21 00:00:00', freq='D'),\n",
       " Timestamp('2021-01-22 00:00:00', freq='D'),\n",
       " Timestamp('2021-01-23 00:00:00', freq='D'),\n",
       " Timestamp('2021-01-24 00:00:00', freq='D'),\n",
       " Timestamp('2021-01-25 00:00:00', freq='D'),\n",
       " Timestamp('2021-01-26 00:00:00', freq='D'),\n",
       " Timestamp('2021-01-27 00:00:00', freq='D'),\n",
       " Timestamp('2021-01-28 00:00:00', freq='D'),\n",
       " Timestamp('2021-01-29 00:00:00', freq='D'),\n",
       " Timestamp('2021-01-30 00:00:00', freq='D'),\n",
       " Timestamp('2021-01-31 00:00:00', freq='D'),\n",
       " Timestamp('2021-02-01 00:00:00', freq='D'),\n",
       " Timestamp('2021-02-02 00:00:00', freq='D'),\n",
       " Timestamp('2021-02-03 00:00:00', freq='D'),\n",
       " Timestamp('2021-02-04 00:00:00', freq='D'),\n",
       " Timestamp('2021-02-05 00:00:00', freq='D'),\n",
       " Timestamp('2021-02-06 00:00:00', freq='D'),\n",
       " Timestamp('2021-02-07 00:00:00', freq='D'),\n",
       " Timestamp('2021-02-08 00:00:00', freq='D'),\n",
       " Timestamp('2021-02-09 00:00:00', freq='D'),\n",
       " Timestamp('2021-02-10 00:00:00', freq='D'),\n",
       " Timestamp('2021-02-11 00:00:00', freq='D'),\n",
       " Timestamp('2021-02-12 00:00:00', freq='D'),\n",
       " Timestamp('2021-02-13 00:00:00', freq='D'),\n",
       " Timestamp('2021-02-14 00:00:00', freq='D'),\n",
       " Timestamp('2021-02-15 00:00:00', freq='D'),\n",
       " Timestamp('2021-02-16 00:00:00', freq='D'),\n",
       " Timestamp('2021-02-17 00:00:00', freq='D'),\n",
       " Timestamp('2021-02-18 00:00:00', freq='D'),\n",
       " Timestamp('2021-02-19 00:00:00', freq='D'),\n",
       " Timestamp('2021-02-20 00:00:00', freq='D'),\n",
       " Timestamp('2021-02-21 00:00:00', freq='D'),\n",
       " Timestamp('2021-02-22 00:00:00', freq='D'),\n",
       " Timestamp('2021-02-23 00:00:00', freq='D'),\n",
       " Timestamp('2021-02-24 00:00:00', freq='D'),\n",
       " Timestamp('2021-02-25 00:00:00', freq='D'),\n",
       " Timestamp('2021-02-26 00:00:00', freq='D'),\n",
       " Timestamp('2021-02-27 00:00:00', freq='D'),\n",
       " Timestamp('2021-02-28 00:00:00', freq='D'),\n",
       " Timestamp('2021-03-01 00:00:00', freq='D'),\n",
       " Timestamp('2021-03-02 00:00:00', freq='D'),\n",
       " Timestamp('2021-03-03 00:00:00', freq='D'),\n",
       " Timestamp('2021-03-04 00:00:00', freq='D'),\n",
       " Timestamp('2021-03-05 00:00:00', freq='D'),\n",
       " Timestamp('2021-03-06 00:00:00', freq='D'),\n",
       " Timestamp('2021-03-07 00:00:00', freq='D'),\n",
       " Timestamp('2021-03-08 00:00:00', freq='D'),\n",
       " Timestamp('2021-03-09 00:00:00', freq='D'),\n",
       " Timestamp('2021-03-10 00:00:00', freq='D'),\n",
       " Timestamp('2021-03-11 00:00:00', freq='D'),\n",
       " Timestamp('2021-03-12 00:00:00', freq='D'),\n",
       " Timestamp('2021-03-13 00:00:00', freq='D'),\n",
       " Timestamp('2021-03-14 00:00:00', freq='D'),\n",
       " Timestamp('2021-03-15 00:00:00', freq='D'),\n",
       " Timestamp('2021-03-16 00:00:00', freq='D'),\n",
       " Timestamp('2021-03-17 00:00:00', freq='D'),\n",
       " Timestamp('2021-03-18 00:00:00', freq='D'),\n",
       " Timestamp('2021-03-19 00:00:00', freq='D'),\n",
       " Timestamp('2021-03-20 00:00:00', freq='D'),\n",
       " Timestamp('2021-03-21 00:00:00', freq='D'),\n",
       " Timestamp('2021-03-22 00:00:00', freq='D'),\n",
       " Timestamp('2021-03-23 00:00:00', freq='D'),\n",
       " Timestamp('2021-03-24 00:00:00', freq='D'),\n",
       " Timestamp('2021-03-25 00:00:00', freq='D'),\n",
       " Timestamp('2021-03-26 00:00:00', freq='D'),\n",
       " Timestamp('2021-03-27 00:00:00', freq='D'),\n",
       " Timestamp('2021-03-28 00:00:00', freq='D'),\n",
       " Timestamp('2021-03-29 00:00:00', freq='D'),\n",
       " Timestamp('2021-03-30 00:00:00', freq='D'),\n",
       " Timestamp('2021-03-31 00:00:00', freq='D'),\n",
       " Timestamp('2021-04-01 00:00:00', freq='D'),\n",
       " Timestamp('2021-04-02 00:00:00', freq='D'),\n",
       " Timestamp('2021-04-03 00:00:00', freq='D'),\n",
       " Timestamp('2021-04-04 00:00:00', freq='D'),\n",
       " Timestamp('2021-04-05 00:00:00', freq='D'),\n",
       " Timestamp('2021-04-06 00:00:00', freq='D'),\n",
       " Timestamp('2021-04-07 00:00:00', freq='D'),\n",
       " Timestamp('2021-04-08 00:00:00', freq='D'),\n",
       " Timestamp('2021-04-09 00:00:00', freq='D'),\n",
       " Timestamp('2021-04-10 00:00:00', freq='D'),\n",
       " Timestamp('2021-04-11 00:00:00', freq='D'),\n",
       " Timestamp('2021-04-12 00:00:00', freq='D'),\n",
       " Timestamp('2021-04-13 00:00:00', freq='D'),\n",
       " Timestamp('2021-04-14 00:00:00', freq='D'),\n",
       " Timestamp('2021-04-15 00:00:00', freq='D'),\n",
       " Timestamp('2021-04-16 00:00:00', freq='D'),\n",
       " Timestamp('2021-04-17 00:00:00', freq='D'),\n",
       " Timestamp('2021-04-18 00:00:00', freq='D'),\n",
       " Timestamp('2021-04-19 00:00:00', freq='D'),\n",
       " Timestamp('2021-04-20 00:00:00', freq='D'),\n",
       " Timestamp('2021-04-21 00:00:00', freq='D'),\n",
       " Timestamp('2021-04-22 00:00:00', freq='D'),\n",
       " Timestamp('2021-04-23 00:00:00', freq='D'),\n",
       " Timestamp('2021-04-24 00:00:00', freq='D'),\n",
       " Timestamp('2021-04-25 00:00:00', freq='D'),\n",
       " Timestamp('2021-04-26 00:00:00', freq='D'),\n",
       " Timestamp('2021-04-27 00:00:00', freq='D'),\n",
       " Timestamp('2021-04-28 00:00:00', freq='D')}"
      ]
     },
     "execution_count": 38,
     "metadata": {},
     "output_type": "execute_result"
    }
   ],
   "source": [
    "veh_dates"
   ]
  },
  {
   "cell_type": "code",
   "execution_count": 33,
   "metadata": {},
   "outputs": [
    {
     "data": {
      "text/plain": [
       "avg_number_of_vehicles    48.528261\n",
       "Name: 2021-04-04 00:00:00, dtype: float64"
      ]
     },
     "execution_count": 33,
     "metadata": {},
     "output_type": "execute_result"
    }
   ],
   "source": [
    "veh.iloc[int(len(veh)*0.95)]"
   ]
  },
  {
   "cell_type": "code",
   "execution_count": 41,
   "metadata": {},
   "outputs": [],
   "source": [
    "X = veh.loc['2021-01-01':'2021-03-27']\n",
    "y = veh.loc['2021-03-27':]"
   ]
  },
  {
   "cell_type": "code",
   "execution_count": 42,
   "metadata": {},
   "outputs": [
    {
     "data": {
      "image/png": "[encoded data removed]",
      "text/plain": [
       "<Figure size 432x288 with 1 Axes>"
      ]
     },
     "metadata": {
      "needs_background": "light"
     },
     "output_type": "display_data"
    }
   ],
   "source": [
    "ax = X.plot(c='b')\n",
    "y.plot(c='r', ax=ax)\n",
    "plt.title\n",
    "plt.show()"
   ]
  },
  {
   "cell_type": "markdown",
   "metadata": {},
   "source": [
    "## Check if ts is stationary"
   ]
  },
  {
   "cell_type": "code",
   "execution_count": 23,
   "metadata": {},
   "outputs": [],
   "source": [
    "#Test if stationary (Dicky Fuller test) - h0: Time series data is not stationary\n",
    "from statsmodels.tsa.stattools import adfuller\n",
    "def is_stationary(ts):\n",
    "    results = adfuller(ts)\n",
    "    print(f\"Test Statistic: {results[0]}\\nP-Value: {results[1]}\\nCritical Test stats for intervals: {results[4]}\\n\")\n",
    "    if results[1]<0.05:\n",
    "        print('Time series data is stationary'),\n",
    "    else:\n",
    "        print('Time series data is not stationary')"
   ]
  },
  {
   "cell_type": "code",
   "execution_count": 24,
   "metadata": {},
   "outputs": [
    {
     "ename": "NameError",
     "evalue": "name 'X' is not defined",
     "output_type": "error",
     "traceback": [
      "\u001b[1;31m---------------------------------------------------------------------------\u001b[0m",
      "\u001b[1;31mNameError\u001b[0m                                 Traceback (most recent call last)",
      "\u001b[1;32mC:\\Users\\TCLSOY~1\\AppData\\Local\\Temp/ipykernel_6532/2723637804.py\u001b[0m in \u001b[0;36m<module>\u001b[1;34m\u001b[0m\n\u001b[1;32m----> 1\u001b[1;33m \u001b[0mis_stationary\u001b[0m\u001b[1;33m(\u001b[0m\u001b[0mX\u001b[0m\u001b[1;33m)\u001b[0m\u001b[1;33m\u001b[0m\u001b[1;33m\u001b[0m\u001b[0m\n\u001b[0m",
      "\u001b[1;31mNameError\u001b[0m: name 'X' is not defined"
     ]
    }
   ],
   "source": [
    "is_stationary(X)"
   ]
  },
  {
   "cell_type": "code",
   "execution_count": 127,
   "metadata": {},
   "outputs": [
    {
     "data": {
      "text/html": [
       "<div>\n",
       "<style scoped>\n",
       "    .dataframe tbody tr th:only-of-type {\n",
       "        vertical-align: middle;\n",
       "    }\n",
       "\n",
       "    .dataframe tbody tr th {\n",
       "        vertical-align: top;\n",
       "    }\n",
       "\n",
       "    .dataframe thead th {\n",
       "        text-align: right;\n",
       "    }\n",
       "</style>\n",
       "<table border=\"1\" class=\"dataframe\">\n",
       "  <thead>\n",
       "    <tr style=\"text-align: right;\">\n",
       "      <th></th>\n",
       "      <th>avg_number_of_vehicles</th>\n",
       "    </tr>\n",
       "    <tr>\n",
       "      <th>date</th>\n",
       "      <th></th>\n",
       "    </tr>\n",
       "  </thead>\n",
       "  <tbody>\n",
       "    <tr>\n",
       "      <th>2020-01-08</th>\n",
       "      <td>12.514167</td>\n",
       "    </tr>\n",
       "    <tr>\n",
       "      <th>2020-01-09</th>\n",
       "      <td>-16.705833</td>\n",
       "    </tr>\n",
       "    <tr>\n",
       "      <th>2020-01-10</th>\n",
       "      <td>-5.205000</td>\n",
       "    </tr>\n",
       "    <tr>\n",
       "      <th>2020-01-11</th>\n",
       "      <td>-2.399583</td>\n",
       "    </tr>\n",
       "    <tr>\n",
       "      <th>2020-01-12</th>\n",
       "      <td>-0.231667</td>\n",
       "    </tr>\n",
       "    <tr>\n",
       "      <th>...</th>\n",
       "      <td>...</td>\n",
       "    </tr>\n",
       "    <tr>\n",
       "      <th>2020-03-23</th>\n",
       "      <td>-13.536667</td>\n",
       "    </tr>\n",
       "    <tr>\n",
       "      <th>2020-03-24</th>\n",
       "      <td>-13.047083</td>\n",
       "    </tr>\n",
       "    <tr>\n",
       "      <th>2020-03-25</th>\n",
       "      <td>-14.019583</td>\n",
       "    </tr>\n",
       "    <tr>\n",
       "      <th>2020-03-26</th>\n",
       "      <td>-11.680833</td>\n",
       "    </tr>\n",
       "    <tr>\n",
       "      <th>2020-03-27</th>\n",
       "      <td>-11.206250</td>\n",
       "    </tr>\n",
       "  </tbody>\n",
       "</table>\n",
       "<p>80 rows × 1 columns</p>\n",
       "</div>"
      ],
      "text/plain": [
       "            avg_number_of_vehicles\n",
       "date                              \n",
       "2020-01-08               12.514167\n",
       "2020-01-09              -16.705833\n",
       "2020-01-10               -5.205000\n",
       "2020-01-11               -2.399583\n",
       "2020-01-12               -0.231667\n",
       "...                            ...\n",
       "2020-03-23              -13.536667\n",
       "2020-03-24              -13.047083\n",
       "2020-03-25              -14.019583\n",
       "2020-03-26              -11.680833\n",
       "2020-03-27              -11.206250\n",
       "\n",
       "[80 rows x 1 columns]"
      ]
     },
     "execution_count": 127,
     "metadata": {},
     "output_type": "execute_result"
    }
   ],
   "source": [
    "X.diff(7).dropna()"
   ]
  },
  {
   "cell_type": "code",
   "execution_count": 128,
   "metadata": {},
   "outputs": [
    {
     "name": "stdout",
     "output_type": "stream",
     "text": [
      "Test Statistic: -3.242430136681288\n",
      "P-Value: 0.017656328794842583\n",
      "Critical Test stats for intervals: {'1%': -3.526004646825607, '5%': -2.9032002348069774, '10%': -2.5889948363419957}\n",
      "\n",
      "Time series data is stationary\n"
     ]
    }
   ],
   "source": [
    "is_stationary(X.diff(7).dropna())"
   ]
  },
  {
   "cell_type": "code",
   "execution_count": 129,
   "metadata": {},
   "outputs": [
    {
     "data": {
      "text/plain": [
       "1"
      ]
     },
     "execution_count": 129,
     "metadata": {},
     "output_type": "execute_result"
    }
   ],
   "source": [
    "from pmdarima.arima.utils import ndiffs\n",
    "ndiffs(X.diff(7).dropna(), test='adf')"
   ]
  },
  {
   "cell_type": "code",
   "execution_count": 133,
   "metadata": {},
   "outputs": [
    {
     "data": {
      "image/png": "[encoded data removed]",
      "text/plain": [
       "<Figure size 432x288 with 1 Axes>"
      ]
     },
     "metadata": {
      "needs_background": "light"
     },
     "output_type": "display_data"
    }
   ],
   "source": [
    "from statsmodels.graphics.tsaplots import plot_acf, plot_pacf\n",
    "plot_pacf(X.diff(7).dropna(), lags=30);"
   ]
  },
  {
   "cell_type": "code",
   "execution_count": 135,
   "metadata": {},
   "outputs": [
    {
     "data": {
      "text/plain": [
       "(1.0, 0.5016016277380985, 0.1937104493883283)"
      ]
     },
     "execution_count": 135,
     "metadata": {},
     "output_type": "execute_result"
    }
   ],
   "source": [
    "ser = X.diff(7).dropna().iloc[:,0]\n",
    "ar0 = ser.corr(ser)\n",
    "ar1 = ser.corr(ser.shift().dropna())\n",
    "ar2 = ser.corr(ser.shift().shift().dropna())\n",
    "ar0, ar1, ar2"
   ]
  },
  {
   "cell_type": "code",
   "execution_count": 136,
   "metadata": {},
   "outputs": [
    {
     "data": {
      "image/png": "[encoded data removed]",
      "text/plain": [
       "<Figure size 432x288 with 1 Axes>"
      ]
     },
     "metadata": {
      "needs_background": "light"
     },
     "output_type": "display_data"
    }
   ],
   "source": [
    "plot_acf(ser.reset_index(drop=True), lags=50);"
   ]
  },
  {
   "cell_type": "code",
   "execution_count": 56,
   "metadata": {},
   "outputs": [],
   "source": [
    "from statsmodels.tsa.arima.model import ARIMA\n",
    "from statsmodels.tsa.statespace.sarimax import SARIMAX"
   ]
  },
  {
   "cell_type": "code",
   "execution_count": 138,
   "metadata": {},
   "outputs": [
    {
     "name": "stderr",
     "output_type": "stream",
     "text": [
      "C:\\Users\\TCLSOYKAN\\AppData\\Roaming\\Python\\Python39\\site-packages\\statsmodels\\tsa\\statespace\\sarimax.py:966: UserWarning: Non-stationary starting autoregressive parameters found. Using zeros as starting parameters.\n",
      "  warn('Non-stationary starting autoregressive parameters'\n",
      "C:\\Users\\TCLSOYKAN\\AppData\\Roaming\\Python\\Python39\\site-packages\\statsmodels\\tsa\\statespace\\sarimax.py:978: UserWarning: Non-invertible starting MA parameters found. Using zeros as starting parameters.\n",
      "  warn('Non-invertible starting MA parameters found.'\n"
     ]
    },
    {
     "name": "stdout",
     "output_type": "stream",
     "text": [
      "                                     SARIMAX Results                                     \n",
      "=========================================================================================\n",
      "Dep. Variable:            avg_number_of_vehicles   No. Observations:                   87\n",
      "Model:             SARIMAX(1, 1, 1)x(1, 1, 1, 7)   Log Likelihood                -279.163\n",
      "Date:                           Sun, 10 Apr 2022   AIC                            568.326\n",
      "Time:                                   21:20:31   BIC                            580.173\n",
      "Sample:                               01-01-2020   HQIC                           573.072\n",
      "                                    - 03-27-2020                                         \n",
      "Covariance Type:                             opg                                         \n",
      "==============================================================================\n",
      "                 coef    std err          z      P>|z|      [0.025      0.975]\n",
      "------------------------------------------------------------------------------\n",
      "ar.L1          0.5064      0.143      3.545      0.000       0.226       0.786\n",
      "ma.L1         -0.8911      0.114     -7.783      0.000      -1.116      -0.667\n",
      "ar.S.L7        0.1277      0.176      0.723      0.469      -0.218       0.474\n",
      "ma.S.L7       -0.9992     37.545     -0.027      0.979     -74.587      72.588\n",
      "sigma2        55.0721   2064.376      0.027      0.979   -3991.031    4101.175\n",
      "===================================================================================\n",
      "Ljung-Box (L1) (Q):                   0.19   Jarque-Bera (JB):                10.18\n",
      "Prob(Q):                              0.66   Prob(JB):                         0.01\n",
      "Heteroskedasticity (H):               0.45   Skew:                            -0.55\n",
      "Prob(H) (two-sided):                  0.05   Kurtosis:                         4.37\n",
      "===================================================================================\n",
      "\n",
      "Warnings:\n",
      "[1] Covariance matrix calculated using the outer product of gradients (complex-step).\n"
     ]
    }
   ],
   "source": [
    "model = SARIMAX(X, order=(1,1,1), seasonal_order=(1,1,1,7))\n",
    "model = model.fit()\n",
    "print(model.summary())"
   ]
  },
  {
   "cell_type": "code",
   "execution_count": 139,
   "metadata": {},
   "outputs": [],
   "source": [
    "forecast = model.get_forecast(len(y))\n",
    "fc = forecast.predicted_mean\n",
    "conf = forecast.conf_int(alpha=0.05)"
   ]
  },
  {
   "cell_type": "code",
   "execution_count": 140,
   "metadata": {},
   "outputs": [
    {
     "data": {
      "image/png": "[encoded data removed]",
      "text/plain": [
       "<Figure size 432x288 with 1 Axes>"
      ]
     },
     "metadata": {
      "needs_background": "light"
     },
     "output_type": "display_data"
    }
   ],
   "source": [
    "ax = X.plot(c='b')\n",
    "y.plot(c='b', ax=ax)\n",
    "fc.plot(c='r', ax=ax)\n",
    "plt.fill_between(y.index, conf.iloc[:,0], conf.iloc[:,1], \n",
    "                 color='k', alpha=.15)\n",
    "plt.title('Forecast vs Actuals')\n",
    "plt.show()"
   ]
  },
  {
   "cell_type": "code",
   "execution_count": 141,
   "metadata": {},
   "outputs": [
    {
     "data": {
      "text/plain": [
       "2020-03-28    74.121846\n",
       "2020-03-29    52.074173\n",
       "2020-03-30    82.180061\n",
       "2020-03-31    82.166200\n",
       "2020-04-01    81.927681\n",
       "Freq: D, Name: predicted_mean, dtype: float64"
      ]
     },
     "execution_count": 141,
     "metadata": {},
     "output_type": "execute_result"
    }
   ],
   "source": [
    "fc"
   ]
  },
  {
   "cell_type": "markdown",
   "metadata": {},
   "source": [
    "## DECOMPOSITION"
   ]
  },
  {
   "cell_type": "code",
   "execution_count": 142,
   "metadata": {},
   "outputs": [],
   "source": [
    "from statsmodels.tsa.seasonal import seasonal_decompose"
   ]
  },
  {
   "cell_type": "code",
   "execution_count": 144,
   "metadata": {
    "scrolled": true
   },
   "outputs": [],
   "source": [
    "results = seasonal_decompose(X,period=30)"
   ]
  },
  {
   "cell_type": "code",
   "execution_count": 145,
   "metadata": {
    "scrolled": true
   },
   "outputs": [
    {
     "data": {
      "text/plain": [
       "<Figure size 500x500 with 0 Axes>"
      ]
     },
     "metadata": {},
     "output_type": "display_data"
    },
    {
     "data": {
      "image/png": "[encoded data removed]",
      "text/plain": [
       "<Figure size 432x288 with 4 Axes>"
      ]
     },
     "metadata": {
      "needs_background": "light"
     },
     "output_type": "display_data"
    }
   ],
   "source": [
    "plt.figure(figsize=(100,100), dpi=5)\n",
    "results.plot();"
   ]
  },
  {
   "cell_type": "code",
   "execution_count": 146,
   "metadata": {},
   "outputs": [
    {
     "data": {
      "text/plain": [
       "array([[82.14041667],\n",
       "       [61.87083333],\n",
       "       [37.51416667],\n",
       "       [76.44333333],\n",
       "       [75.75125   ]])"
      ]
     },
     "execution_count": 146,
     "metadata": {},
     "output_type": "execute_result"
    }
   ],
   "source": [
    "y.values"
   ]
  },
  {
   "cell_type": "markdown",
   "metadata": {},
   "source": [
    "https://app.datacamp.com/learn/courses/time-series-analysis-in-python"
   ]
  },
  {
   "cell_type": "code",
   "execution_count": 147,
   "metadata": {},
   "outputs": [
    {
     "name": "stderr",
     "output_type": "stream",
     "text": [
      "C:\\Users\\TCLSOY~1\\AppData\\Local\\Temp/ipykernel_17492/937722734.py:9: FutureWarning: Support for multi-dimensional indexing (e.g. `obj[:, None]`) is deprecated and will be removed in a future version.  Convert to a numpy array before indexing instead.\n",
      "  mins = np.amin(np.hstack([forecast[:,None],\n",
      "C:\\Users\\TCLSOY~1\\AppData\\Local\\Temp/ipykernel_17492/937722734.py:11: FutureWarning: Support for multi-dimensional indexing (e.g. `obj[:, None]`) is deprecated and will be removed in a future version.  Convert to a numpy array before indexing instead.\n",
      "  maxs = np.amax(np.hstack([forecast[:,None],\n"
     ]
    },
    {
     "data": {
      "text/plain": [
       "{'mape': 0.32060027927931306,\n",
       " 'me': 7.7499920990083435,\n",
       " 'mae': 14.876084638099602,\n",
       " 'mpe': 0.2182159535333504,\n",
       " 'rmse': 21.10077557139902,\n",
       " 'acf1': -0.22987069156919296,\n",
       " 'corr': 0.021666520631034667,\n",
       " 'minmax': 0.18890241336606517}"
      ]
     },
     "execution_count": 147,
     "metadata": {},
     "output_type": "execute_result"
    }
   ],
   "source": [
    "from statsmodels.tsa.stattools import acf\n",
    "def forecast_accuracy(forecast, actual):\n",
    "    mape = np.mean(np.abs(forecast - actual)/np.abs(actual))  # MAPE\n",
    "    me = np.mean(forecast - actual)             # ME\n",
    "    mae = np.mean(np.abs(forecast - actual))    # MAE\n",
    "    mpe = np.mean((forecast - actual)/actual)   # MPE\n",
    "    rmse = np.mean((forecast - actual)**2)**.5  # RMSE\n",
    "    corr = np.corrcoef(forecast, actual)[0,1]   # corr\n",
    "    mins = np.amin(np.hstack([forecast[:,None], \n",
    "                              actual[:,None]]), axis=1)\n",
    "    maxs = np.amax(np.hstack([forecast[:,None], \n",
    "                              actual[:,None]]), axis=1)\n",
    "    minmax = 1 - np.mean(mins/maxs)             # minmax\n",
    "    acf1 = acf(forecast-actual)[1]                  # ACF1\n",
    "    return({'mape':mape, 'me':me, 'mae': mae, \n",
    "            'mpe': mpe, 'rmse':rmse, 'acf1':acf1, \n",
    "            'corr':corr, 'minmax':minmax})\n",
    "\n",
    "forecast_accuracy(fc, y.iloc[:,0].values)"
   ]
  },
  {
   "cell_type": "markdown",
   "metadata": {},
   "source": [
    "### Auto Selection of ARIMA components "
   ]
  },
  {
   "cell_type": "code",
   "execution_count": 148,
   "metadata": {},
   "outputs": [],
   "source": [
    "import pmdarima as pm"
   ]
  },
  {
   "cell_type": "code",
   "execution_count": 155,
   "metadata": {},
   "outputs": [
    {
     "name": "stdout",
     "output_type": "stream",
     "text": [
      "Performing stepwise search to minimize aic\n",
      " ARIMA(0,0,0)(0,0,0)[7] intercept   : AIC=700.496, Time=0.01 sec\n",
      " ARIMA(1,0,0)(1,0,0)[7] intercept   : AIC=639.716, Time=0.18 sec\n",
      " ARIMA(0,0,1)(0,0,1)[7] intercept   : AIC=666.729, Time=0.07 sec\n",
      " ARIMA(0,0,0)(0,0,0)[7]             : AIC=1031.386, Time=0.00 sec\n",
      " ARIMA(1,0,0)(0,0,0)[7] intercept   : AIC=696.543, Time=0.02 sec\n",
      " ARIMA(1,0,0)(2,0,0)[7] intercept   : AIC=663.533, Time=0.61 sec\n",
      " ARIMA(1,0,0)(1,0,1)[7] intercept   : AIC=648.011, Time=0.23 sec\n",
      " ARIMA(1,0,0)(0,0,1)[7] intercept   : AIC=667.341, Time=0.10 sec\n",
      " ARIMA(1,0,0)(2,0,1)[7] intercept   : AIC=inf, Time=0.62 sec\n",
      " ARIMA(0,0,0)(1,0,0)[7] intercept   : AIC=656.670, Time=0.12 sec\n",
      " ARIMA(2,0,0)(1,0,0)[7] intercept   : AIC=641.890, Time=0.26 sec\n",
      " ARIMA(1,0,1)(1,0,0)[7] intercept   : AIC=649.951, Time=0.24 sec\n",
      " ARIMA(0,0,1)(1,0,0)[7] intercept   : AIC=640.932, Time=0.15 sec\n",
      " ARIMA(2,0,1)(1,0,0)[7] intercept   : AIC=inf, Time=0.27 sec\n",
      " ARIMA(1,0,0)(1,0,0)[7]             : AIC=inf, Time=0.07 sec\n",
      "\n",
      "Best model:  ARIMA(1,0,0)(1,0,0)[7] intercept\n",
      "Total fit time: 2.964 seconds\n",
      "                                     SARIMAX Results                                     \n",
      "=========================================================================================\n",
      "Dep. Variable:                                 y   No. Observations:                   87\n",
      "Model:             SARIMAX(1, 0, 0)x(1, 0, 0, 7)   Log Likelihood                -315.858\n",
      "Date:                           Sun, 10 Apr 2022   AIC                            639.716\n",
      "Time:                                   21:28:33   BIC                            649.580\n",
      "Sample:                                        0   HQIC                           643.688\n",
      "                                            - 87                                         \n",
      "Covariance Type:                             opg                                         \n",
      "==============================================================================\n",
      "                 coef    std err          z      P>|z|      [0.025      0.975]\n",
      "------------------------------------------------------------------------------\n",
      "intercept     10.5848      3.821      2.770      0.006       3.096      18.074\n",
      "ar.L1          0.4584      0.102      4.496      0.000       0.259       0.658\n",
      "ar.S.L7        0.7714      0.068     11.264      0.000       0.637       0.906\n",
      "sigma2        77.2998     10.329      7.484      0.000      57.056      97.544\n",
      "===================================================================================\n",
      "Ljung-Box (L1) (Q):                   0.18   Jarque-Bera (JB):                 2.26\n",
      "Prob(Q):                              0.67   Prob(JB):                         0.32\n",
      "Heteroskedasticity (H):               0.62   Skew:                            -0.03\n",
      "Prob(H) (two-sided):                  0.20   Kurtosis:                         3.79\n",
      "===================================================================================\n",
      "\n",
      "Warnings:\n",
      "[1] Covariance matrix calculated using the outer product of gradients (complex-step).\n"
     ]
    }
   ],
   "source": [
    "automodel = pm.auto_arima(X, start_p=0, start_q=0,\n",
    "                      test='adf',       # use adftest to find optimal 'd'\n",
    "                      max_p=3, max_q=3, # maximum p and q\n",
    "                      m=7,              # frequency of series\n",
    "                      d=None,           # let model determine 'd'\n",
    "                      seasonal=True,   \n",
    "                      start_P=0,  start_Q=0,\n",
    "                      max_P=3, max_Q=3,\n",
    "                      D=None, \n",
    "                      trace=True,\n",
    "                      error_action='ignore',  \n",
    "                      suppress_warnings=True, \n",
    "                      stepwise=True)\n",
    "print(automodel.summary())"
   ]
  },
  {
   "cell_type": "code",
   "execution_count": null,
   "metadata": {},
   "outputs": [],
   "source": []
  }
 ],
 "metadata": {
  "kernelspec": {
   "display_name": "Python 3 (ipykernel)",
   "language": "python",
   "name": "python3"
  },
  "language_info": {
   "codemirror_mode": {
    "name": "ipython",
    "version": 3
   },
   "file_extension": ".py",
   "mimetype": "text/x-python",
   "name": "python",
   "nbconvert_exporter": "python",
   "pygments_lexer": "ipython3",
   "version": "3.9.2"
  }
 },
 "nbformat": 4,
 "nbformat_minor": 4
}
