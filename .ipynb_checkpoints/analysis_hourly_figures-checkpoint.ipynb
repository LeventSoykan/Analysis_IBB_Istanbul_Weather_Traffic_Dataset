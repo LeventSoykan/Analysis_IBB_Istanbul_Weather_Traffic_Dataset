{
 "cells": [
  {
   "cell_type": "code",
   "execution_count": 1,
   "metadata": {},
   "outputs": [],
   "source": [
    "import pandas as pd\n",
    "import numpy as np\n",
    "import matplotlib.pyplot as plt\n",
    "import seaborn as sns"
   ]
  },
  {
   "cell_type": "code",
   "execution_count": 2,
   "metadata": {},
   "outputs": [],
   "source": [
    "weather = pd.read_csv('weather_hourly_agg.csv', parse_dates=['DATE'])\n",
    "traffic = pd.read_csv('traffic_hourly_agg.csv', parse_dates=['DATE'])"
   ]
  },
  {
   "cell_type": "code",
   "execution_count": 3,
   "metadata": {},
   "outputs": [],
   "source": [
    "weather.columns = [c.lower() for c in weather.columns]"
   ]
  },
  {
   "cell_type": "code",
   "execution_count": 4,
   "metadata": {},
   "outputs": [
    {
     "name": "stdout",
     "output_type": "stream",
     "text": [
      "<class 'pandas.core.frame.DataFrame'>\n",
      "RangeIndex: 10527 entries, 0 to 10526\n",
      "Data columns (total 22 columns):\n",
      " #   Column                    Non-Null Count  Dtype         \n",
      "---  ------                    --------------  -----         \n",
      " 0   average_felt_temperature  10527 non-null  float64       \n",
      " 1   average_road_temperature  10527 non-null  float64       \n",
      " 2   minimum_felt_temperature  10527 non-null  float64       \n",
      " 3   date                      10527 non-null  datetime64[ns]\n",
      " 4   minimum_precipitation     10527 non-null  float64       \n",
      " 5   maximum_humidity          10527 non-null  float64       \n",
      " 6   maximum_felt_temperature  10527 non-null  float64       \n",
      " 7   maximum_precipitation     10527 non-null  float64       \n",
      " 8   maximum_temperature       10527 non-null  float64       \n",
      " 9   average_humidity          10527 non-null  float64       \n",
      " 10  average_wind              10527 non-null  float64       \n",
      " 11  average_directionofwind   10527 non-null  float64       \n",
      " 12  minimum_temperature       10527 non-null  float64       \n",
      " 13  average_temperature       10527 non-null  float64       \n",
      " 14  maximum_road_temperature  10527 non-null  float64       \n",
      " 15  minimum_humidity          10527 non-null  float64       \n",
      " 16  minimum_directionofwind   10527 non-null  float64       \n",
      " 17  minimum_wind              10527 non-null  float64       \n",
      " 18  maximum_directionofwind   10527 non-null  float64       \n",
      " 19  minimum_road_temperature  10527 non-null  float64       \n",
      " 20  maximum_wind              10527 non-null  float64       \n",
      " 21  average_precipitation     10527 non-null  float64       \n",
      "dtypes: datetime64[ns](1), float64(21)\n",
      "memory usage: 1.8 MB\n"
     ]
    }
   ],
   "source": [
    "weather.info()"
   ]
  },
  {
   "cell_type": "code",
   "execution_count": 5,
   "metadata": {},
   "outputs": [
    {
     "name": "stdout",
     "output_type": "stream",
     "text": [
      "<class 'pandas.core.frame.DataFrame'>\n",
      "RangeIndex: 11523 entries, 0 to 11522\n",
      "Data columns (total 7 columns):\n",
      " #   Column                  Non-Null Count  Dtype         \n",
      "---  ------                  --------------  -----         \n",
      " 0   max_number_of_vehicles  11523 non-null  int64         \n",
      " 1   minimum_speed           11523 non-null  int64         \n",
      " 2   min_number_of_vehicles  11523 non-null  int64         \n",
      " 3   average_speed           11523 non-null  float64       \n",
      " 4   avg_number_of_vehicles  11523 non-null  float64       \n",
      " 5   maximum_speed           11523 non-null  int64         \n",
      " 6   date                    11523 non-null  datetime64[ns]\n",
      "dtypes: datetime64[ns](1), float64(2), int64(4)\n",
      "memory usage: 630.3 KB\n"
     ]
    }
   ],
   "source": [
    "traffic.columns = [c.lower() for c in traffic.columns]\n",
    "traffic.info()"
   ]
  },
  {
   "cell_type": "code",
   "execution_count": 6,
   "metadata": {
    "scrolled": true
   },
   "outputs": [
    {
     "data": {
      "text/html": [
       "<div>\n",
       "<style scoped>\n",
       "    .dataframe tbody tr th:only-of-type {\n",
       "        vertical-align: middle;\n",
       "    }\n",
       "\n",
       "    .dataframe tbody tr th {\n",
       "        vertical-align: top;\n",
       "    }\n",
       "\n",
       "    .dataframe thead th {\n",
       "        text-align: right;\n",
       "    }\n",
       "</style>\n",
       "<table border=\"1\" class=\"dataframe\">\n",
       "  <thead>\n",
       "    <tr style=\"text-align: right;\">\n",
       "      <th></th>\n",
       "      <th>max_number_of_vehicles</th>\n",
       "      <th>minimum_speed</th>\n",
       "      <th>min_number_of_vehicles</th>\n",
       "      <th>average_speed</th>\n",
       "      <th>avg_number_of_vehicles</th>\n",
       "      <th>maximum_speed</th>\n",
       "      <th>date</th>\n",
       "      <th>average_felt_temperature</th>\n",
       "      <th>average_road_temperature</th>\n",
       "      <th>minimum_felt_temperature</th>\n",
       "      <th>...</th>\n",
       "      <th>minimum_temperature</th>\n",
       "      <th>average_temperature</th>\n",
       "      <th>maximum_road_temperature</th>\n",
       "      <th>minimum_humidity</th>\n",
       "      <th>minimum_directionofwind</th>\n",
       "      <th>minimum_wind</th>\n",
       "      <th>maximum_directionofwind</th>\n",
       "      <th>minimum_road_temperature</th>\n",
       "      <th>maximum_wind</th>\n",
       "      <th>average_precipitation</th>\n",
       "    </tr>\n",
       "  </thead>\n",
       "  <tbody>\n",
       "    <tr>\n",
       "      <th>0</th>\n",
       "      <td>298</td>\n",
       "      <td>6</td>\n",
       "      <td>11</td>\n",
       "      <td>56.59</td>\n",
       "      <td>58.72</td>\n",
       "      <td>193</td>\n",
       "      <td>2020-01-01 00:00:00</td>\n",
       "      <td>4.00</td>\n",
       "      <td>3.79</td>\n",
       "      <td>-4.22</td>\n",
       "      <td>...</td>\n",
       "      <td>-0.55</td>\n",
       "      <td>4.40</td>\n",
       "      <td>8.0</td>\n",
       "      <td>59.52</td>\n",
       "      <td>0.0</td>\n",
       "      <td>0.0</td>\n",
       "      <td>355.0</td>\n",
       "      <td>-13.2</td>\n",
       "      <td>6.41</td>\n",
       "      <td>1.18</td>\n",
       "    </tr>\n",
       "    <tr>\n",
       "      <th>1</th>\n",
       "      <td>272</td>\n",
       "      <td>6</td>\n",
       "      <td>11</td>\n",
       "      <td>57.41</td>\n",
       "      <td>53.68</td>\n",
       "      <td>188</td>\n",
       "      <td>2020-01-01 01:00:00</td>\n",
       "      <td>3.95</td>\n",
       "      <td>3.34</td>\n",
       "      <td>-3.75</td>\n",
       "      <td>...</td>\n",
       "      <td>-0.41</td>\n",
       "      <td>4.36</td>\n",
       "      <td>7.4</td>\n",
       "      <td>57.21</td>\n",
       "      <td>1.0</td>\n",
       "      <td>0.0</td>\n",
       "      <td>354.0</td>\n",
       "      <td>-37.1</td>\n",
       "      <td>6.00</td>\n",
       "      <td>0.23</td>\n",
       "    </tr>\n",
       "    <tr>\n",
       "      <th>2</th>\n",
       "      <td>223</td>\n",
       "      <td>3</td>\n",
       "      <td>11</td>\n",
       "      <td>59.70</td>\n",
       "      <td>44.72</td>\n",
       "      <td>197</td>\n",
       "      <td>2020-01-01 02:00:00</td>\n",
       "      <td>4.11</td>\n",
       "      <td>4.08</td>\n",
       "      <td>-1.24</td>\n",
       "      <td>...</td>\n",
       "      <td>1.15</td>\n",
       "      <td>4.38</td>\n",
       "      <td>7.2</td>\n",
       "      <td>52.10</td>\n",
       "      <td>0.0</td>\n",
       "      <td>0.0</td>\n",
       "      <td>355.0</td>\n",
       "      <td>1.8</td>\n",
       "      <td>5.39</td>\n",
       "      <td>0.93</td>\n",
       "    </tr>\n",
       "    <tr>\n",
       "      <th>3</th>\n",
       "      <td>166</td>\n",
       "      <td>6</td>\n",
       "      <td>11</td>\n",
       "      <td>61.05</td>\n",
       "      <td>37.51</td>\n",
       "      <td>191</td>\n",
       "      <td>2020-01-01 03:00:00</td>\n",
       "      <td>4.26</td>\n",
       "      <td>4.23</td>\n",
       "      <td>0.39</td>\n",
       "      <td>...</td>\n",
       "      <td>2.12</td>\n",
       "      <td>4.36</td>\n",
       "      <td>6.6</td>\n",
       "      <td>54.88</td>\n",
       "      <td>0.0</td>\n",
       "      <td>0.0</td>\n",
       "      <td>355.0</td>\n",
       "      <td>2.7</td>\n",
       "      <td>5.01</td>\n",
       "      <td>0.62</td>\n",
       "    </tr>\n",
       "    <tr>\n",
       "      <th>4</th>\n",
       "      <td>113</td>\n",
       "      <td>6</td>\n",
       "      <td>11</td>\n",
       "      <td>62.44</td>\n",
       "      <td>32.87</td>\n",
       "      <td>207</td>\n",
       "      <td>2020-01-01 04:00:00</td>\n",
       "      <td>4.92</td>\n",
       "      <td>4.56</td>\n",
       "      <td>0.58</td>\n",
       "      <td>...</td>\n",
       "      <td>2.34</td>\n",
       "      <td>4.65</td>\n",
       "      <td>6.7</td>\n",
       "      <td>56.46</td>\n",
       "      <td>0.0</td>\n",
       "      <td>0.0</td>\n",
       "      <td>355.0</td>\n",
       "      <td>2.9</td>\n",
       "      <td>3.97</td>\n",
       "      <td>0.02</td>\n",
       "    </tr>\n",
       "    <tr>\n",
       "      <th>...</th>\n",
       "      <td>...</td>\n",
       "      <td>...</td>\n",
       "      <td>...</td>\n",
       "      <td>...</td>\n",
       "      <td>...</td>\n",
       "      <td>...</td>\n",
       "      <td>...</td>\n",
       "      <td>...</td>\n",
       "      <td>...</td>\n",
       "      <td>...</td>\n",
       "      <td>...</td>\n",
       "      <td>...</td>\n",
       "      <td>...</td>\n",
       "      <td>...</td>\n",
       "      <td>...</td>\n",
       "      <td>...</td>\n",
       "      <td>...</td>\n",
       "      <td>...</td>\n",
       "      <td>...</td>\n",
       "      <td>...</td>\n",
       "      <td>...</td>\n",
       "    </tr>\n",
       "    <tr>\n",
       "      <th>10318</th>\n",
       "      <td>780</td>\n",
       "      <td>1</td>\n",
       "      <td>11</td>\n",
       "      <td>49.27</td>\n",
       "      <td>107.00</td>\n",
       "      <td>202</td>\n",
       "      <td>2021-04-28 13:00:00</td>\n",
       "      <td>17.57</td>\n",
       "      <td>22.08</td>\n",
       "      <td>10.96</td>\n",
       "      <td>...</td>\n",
       "      <td>12.08</td>\n",
       "      <td>17.01</td>\n",
       "      <td>40.3</td>\n",
       "      <td>0.88</td>\n",
       "      <td>1.0</td>\n",
       "      <td>0.0</td>\n",
       "      <td>355.0</td>\n",
       "      <td>-1.9</td>\n",
       "      <td>7.65</td>\n",
       "      <td>0.88</td>\n",
       "    </tr>\n",
       "    <tr>\n",
       "      <th>10319</th>\n",
       "      <td>637</td>\n",
       "      <td>1</td>\n",
       "      <td>11</td>\n",
       "      <td>48.46</td>\n",
       "      <td>88.08</td>\n",
       "      <td>195</td>\n",
       "      <td>2021-04-28 14:00:00</td>\n",
       "      <td>16.78</td>\n",
       "      <td>20.58</td>\n",
       "      <td>11.15</td>\n",
       "      <td>...</td>\n",
       "      <td>11.17</td>\n",
       "      <td>16.28</td>\n",
       "      <td>36.3</td>\n",
       "      <td>0.88</td>\n",
       "      <td>0.0</td>\n",
       "      <td>0.0</td>\n",
       "      <td>356.0</td>\n",
       "      <td>-1.9</td>\n",
       "      <td>7.49</td>\n",
       "      <td>2.57</td>\n",
       "    </tr>\n",
       "    <tr>\n",
       "      <th>10320</th>\n",
       "      <td>552</td>\n",
       "      <td>1</td>\n",
       "      <td>11</td>\n",
       "      <td>48.28</td>\n",
       "      <td>83.62</td>\n",
       "      <td>200</td>\n",
       "      <td>2021-04-28 15:00:00</td>\n",
       "      <td>15.42</td>\n",
       "      <td>18.33</td>\n",
       "      <td>9.38</td>\n",
       "      <td>...</td>\n",
       "      <td>10.36</td>\n",
       "      <td>15.11</td>\n",
       "      <td>31.6</td>\n",
       "      <td>0.88</td>\n",
       "      <td>0.0</td>\n",
       "      <td>0.0</td>\n",
       "      <td>355.0</td>\n",
       "      <td>-1.9</td>\n",
       "      <td>8.05</td>\n",
       "      <td>2.48</td>\n",
       "    </tr>\n",
       "    <tr>\n",
       "      <th>10321</th>\n",
       "      <td>522</td>\n",
       "      <td>1</td>\n",
       "      <td>11</td>\n",
       "      <td>47.41</td>\n",
       "      <td>74.22</td>\n",
       "      <td>197</td>\n",
       "      <td>2021-04-28 16:00:00</td>\n",
       "      <td>14.49</td>\n",
       "      <td>16.71</td>\n",
       "      <td>7.96</td>\n",
       "      <td>...</td>\n",
       "      <td>9.69</td>\n",
       "      <td>14.27</td>\n",
       "      <td>27.2</td>\n",
       "      <td>0.88</td>\n",
       "      <td>0.0</td>\n",
       "      <td>0.0</td>\n",
       "      <td>355.0</td>\n",
       "      <td>-1.9</td>\n",
       "      <td>10.37</td>\n",
       "      <td>2.49</td>\n",
       "    </tr>\n",
       "    <tr>\n",
       "      <th>10322</th>\n",
       "      <td>485</td>\n",
       "      <td>1</td>\n",
       "      <td>11</td>\n",
       "      <td>47.03</td>\n",
       "      <td>72.03</td>\n",
       "      <td>193</td>\n",
       "      <td>2021-04-28 17:00:00</td>\n",
       "      <td>14.06</td>\n",
       "      <td>16.12</td>\n",
       "      <td>7.87</td>\n",
       "      <td>...</td>\n",
       "      <td>9.55</td>\n",
       "      <td>13.81</td>\n",
       "      <td>24.5</td>\n",
       "      <td>0.88</td>\n",
       "      <td>0.0</td>\n",
       "      <td>0.0</td>\n",
       "      <td>355.0</td>\n",
       "      <td>-1.9</td>\n",
       "      <td>7.73</td>\n",
       "      <td>2.22</td>\n",
       "    </tr>\n",
       "  </tbody>\n",
       "</table>\n",
       "<p>10323 rows × 28 columns</p>\n",
       "</div>"
      ],
      "text/plain": [
       "       max_number_of_vehicles  minimum_speed  min_number_of_vehicles  \\\n",
       "0                         298              6                      11   \n",
       "1                         272              6                      11   \n",
       "2                         223              3                      11   \n",
       "3                         166              6                      11   \n",
       "4                         113              6                      11   \n",
       "...                       ...            ...                     ...   \n",
       "10318                     780              1                      11   \n",
       "10319                     637              1                      11   \n",
       "10320                     552              1                      11   \n",
       "10321                     522              1                      11   \n",
       "10322                     485              1                      11   \n",
       "\n",
       "       average_speed  avg_number_of_vehicles  maximum_speed  \\\n",
       "0              56.59                   58.72            193   \n",
       "1              57.41                   53.68            188   \n",
       "2              59.70                   44.72            197   \n",
       "3              61.05                   37.51            191   \n",
       "4              62.44                   32.87            207   \n",
       "...              ...                     ...            ...   \n",
       "10318          49.27                  107.00            202   \n",
       "10319          48.46                   88.08            195   \n",
       "10320          48.28                   83.62            200   \n",
       "10321          47.41                   74.22            197   \n",
       "10322          47.03                   72.03            193   \n",
       "\n",
       "                     date  average_felt_temperature  average_road_temperature  \\\n",
       "0     2020-01-01 00:00:00                      4.00                      3.79   \n",
       "1     2020-01-01 01:00:00                      3.95                      3.34   \n",
       "2     2020-01-01 02:00:00                      4.11                      4.08   \n",
       "3     2020-01-01 03:00:00                      4.26                      4.23   \n",
       "4     2020-01-01 04:00:00                      4.92                      4.56   \n",
       "...                   ...                       ...                       ...   \n",
       "10318 2021-04-28 13:00:00                     17.57                     22.08   \n",
       "10319 2021-04-28 14:00:00                     16.78                     20.58   \n",
       "10320 2021-04-28 15:00:00                     15.42                     18.33   \n",
       "10321 2021-04-28 16:00:00                     14.49                     16.71   \n",
       "10322 2021-04-28 17:00:00                     14.06                     16.12   \n",
       "\n",
       "       minimum_felt_temperature  ...  minimum_temperature  \\\n",
       "0                         -4.22  ...                -0.55   \n",
       "1                         -3.75  ...                -0.41   \n",
       "2                         -1.24  ...                 1.15   \n",
       "3                          0.39  ...                 2.12   \n",
       "4                          0.58  ...                 2.34   \n",
       "...                         ...  ...                  ...   \n",
       "10318                     10.96  ...                12.08   \n",
       "10319                     11.15  ...                11.17   \n",
       "10320                      9.38  ...                10.36   \n",
       "10321                      7.96  ...                 9.69   \n",
       "10322                      7.87  ...                 9.55   \n",
       "\n",
       "       average_temperature  maximum_road_temperature  minimum_humidity  \\\n",
       "0                     4.40                       8.0             59.52   \n",
       "1                     4.36                       7.4             57.21   \n",
       "2                     4.38                       7.2             52.10   \n",
       "3                     4.36                       6.6             54.88   \n",
       "4                     4.65                       6.7             56.46   \n",
       "...                    ...                       ...               ...   \n",
       "10318                17.01                      40.3              0.88   \n",
       "10319                16.28                      36.3              0.88   \n",
       "10320                15.11                      31.6              0.88   \n",
       "10321                14.27                      27.2              0.88   \n",
       "10322                13.81                      24.5              0.88   \n",
       "\n",
       "       minimum_directionofwind  minimum_wind  maximum_directionofwind  \\\n",
       "0                          0.0           0.0                    355.0   \n",
       "1                          1.0           0.0                    354.0   \n",
       "2                          0.0           0.0                    355.0   \n",
       "3                          0.0           0.0                    355.0   \n",
       "4                          0.0           0.0                    355.0   \n",
       "...                        ...           ...                      ...   \n",
       "10318                      1.0           0.0                    355.0   \n",
       "10319                      0.0           0.0                    356.0   \n",
       "10320                      0.0           0.0                    355.0   \n",
       "10321                      0.0           0.0                    355.0   \n",
       "10322                      0.0           0.0                    355.0   \n",
       "\n",
       "       minimum_road_temperature  maximum_wind  average_precipitation  \n",
       "0                         -13.2          6.41                   1.18  \n",
       "1                         -37.1          6.00                   0.23  \n",
       "2                           1.8          5.39                   0.93  \n",
       "3                           2.7          5.01                   0.62  \n",
       "4                           2.9          3.97                   0.02  \n",
       "...                         ...           ...                    ...  \n",
       "10318                      -1.9          7.65                   0.88  \n",
       "10319                      -1.9          7.49                   2.57  \n",
       "10320                      -1.9          8.05                   2.48  \n",
       "10321                      -1.9         10.37                   2.49  \n",
       "10322                      -1.9          7.73                   2.22  \n",
       "\n",
       "[10323 rows x 28 columns]"
      ]
     },
     "execution_count": 6,
     "metadata": {},
     "output_type": "execute_result"
    }
   ],
   "source": [
    "df = pd.merge(traffic, weather, how='inner', on='date').sort_values('date')\n",
    "df"
   ]
  },
  {
   "cell_type": "code",
   "execution_count": 7,
   "metadata": {},
   "outputs": [
    {
     "data": {
      "text/html": [
       "<div>\n",
       "<style scoped>\n",
       "    .dataframe tbody tr th:only-of-type {\n",
       "        vertical-align: middle;\n",
       "    }\n",
       "\n",
       "    .dataframe tbody tr th {\n",
       "        vertical-align: top;\n",
       "    }\n",
       "\n",
       "    .dataframe thead th {\n",
       "        text-align: right;\n",
       "    }\n",
       "</style>\n",
       "<table border=\"1\" class=\"dataframe\">\n",
       "  <thead>\n",
       "    <tr style=\"text-align: right;\">\n",
       "      <th></th>\n",
       "      <th>count</th>\n",
       "      <th>mean</th>\n",
       "      <th>std</th>\n",
       "      <th>min</th>\n",
       "      <th>25%</th>\n",
       "      <th>50%</th>\n",
       "      <th>75%</th>\n",
       "      <th>max</th>\n",
       "    </tr>\n",
       "  </thead>\n",
       "  <tbody>\n",
       "    <tr>\n",
       "      <th>max_number_of_vehicles</th>\n",
       "      <td>10323.0</td>\n",
       "      <td>564.932481</td>\n",
       "      <td>318.729129</td>\n",
       "      <td>11.00</td>\n",
       "      <td>270.000</td>\n",
       "      <td>533.00</td>\n",
       "      <td>857.000</td>\n",
       "      <td>1351.00</td>\n",
       "    </tr>\n",
       "    <tr>\n",
       "      <th>minimum_speed</th>\n",
       "      <td>10323.0</td>\n",
       "      <td>3.312990</td>\n",
       "      <td>2.257879</td>\n",
       "      <td>0.00</td>\n",
       "      <td>1.000</td>\n",
       "      <td>3.00</td>\n",
       "      <td>6.000</td>\n",
       "      <td>38.00</td>\n",
       "    </tr>\n",
       "    <tr>\n",
       "      <th>min_number_of_vehicles</th>\n",
       "      <td>10323.0</td>\n",
       "      <td>11.000000</td>\n",
       "      <td>0.000000</td>\n",
       "      <td>11.00</td>\n",
       "      <td>11.000</td>\n",
       "      <td>11.00</td>\n",
       "      <td>11.000</td>\n",
       "      <td>11.00</td>\n",
       "    </tr>\n",
       "    <tr>\n",
       "      <th>average_speed</th>\n",
       "      <td>10323.0</td>\n",
       "      <td>57.749718</td>\n",
       "      <td>5.323657</td>\n",
       "      <td>32.22</td>\n",
       "      <td>53.590</td>\n",
       "      <td>57.06</td>\n",
       "      <td>60.815</td>\n",
       "      <td>77.42</td>\n",
       "    </tr>\n",
       "    <tr>\n",
       "      <th>avg_number_of_vehicles</th>\n",
       "      <td>10323.0</td>\n",
       "      <td>82.577765</td>\n",
       "      <td>34.298380</td>\n",
       "      <td>11.00</td>\n",
       "      <td>50.320</td>\n",
       "      <td>85.43</td>\n",
       "      <td>111.710</td>\n",
       "      <td>167.80</td>\n",
       "    </tr>\n",
       "    <tr>\n",
       "      <th>maximum_speed</th>\n",
       "      <td>10323.0</td>\n",
       "      <td>195.445607</td>\n",
       "      <td>15.679680</td>\n",
       "      <td>84.00</td>\n",
       "      <td>186.000</td>\n",
       "      <td>195.00</td>\n",
       "      <td>204.000</td>\n",
       "      <td>255.00</td>\n",
       "    </tr>\n",
       "    <tr>\n",
       "      <th>average_felt_temperature</th>\n",
       "      <td>10323.0</td>\n",
       "      <td>14.083199</td>\n",
       "      <td>8.268232</td>\n",
       "      <td>-5.48</td>\n",
       "      <td>7.380</td>\n",
       "      <td>12.94</td>\n",
       "      <td>21.410</td>\n",
       "      <td>33.79</td>\n",
       "    </tr>\n",
       "    <tr>\n",
       "      <th>average_road_temperature</th>\n",
       "      <td>10323.0</td>\n",
       "      <td>17.588540</td>\n",
       "      <td>11.100819</td>\n",
       "      <td>-26.18</td>\n",
       "      <td>9.100</td>\n",
       "      <td>14.61</td>\n",
       "      <td>24.890</td>\n",
       "      <td>53.45</td>\n",
       "    </tr>\n",
       "    <tr>\n",
       "      <th>minimum_felt_temperature</th>\n",
       "      <td>10323.0</td>\n",
       "      <td>8.992021</td>\n",
       "      <td>8.518939</td>\n",
       "      <td>-13.47</td>\n",
       "      <td>2.450</td>\n",
       "      <td>7.93</td>\n",
       "      <td>16.225</td>\n",
       "      <td>27.65</td>\n",
       "    </tr>\n",
       "    <tr>\n",
       "      <th>minimum_precipitation</th>\n",
       "      <td>10323.0</td>\n",
       "      <td>0.000068</td>\n",
       "      <td>0.004017</td>\n",
       "      <td>0.00</td>\n",
       "      <td>0.000</td>\n",
       "      <td>0.00</td>\n",
       "      <td>0.000</td>\n",
       "      <td>0.34</td>\n",
       "    </tr>\n",
       "    <tr>\n",
       "      <th>maximum_humidity</th>\n",
       "      <td>10323.0</td>\n",
       "      <td>99.635471</td>\n",
       "      <td>2.392291</td>\n",
       "      <td>50.98</td>\n",
       "      <td>100.000</td>\n",
       "      <td>100.00</td>\n",
       "      <td>100.000</td>\n",
       "      <td>100.00</td>\n",
       "    </tr>\n",
       "    <tr>\n",
       "      <th>maximum_felt_temperature</th>\n",
       "      <td>10323.0</td>\n",
       "      <td>18.903763</td>\n",
       "      <td>8.636540</td>\n",
       "      <td>-5.17</td>\n",
       "      <td>12.270</td>\n",
       "      <td>17.49</td>\n",
       "      <td>25.410</td>\n",
       "      <td>62.43</td>\n",
       "    </tr>\n",
       "    <tr>\n",
       "      <th>maximum_precipitation</th>\n",
       "      <td>10323.0</td>\n",
       "      <td>52.935706</td>\n",
       "      <td>29.120393</td>\n",
       "      <td>0.00</td>\n",
       "      <td>60.000</td>\n",
       "      <td>60.00</td>\n",
       "      <td>60.000</td>\n",
       "      <td>166.60</td>\n",
       "    </tr>\n",
       "    <tr>\n",
       "      <th>maximum_temperature</th>\n",
       "      <td>10323.0</td>\n",
       "      <td>16.799194</td>\n",
       "      <td>7.706062</td>\n",
       "      <td>-3.22</td>\n",
       "      <td>10.510</td>\n",
       "      <td>15.81</td>\n",
       "      <td>23.310</td>\n",
       "      <td>36.66</td>\n",
       "    </tr>\n",
       "    <tr>\n",
       "      <th>average_humidity</th>\n",
       "      <td>10323.0</td>\n",
       "      <td>76.661719</td>\n",
       "      <td>14.177769</td>\n",
       "      <td>30.67</td>\n",
       "      <td>67.040</td>\n",
       "      <td>79.16</td>\n",
       "      <td>88.590</td>\n",
       "      <td>100.00</td>\n",
       "    </tr>\n",
       "    <tr>\n",
       "      <th>average_wind</th>\n",
       "      <td>10323.0</td>\n",
       "      <td>2.423349</td>\n",
       "      <td>1.171780</td>\n",
       "      <td>0.00</td>\n",
       "      <td>1.420</td>\n",
       "      <td>2.23</td>\n",
       "      <td>3.240</td>\n",
       "      <td>7.49</td>\n",
       "    </tr>\n",
       "    <tr>\n",
       "      <th>average_directionofwind</th>\n",
       "      <td>10323.0</td>\n",
       "      <td>147.324974</td>\n",
       "      <td>49.237736</td>\n",
       "      <td>7.00</td>\n",
       "      <td>98.285</td>\n",
       "      <td>146.60</td>\n",
       "      <td>190.770</td>\n",
       "      <td>354.00</td>\n",
       "    </tr>\n",
       "    <tr>\n",
       "      <th>minimum_temperature</th>\n",
       "      <td>10323.0</td>\n",
       "      <td>10.271506</td>\n",
       "      <td>7.098408</td>\n",
       "      <td>-7.55</td>\n",
       "      <td>4.990</td>\n",
       "      <td>9.28</td>\n",
       "      <td>16.110</td>\n",
       "      <td>27.79</td>\n",
       "    </tr>\n",
       "    <tr>\n",
       "      <th>average_temperature</th>\n",
       "      <td>10323.0</td>\n",
       "      <td>13.891180</td>\n",
       "      <td>7.359825</td>\n",
       "      <td>-3.77</td>\n",
       "      <td>8.060</td>\n",
       "      <td>12.80</td>\n",
       "      <td>20.240</td>\n",
       "      <td>32.40</td>\n",
       "    </tr>\n",
       "    <tr>\n",
       "      <th>maximum_road_temperature</th>\n",
       "      <td>10323.0</td>\n",
       "      <td>24.246517</td>\n",
       "      <td>13.950269</td>\n",
       "      <td>-4.50</td>\n",
       "      <td>13.100</td>\n",
       "      <td>19.70</td>\n",
       "      <td>33.100</td>\n",
       "      <td>79.80</td>\n",
       "    </tr>\n",
       "    <tr>\n",
       "      <th>minimum_humidity</th>\n",
       "      <td>10323.0</td>\n",
       "      <td>39.615785</td>\n",
       "      <td>29.394669</td>\n",
       "      <td>0.81</td>\n",
       "      <td>0.880</td>\n",
       "      <td>46.38</td>\n",
       "      <td>64.830</td>\n",
       "      <td>100.00</td>\n",
       "    </tr>\n",
       "    <tr>\n",
       "      <th>minimum_directionofwind</th>\n",
       "      <td>10323.0</td>\n",
       "      <td>1.234234</td>\n",
       "      <td>11.422882</td>\n",
       "      <td>0.00</td>\n",
       "      <td>0.000</td>\n",
       "      <td>0.00</td>\n",
       "      <td>1.000</td>\n",
       "      <td>354.00</td>\n",
       "    </tr>\n",
       "    <tr>\n",
       "      <th>minimum_wind</th>\n",
       "      <td>10323.0</td>\n",
       "      <td>0.018967</td>\n",
       "      <td>0.218822</td>\n",
       "      <td>0.00</td>\n",
       "      <td>0.000</td>\n",
       "      <td>0.00</td>\n",
       "      <td>0.000</td>\n",
       "      <td>7.49</td>\n",
       "    </tr>\n",
       "    <tr>\n",
       "      <th>maximum_directionofwind</th>\n",
       "      <td>10323.0</td>\n",
       "      <td>354.909232</td>\n",
       "      <td>15.372391</td>\n",
       "      <td>7.00</td>\n",
       "      <td>355.000</td>\n",
       "      <td>355.00</td>\n",
       "      <td>358.000</td>\n",
       "      <td>360.00</td>\n",
       "    </tr>\n",
       "    <tr>\n",
       "      <th>minimum_road_temperature</th>\n",
       "      <td>10323.0</td>\n",
       "      <td>10.043626</td>\n",
       "      <td>15.073046</td>\n",
       "      <td>-999.00</td>\n",
       "      <td>3.100</td>\n",
       "      <td>9.40</td>\n",
       "      <td>16.800</td>\n",
       "      <td>48.10</td>\n",
       "    </tr>\n",
       "    <tr>\n",
       "      <th>maximum_wind</th>\n",
       "      <td>10323.0</td>\n",
       "      <td>8.323107</td>\n",
       "      <td>3.741121</td>\n",
       "      <td>0.00</td>\n",
       "      <td>5.330</td>\n",
       "      <td>7.65</td>\n",
       "      <td>10.655</td>\n",
       "      <td>25.65</td>\n",
       "    </tr>\n",
       "    <tr>\n",
       "      <th>average_precipitation</th>\n",
       "      <td>10323.0</td>\n",
       "      <td>1.255999</td>\n",
       "      <td>1.341602</td>\n",
       "      <td>0.00</td>\n",
       "      <td>0.380</td>\n",
       "      <td>1.05</td>\n",
       "      <td>1.740</td>\n",
       "      <td>18.12</td>\n",
       "    </tr>\n",
       "  </tbody>\n",
       "</table>\n",
       "</div>"
      ],
      "text/plain": [
       "                            count        mean         std     min      25%  \\\n",
       "max_number_of_vehicles    10323.0  564.932481  318.729129   11.00  270.000   \n",
       "minimum_speed             10323.0    3.312990    2.257879    0.00    1.000   \n",
       "min_number_of_vehicles    10323.0   11.000000    0.000000   11.00   11.000   \n",
       "average_speed             10323.0   57.749718    5.323657   32.22   53.590   \n",
       "avg_number_of_vehicles    10323.0   82.577765   34.298380   11.00   50.320   \n",
       "maximum_speed             10323.0  195.445607   15.679680   84.00  186.000   \n",
       "average_felt_temperature  10323.0   14.083199    8.268232   -5.48    7.380   \n",
       "average_road_temperature  10323.0   17.588540   11.100819  -26.18    9.100   \n",
       "minimum_felt_temperature  10323.0    8.992021    8.518939  -13.47    2.450   \n",
       "minimum_precipitation     10323.0    0.000068    0.004017    0.00    0.000   \n",
       "maximum_humidity          10323.0   99.635471    2.392291   50.98  100.000   \n",
       "maximum_felt_temperature  10323.0   18.903763    8.636540   -5.17   12.270   \n",
       "maximum_precipitation     10323.0   52.935706   29.120393    0.00   60.000   \n",
       "maximum_temperature       10323.0   16.799194    7.706062   -3.22   10.510   \n",
       "average_humidity          10323.0   76.661719   14.177769   30.67   67.040   \n",
       "average_wind              10323.0    2.423349    1.171780    0.00    1.420   \n",
       "average_directionofwind   10323.0  147.324974   49.237736    7.00   98.285   \n",
       "minimum_temperature       10323.0   10.271506    7.098408   -7.55    4.990   \n",
       "average_temperature       10323.0   13.891180    7.359825   -3.77    8.060   \n",
       "maximum_road_temperature  10323.0   24.246517   13.950269   -4.50   13.100   \n",
       "minimum_humidity          10323.0   39.615785   29.394669    0.81    0.880   \n",
       "minimum_directionofwind   10323.0    1.234234   11.422882    0.00    0.000   \n",
       "minimum_wind              10323.0    0.018967    0.218822    0.00    0.000   \n",
       "maximum_directionofwind   10323.0  354.909232   15.372391    7.00  355.000   \n",
       "minimum_road_temperature  10323.0   10.043626   15.073046 -999.00    3.100   \n",
       "maximum_wind              10323.0    8.323107    3.741121    0.00    5.330   \n",
       "average_precipitation     10323.0    1.255999    1.341602    0.00    0.380   \n",
       "\n",
       "                             50%      75%      max  \n",
       "max_number_of_vehicles    533.00  857.000  1351.00  \n",
       "minimum_speed               3.00    6.000    38.00  \n",
       "min_number_of_vehicles     11.00   11.000    11.00  \n",
       "average_speed              57.06   60.815    77.42  \n",
       "avg_number_of_vehicles     85.43  111.710   167.80  \n",
       "maximum_speed             195.00  204.000   255.00  \n",
       "average_felt_temperature   12.94   21.410    33.79  \n",
       "average_road_temperature   14.61   24.890    53.45  \n",
       "minimum_felt_temperature    7.93   16.225    27.65  \n",
       "minimum_precipitation       0.00    0.000     0.34  \n",
       "maximum_humidity          100.00  100.000   100.00  \n",
       "maximum_felt_temperature   17.49   25.410    62.43  \n",
       "maximum_precipitation      60.00   60.000   166.60  \n",
       "maximum_temperature        15.81   23.310    36.66  \n",
       "average_humidity           79.16   88.590   100.00  \n",
       "average_wind                2.23    3.240     7.49  \n",
       "average_directionofwind   146.60  190.770   354.00  \n",
       "minimum_temperature         9.28   16.110    27.79  \n",
       "average_temperature        12.80   20.240    32.40  \n",
       "maximum_road_temperature   19.70   33.100    79.80  \n",
       "minimum_humidity           46.38   64.830   100.00  \n",
       "minimum_directionofwind     0.00    1.000   354.00  \n",
       "minimum_wind                0.00    0.000     7.49  \n",
       "maximum_directionofwind   355.00  358.000   360.00  \n",
       "minimum_road_temperature    9.40   16.800    48.10  \n",
       "maximum_wind                7.65   10.655    25.65  \n",
       "average_precipitation       1.05    1.740    18.12  "
      ]
     },
     "execution_count": 7,
     "metadata": {},
     "output_type": "execute_result"
    }
   ],
   "source": [
    "df.describe().T"
   ]
  },
  {
   "cell_type": "code",
   "execution_count": 8,
   "metadata": {},
   "outputs": [],
   "source": [
    "import matplotlib.pyplot as plt\n",
    "import seaborn as sns"
   ]
  },
  {
   "cell_type": "code",
   "execution_count": 9,
   "metadata": {},
   "outputs": [
    {
     "data": {
      "text/plain": [
       "<AxesSubplot:xlabel='date'>"
      ]
     },
     "execution_count": 9,
     "metadata": {},
     "output_type": "execute_result"
    },
    {
     "data": {
      "image/png": "[encoded data removed]",
      "text/plain": [
       "<Figure size 432x288 with 1 Axes>"
      ]
     },
     "metadata": {
      "needs_background": "light"
     },
     "output_type": "display_data"
    }
   ],
   "source": [
    "#Observe monthly trend\n",
    "df.set_index('date')['average_temperature'].rolling(24*30).mean().plot()"
   ]
  },
  {
   "cell_type": "code",
   "execution_count": 10,
   "metadata": {},
   "outputs": [
    {
     "data": {
      "text/plain": [
       "<AxesSubplot:xlabel='date'>"
      ]
     },
     "execution_count": 10,
     "metadata": {},
     "output_type": "execute_result"
    },
    {
     "data": {
      "image/png": "[encoded data removed]",
      "text/plain": [
       "<Figure size 432x288 with 1 Axes>"
      ]
     },
     "metadata": {
      "needs_background": "light"
     },
     "output_type": "display_data"
    }
   ],
   "source": [
    "df.set_index('date')[:100][['average_road_temperature', 'avg_number_of_vehicles']].plot()"
   ]
  },
  {
   "cell_type": "code",
   "execution_count": 11,
   "metadata": {},
   "outputs": [
    {
     "data": {
      "image/png": "[encoded data removed]",
      "text/plain": [
       "<Figure size 432x288 with 1 Axes>"
      ]
     },
     "metadata": {
      "needs_background": "light"
     },
     "output_type": "display_data"
    }
   ],
   "source": [
    "plt.plot(np.log(df.set_index('date')[:100]['avg_number_of_vehicles']))\n",
    "plt.plot(np.log(df.set_index('date')[:100]['average_road_temperature']))\n",
    "plt.xticks(rotation=45)\n",
    "plt.show()"
   ]
  },
  {
   "cell_type": "code",
   "execution_count": 12,
   "metadata": {},
   "outputs": [],
   "source": [
    "df['month'] = df['date'].dt.month\n",
    "df['dayofweek'] = df['date'].dt.dayofweek\n",
    "df['hour'] = df['date'].dt.hour"
   ]
  },
  {
   "cell_type": "code",
   "execution_count": 13,
   "metadata": {},
   "outputs": [
    {
     "data": {
      "text/plain": [
       "<AxesSubplot:xlabel='hour'>"
      ]
     },
     "execution_count": 13,
     "metadata": {},
     "output_type": "execute_result"
    },
    {
     "data": {
      "image/png": "[encoded data removed]",
      "text/plain": [
       "<Figure size 432x288 with 1 Axes>"
      ]
     },
     "metadata": {
      "needs_background": "light"
     },
     "output_type": "display_data"
    }
   ],
   "source": [
    "df.groupby('hour').avg_number_of_vehicles.mean().plot(kind='bar')"
   ]
  },
  {
   "cell_type": "code",
   "execution_count": 14,
   "metadata": {},
   "outputs": [
    {
     "data": {
      "text/plain": [
       "<AxesSubplot:xlabel='dayofweek'>"
      ]
     },
     "execution_count": 14,
     "metadata": {},
     "output_type": "execute_result"
    },
    {
     "data": {
      "image/png": "[encoded data removed]",
      "text/plain": [
       "<Figure size 432x288 with 1 Axes>"
      ]
     },
     "metadata": {
      "needs_background": "light"
     },
     "output_type": "display_data"
    }
   ],
   "source": [
    "df.groupby('dayofweek').avg_number_of_vehicles.mean().plot(kind='bar')"
   ]
  },
  {
   "cell_type": "code",
   "execution_count": 15,
   "metadata": {},
   "outputs": [
    {
     "data": {
      "image/png": "[encoded data removed]",
      "text/plain": [
       "<Figure size 432x288 with 1 Axes>"
      ]
     },
     "metadata": {
      "needs_background": "light"
     },
     "output_type": "display_data"
    }
   ],
   "source": [
    "df.query('date < 2021').groupby('month').avg_number_of_vehicles.mean().plot(kind='bar')\n",
    "plt.show()"
   ]
  },
  {
   "cell_type": "markdown",
   "metadata": {},
   "source": [
    "### Time Series Prediction"
   ]
  },
  {
   "cell_type": "code",
   "execution_count": 16,
   "metadata": {},
   "outputs": [
    {
     "data": {
      "text/plain": [
       "Index(['max_number_of_vehicles', 'minimum_speed', 'min_number_of_vehicles',\n",
       "       'average_speed', 'avg_number_of_vehicles', 'maximum_speed', 'date',\n",
       "       'average_felt_temperature', 'average_road_temperature',\n",
       "       'minimum_felt_temperature', 'minimum_precipitation', 'maximum_humidity',\n",
       "       'maximum_felt_temperature', 'maximum_precipitation',\n",
       "       'maximum_temperature', 'average_humidity', 'average_wind',\n",
       "       'average_directionofwind', 'minimum_temperature', 'average_temperature',\n",
       "       'maximum_road_temperature', 'minimum_humidity',\n",
       "       'minimum_directionofwind', 'minimum_wind', 'maximum_directionofwind',\n",
       "       'minimum_road_temperature', 'maximum_wind', 'average_precipitation',\n",
       "       'month', 'dayofweek', 'hour'],\n",
       "      dtype='object')"
      ]
     },
     "execution_count": 16,
     "metadata": {},
     "output_type": "execute_result"
    }
   ],
   "source": [
    "df.columns"
   ]
  },
  {
   "cell_type": "code",
   "execution_count": 21,
   "metadata": {},
   "outputs": [
    {
     "data": {
      "image/png": "[encoded data removed]",
      "text/plain": [
       "<Figure size 432x288 with 1 Axes>"
      ]
     },
     "metadata": {
      "needs_background": "light"
     },
     "output_type": "display_data"
    }
   ],
   "source": [
    "plt.plot(np.log(df.set_index('date')[:100]['avg_number_of_vehicles']))\n",
    "plt.plot(np.log(df.set_index('date')[:100]['average_precipitation']))\n",
    "plt.xticks(rotation=45)\n",
    "plt.legend(['#vehicles','precipitation'])\n",
    "plt.show()"
   ]
  },
  {
   "cell_type": "code",
   "execution_count": 78,
   "metadata": {},
   "outputs": [
    {
     "data": {
      "text/plain": [
       "(0.04110764602676027, 2.9423111873128992e-05)"
      ]
     },
     "execution_count": 78,
     "metadata": {},
     "output_type": "execute_result"
    }
   ],
   "source": [
    "from scipy.stats import pearsonr, spearmanr\n",
    "num_vehicles = df.set_index('date')['avg_number_of_vehicles']\n",
    "precip = df.set_index('date')['average_precipitation']\n",
    "pearsonr(num_vehicles, precip)"
   ]
  },
  {
   "cell_type": "code",
   "execution_count": 79,
   "metadata": {},
   "outputs": [
    {
     "data": {
      "text/plain": [
       "SpearmanrResult(correlation=0.2097336456766224, pvalue=5.663722449665168e-103)"
      ]
     },
     "execution_count": 79,
     "metadata": {},
     "output_type": "execute_result"
    }
   ],
   "source": [
    "spearmanr(num_vehicles, precip)"
   ]
  },
  {
   "cell_type": "code",
   "execution_count": 80,
   "metadata": {},
   "outputs": [],
   "source": [
    "#Test if stationary (Dicky Fuller test) - h0: Time series data is not stationary\n",
    "from statsmodels.tsa.stattools import adfuller\n",
    "results = adfuller(df[\"average_temperature\"])"
   ]
  },
  {
   "cell_type": "code",
   "execution_count": 81,
   "metadata": {},
   "outputs": [
    {
     "name": "stdout",
     "output_type": "stream",
     "text": [
      "h0: Time series data is not stationary\n",
      "Test Statistic: -3.8717903416163604\n",
      "P-Value: 0.0022525473716549114\n",
      "Critical Test stats for intervals: {'1%': -3.430986091914247, '5%': -2.8618211156400086, '10%': -2.566919632711204}\n",
      "\n"
     ]
    }
   ],
   "source": [
    "print(\"h0: Time series data is not stationary\")\n",
    "print(f\"Test Statistic: {results[0]}\\nP-Value: {results[1]}\\nCritical Test stats for intervals: {results[4]}\\n\")"
   ]
  },
  {
   "cell_type": "code",
   "execution_count": 88,
   "metadata": {},
   "outputs": [
    {
     "data": {
      "text/plain": [
       "<AxesSubplot:xlabel='date'>"
      ]
     },
     "execution_count": 88,
     "metadata": {},
     "output_type": "execute_result"
    },
    {
     "data": {
      "image/png": "[encoded data removed]",
      "text/plain": [
       "<Figure size 432x288 with 1 Axes>"
      ]
     },
     "metadata": {
      "needs_background": "light"
     },
     "output_type": "display_data"
    }
   ],
   "source": [
    "diff1 = df.set_index('date')['average_temperature'].diff()\n",
    "diff1.plot()"
   ]
  },
  {
   "cell_type": "code",
   "execution_count": 90,
   "metadata": {},
   "outputs": [
    {
     "name": "stdout",
     "output_type": "stream",
     "text": [
      "h0: Time series data is not stationary\n",
      "Test Statistic: -18.854728727537132\n",
      "P-Value: 0.0\n",
      "Critical Test stats for intervals: {'1%': -3.430986153794312, '5%': -2.861821142984471, '10%': -2.5669196472666678}\n",
      "\n"
     ]
    }
   ],
   "source": [
    "results = adfuller(diff1.dropna())\n",
    "print(\"h0: Time series data is not stationary\")\n",
    "print(f\"Test Statistic: {results[0]}\\nP-Value: {results[1]}\\nCritical Test stats for intervals: {results[4]}\\n\")"
   ]
  },
  {
   "cell_type": "code",
   "execution_count": 94,
   "metadata": {},
   "outputs": [
    {
     "name": "stdout",
     "output_type": "stream",
     "text": [
      "Variable       Type         Data/Info\n",
      "-------------------------------------\n",
      "adfuller       function     <function adfuller at 0x0000023882B6EC10>\n",
      "df             DataFrame           max_number_of_vehi<...>[10323 rows x 31 columns]\n",
      "diff1          Series       date\\n2020-01-01 00:00:00<...>th: 10323, dtype: float64\n",
      "np             module       <module 'numpy' from 'C:\\<...>ges\\\\numpy\\\\__init__.py'>\n",
      "num_vehicles   Series       date\\n2020-01-01 00:00:00<...>th: 10323, dtype: float64\n",
      "pd             module       <module 'pandas' from 'C:<...>es\\\\pandas\\\\__init__.py'>\n",
      "pearsonr       function     <function pearsonr at 0x000002387704ED30>\n",
      "plt            module       <module 'matplotlib.pyplo<...>\\\\matplotlib\\\\pyplot.py'>\n",
      "precip         Series       date\\n2020-01-01 00:00:00<...>th: 10323, dtype: float64\n",
      "results        tuple        n=6\n",
      "sns            module       <module 'seaborn' from 'C<...>s\\\\seaborn\\\\__init__.py'>\n",
      "spearmanr      function     <function spearmanr at 0x0000023877057670>\n",
      "traffic        DataFrame           max_number_of_vehi<...>n[11523 rows x 7 columns]\n",
      "weather        DataFrame           average_felt_tempe<...>[10527 rows x 22 columns]\n"
     ]
    }
   ],
   "source": [
    "whos"
   ]
  },
  {
   "cell_type": "code",
   "execution_count": 97,
   "metadata": {},
   "outputs": [],
   "source": [
    "from statsmodels.tsa.seasonal import seasonal_decompose"
   ]
  },
  {
   "cell_type": "code",
   "execution_count": 108,
   "metadata": {},
   "outputs": [],
   "source": [
    "ts = df.set_index('date')\n",
    "ts.sort_index(inplace=True)"
   ]
  },
  {
   "cell_type": "code",
   "execution_count": 116,
   "metadata": {
    "scrolled": true
   },
   "outputs": [],
   "source": [
    "results = seasonal_decompose(ts['average_temperature'], period=1)"
   ]
  },
  {
   "cell_type": "code",
   "execution_count": null,
   "metadata": {},
   "outputs": [],
   "source": []
  },
  {
   "cell_type": "code",
   "execution_count": null,
   "metadata": {},
   "outputs": [],
   "source": []
  }
 ],
 "metadata": {
  "kernelspec": {
   "display_name": "Python 3 (ipykernel)",
   "language": "python",
   "name": "python3"
  },
  "language_info": {
   "codemirror_mode": {
    "name": "ipython",
    "version": 3
   },
   "file_extension": ".py",
   "mimetype": "text/x-python",
   "name": "python",
   "nbconvert_exporter": "python",
   "pygments_lexer": "ipython3",
   "version": "3.9.2"
  }
 },
 "nbformat": 4,
 "nbformat_minor": 4
}
